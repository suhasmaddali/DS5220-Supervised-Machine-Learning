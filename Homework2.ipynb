{
 "cells": [
  {
   "cell_type": "markdown",
   "id": "30ffd4e1",
   "metadata": {},
   "source": [
    "## Question 1"
   ]
  },
  {
   "cell_type": "code",
   "execution_count": 880,
   "id": "acab0682",
   "metadata": {},
   "outputs": [],
   "source": [
    "import pandas as pd\n",
    "import numpy as np\n",
    "from sklearn import datasets\n",
    "import seaborn as sns\n",
    "import matplotlib.pyplot as plt\n",
    "import warnings\n",
    "from sklearn.model_selection import train_test_split\n",
    "from sklearn import utils\n",
    "from sklearn.linear_model import LinearRegression\n",
    "from sklearn.model_selection import train_test_split\n",
    "from sklearn.preprocessing import PolynomialFeatures\n",
    "import statsmodels.api as sm\n",
    "from sklearn.linear_model import Lasso\n",
    "import math\n",
    "from sklearn.metrics import r2_score\n",
    "from sklearn.linear_model import Ridge\n",
    "from matplotlib.pyplot import figure\n",
    "from sklearn.decomposition import PCA\n",
    "from sklearn.cross_decomposition import PLSRegression\n",
    "from sklearn.neighbors import KNeighborsClassifier\n",
    "from sklearn.metrics import accuracy_score, log_loss, f1_score, zero_one_loss, mean_squared_error\n",
    "warnings.filterwarnings(\"ignore\")"
   ]
  },
  {
   "cell_type": "code",
   "execution_count": 881,
   "id": "3f99319b",
   "metadata": {},
   "outputs": [],
   "source": [
    "df = pd.read_csv('ISLR-python/Notebooks/Data/Auto.csv')"
   ]
  },
  {
   "cell_type": "code",
   "execution_count": 882,
   "id": "6e548090",
   "metadata": {},
   "outputs": [
    {
     "data": {
      "text/html": [
       "<div>\n",
       "<style scoped>\n",
       "    .dataframe tbody tr th:only-of-type {\n",
       "        vertical-align: middle;\n",
       "    }\n",
       "\n",
       "    .dataframe tbody tr th {\n",
       "        vertical-align: top;\n",
       "    }\n",
       "\n",
       "    .dataframe thead th {\n",
       "        text-align: right;\n",
       "    }\n",
       "</style>\n",
       "<table border=\"1\" class=\"dataframe\">\n",
       "  <thead>\n",
       "    <tr style=\"text-align: right;\">\n",
       "      <th></th>\n",
       "      <th>mpg</th>\n",
       "      <th>cylinders</th>\n",
       "      <th>displacement</th>\n",
       "      <th>horsepower</th>\n",
       "      <th>weight</th>\n",
       "      <th>acceleration</th>\n",
       "      <th>year</th>\n",
       "      <th>origin</th>\n",
       "      <th>name</th>\n",
       "    </tr>\n",
       "  </thead>\n",
       "  <tbody>\n",
       "    <tr>\n",
       "      <th>0</th>\n",
       "      <td>18.0</td>\n",
       "      <td>8</td>\n",
       "      <td>307.0</td>\n",
       "      <td>130</td>\n",
       "      <td>3504</td>\n",
       "      <td>12.0</td>\n",
       "      <td>70</td>\n",
       "      <td>1</td>\n",
       "      <td>chevrolet chevelle malibu</td>\n",
       "    </tr>\n",
       "    <tr>\n",
       "      <th>1</th>\n",
       "      <td>15.0</td>\n",
       "      <td>8</td>\n",
       "      <td>350.0</td>\n",
       "      <td>165</td>\n",
       "      <td>3693</td>\n",
       "      <td>11.5</td>\n",
       "      <td>70</td>\n",
       "      <td>1</td>\n",
       "      <td>buick skylark 320</td>\n",
       "    </tr>\n",
       "    <tr>\n",
       "      <th>2</th>\n",
       "      <td>18.0</td>\n",
       "      <td>8</td>\n",
       "      <td>318.0</td>\n",
       "      <td>150</td>\n",
       "      <td>3436</td>\n",
       "      <td>11.0</td>\n",
       "      <td>70</td>\n",
       "      <td>1</td>\n",
       "      <td>plymouth satellite</td>\n",
       "    </tr>\n",
       "    <tr>\n",
       "      <th>3</th>\n",
       "      <td>16.0</td>\n",
       "      <td>8</td>\n",
       "      <td>304.0</td>\n",
       "      <td>150</td>\n",
       "      <td>3433</td>\n",
       "      <td>12.0</td>\n",
       "      <td>70</td>\n",
       "      <td>1</td>\n",
       "      <td>amc rebel sst</td>\n",
       "    </tr>\n",
       "    <tr>\n",
       "      <th>4</th>\n",
       "      <td>17.0</td>\n",
       "      <td>8</td>\n",
       "      <td>302.0</td>\n",
       "      <td>140</td>\n",
       "      <td>3449</td>\n",
       "      <td>10.5</td>\n",
       "      <td>70</td>\n",
       "      <td>1</td>\n",
       "      <td>ford torino</td>\n",
       "    </tr>\n",
       "  </tbody>\n",
       "</table>\n",
       "</div>"
      ],
      "text/plain": [
       "    mpg  cylinders  displacement horsepower  weight  acceleration  year  \\\n",
       "0  18.0          8         307.0        130    3504          12.0    70   \n",
       "1  15.0          8         350.0        165    3693          11.5    70   \n",
       "2  18.0          8         318.0        150    3436          11.0    70   \n",
       "3  16.0          8         304.0        150    3433          12.0    70   \n",
       "4  17.0          8         302.0        140    3449          10.5    70   \n",
       "\n",
       "   origin                       name  \n",
       "0       1  chevrolet chevelle malibu  \n",
       "1       1          buick skylark 320  \n",
       "2       1         plymouth satellite  \n",
       "3       1              amc rebel sst  \n",
       "4       1                ford torino  "
      ]
     },
     "execution_count": 882,
     "metadata": {},
     "output_type": "execute_result"
    }
   ],
   "source": [
    "df.head()"
   ]
  },
  {
   "cell_type": "code",
   "execution_count": 883,
   "id": "64c124ff",
   "metadata": {},
   "outputs": [],
   "source": [
    "def zero_one_function(data, median):\n",
    "    \"\"\"\n",
    "    This function is created so that it would append 1 if a particular threshold is met \n",
    "    and appends 0 otherwise. It would return a list of 1's and 0's respectively.\n",
    "    \"\"\"\n",
    "    new_list = []\n",
    "    for values in data:\n",
    "        if values > median:\n",
    "            new_list.append(1)\n",
    "        else:\n",
    "            new_list.append(0)\n",
    "    return new_list"
   ]
  },
  {
   "cell_type": "code",
   "execution_count": 884,
   "id": "387791b3",
   "metadata": {},
   "outputs": [],
   "source": [
    "mpg01 = zero_one_function(df['mpg'], median = np.median(df['mpg']))"
   ]
  },
  {
   "cell_type": "code",
   "execution_count": 885,
   "id": "d83377da",
   "metadata": {},
   "outputs": [],
   "source": [
    "df_mpg01 = pd.DataFrame(mpg01, columns = ['mpg01'])"
   ]
  },
  {
   "cell_type": "code",
   "execution_count": 886,
   "id": "ebe40093",
   "metadata": {},
   "outputs": [],
   "source": [
    "df = pd.concat([df, df_mpg01], axis = 1)"
   ]
  },
  {
   "cell_type": "code",
   "execution_count": 887,
   "id": "816e718b",
   "metadata": {},
   "outputs": [
    {
     "data": {
      "text/html": [
       "<div>\n",
       "<style scoped>\n",
       "    .dataframe tbody tr th:only-of-type {\n",
       "        vertical-align: middle;\n",
       "    }\n",
       "\n",
       "    .dataframe tbody tr th {\n",
       "        vertical-align: top;\n",
       "    }\n",
       "\n",
       "    .dataframe thead th {\n",
       "        text-align: right;\n",
       "    }\n",
       "</style>\n",
       "<table border=\"1\" class=\"dataframe\">\n",
       "  <thead>\n",
       "    <tr style=\"text-align: right;\">\n",
       "      <th></th>\n",
       "      <th>mpg</th>\n",
       "      <th>cylinders</th>\n",
       "      <th>displacement</th>\n",
       "      <th>horsepower</th>\n",
       "      <th>weight</th>\n",
       "      <th>acceleration</th>\n",
       "      <th>year</th>\n",
       "      <th>origin</th>\n",
       "      <th>name</th>\n",
       "      <th>mpg01</th>\n",
       "    </tr>\n",
       "  </thead>\n",
       "  <tbody>\n",
       "    <tr>\n",
       "      <th>0</th>\n",
       "      <td>18.0</td>\n",
       "      <td>8</td>\n",
       "      <td>307.0</td>\n",
       "      <td>130</td>\n",
       "      <td>3504</td>\n",
       "      <td>12.0</td>\n",
       "      <td>70</td>\n",
       "      <td>1</td>\n",
       "      <td>chevrolet chevelle malibu</td>\n",
       "      <td>0</td>\n",
       "    </tr>\n",
       "    <tr>\n",
       "      <th>1</th>\n",
       "      <td>15.0</td>\n",
       "      <td>8</td>\n",
       "      <td>350.0</td>\n",
       "      <td>165</td>\n",
       "      <td>3693</td>\n",
       "      <td>11.5</td>\n",
       "      <td>70</td>\n",
       "      <td>1</td>\n",
       "      <td>buick skylark 320</td>\n",
       "      <td>0</td>\n",
       "    </tr>\n",
       "    <tr>\n",
       "      <th>2</th>\n",
       "      <td>18.0</td>\n",
       "      <td>8</td>\n",
       "      <td>318.0</td>\n",
       "      <td>150</td>\n",
       "      <td>3436</td>\n",
       "      <td>11.0</td>\n",
       "      <td>70</td>\n",
       "      <td>1</td>\n",
       "      <td>plymouth satellite</td>\n",
       "      <td>0</td>\n",
       "    </tr>\n",
       "    <tr>\n",
       "      <th>3</th>\n",
       "      <td>16.0</td>\n",
       "      <td>8</td>\n",
       "      <td>304.0</td>\n",
       "      <td>150</td>\n",
       "      <td>3433</td>\n",
       "      <td>12.0</td>\n",
       "      <td>70</td>\n",
       "      <td>1</td>\n",
       "      <td>amc rebel sst</td>\n",
       "      <td>0</td>\n",
       "    </tr>\n",
       "    <tr>\n",
       "      <th>4</th>\n",
       "      <td>17.0</td>\n",
       "      <td>8</td>\n",
       "      <td>302.0</td>\n",
       "      <td>140</td>\n",
       "      <td>3449</td>\n",
       "      <td>10.5</td>\n",
       "      <td>70</td>\n",
       "      <td>1</td>\n",
       "      <td>ford torino</td>\n",
       "      <td>0</td>\n",
       "    </tr>\n",
       "  </tbody>\n",
       "</table>\n",
       "</div>"
      ],
      "text/plain": [
       "    mpg  cylinders  displacement horsepower  weight  acceleration  year  \\\n",
       "0  18.0          8         307.0        130    3504          12.0    70   \n",
       "1  15.0          8         350.0        165    3693          11.5    70   \n",
       "2  18.0          8         318.0        150    3436          11.0    70   \n",
       "3  16.0          8         304.0        150    3433          12.0    70   \n",
       "4  17.0          8         302.0        140    3449          10.5    70   \n",
       "\n",
       "   origin                       name  mpg01  \n",
       "0       1  chevrolet chevelle malibu      0  \n",
       "1       1          buick skylark 320      0  \n",
       "2       1         plymouth satellite      0  \n",
       "3       1              amc rebel sst      0  \n",
       "4       1                ford torino      0  "
      ]
     },
     "execution_count": 887,
     "metadata": {},
     "output_type": "execute_result"
    }
   ],
   "source": [
    "df.head()"
   ]
  },
  {
   "cell_type": "code",
   "execution_count": 888,
   "id": "8f2cd75a",
   "metadata": {},
   "outputs": [
    {
     "data": {
      "text/html": [
       "<div>\n",
       "<style scoped>\n",
       "    .dataframe tbody tr th:only-of-type {\n",
       "        vertical-align: middle;\n",
       "    }\n",
       "\n",
       "    .dataframe tbody tr th {\n",
       "        vertical-align: top;\n",
       "    }\n",
       "\n",
       "    .dataframe thead th {\n",
       "        text-align: right;\n",
       "    }\n",
       "</style>\n",
       "<table border=\"1\" class=\"dataframe\">\n",
       "  <thead>\n",
       "    <tr style=\"text-align: right;\">\n",
       "      <th></th>\n",
       "      <th>mpg</th>\n",
       "      <th>cylinders</th>\n",
       "      <th>displacement</th>\n",
       "      <th>weight</th>\n",
       "      <th>acceleration</th>\n",
       "      <th>year</th>\n",
       "      <th>origin</th>\n",
       "      <th>mpg01</th>\n",
       "    </tr>\n",
       "  </thead>\n",
       "  <tbody>\n",
       "    <tr>\n",
       "      <th>mpg</th>\n",
       "      <td>1.000000</td>\n",
       "      <td>-0.776260</td>\n",
       "      <td>-0.804443</td>\n",
       "      <td>-0.831739</td>\n",
       "      <td>0.422297</td>\n",
       "      <td>0.581469</td>\n",
       "      <td>0.563698</td>\n",
       "      <td>0.838239</td>\n",
       "    </tr>\n",
       "    <tr>\n",
       "      <th>cylinders</th>\n",
       "      <td>-0.776260</td>\n",
       "      <td>1.000000</td>\n",
       "      <td>0.950920</td>\n",
       "      <td>0.897017</td>\n",
       "      <td>-0.504061</td>\n",
       "      <td>-0.346717</td>\n",
       "      <td>-0.564972</td>\n",
       "      <td>-0.740327</td>\n",
       "    </tr>\n",
       "    <tr>\n",
       "      <th>displacement</th>\n",
       "      <td>-0.804443</td>\n",
       "      <td>0.950920</td>\n",
       "      <td>1.000000</td>\n",
       "      <td>0.933104</td>\n",
       "      <td>-0.544162</td>\n",
       "      <td>-0.369804</td>\n",
       "      <td>-0.610664</td>\n",
       "      <td>-0.738607</td>\n",
       "    </tr>\n",
       "    <tr>\n",
       "      <th>weight</th>\n",
       "      <td>-0.831739</td>\n",
       "      <td>0.897017</td>\n",
       "      <td>0.933104</td>\n",
       "      <td>1.000000</td>\n",
       "      <td>-0.419502</td>\n",
       "      <td>-0.307900</td>\n",
       "      <td>-0.581265</td>\n",
       "      <td>-0.745734</td>\n",
       "    </tr>\n",
       "    <tr>\n",
       "      <th>acceleration</th>\n",
       "      <td>0.422297</td>\n",
       "      <td>-0.504061</td>\n",
       "      <td>-0.544162</td>\n",
       "      <td>-0.419502</td>\n",
       "      <td>1.000000</td>\n",
       "      <td>0.282901</td>\n",
       "      <td>0.210084</td>\n",
       "      <td>0.322629</td>\n",
       "    </tr>\n",
       "    <tr>\n",
       "      <th>year</th>\n",
       "      <td>0.581469</td>\n",
       "      <td>-0.346717</td>\n",
       "      <td>-0.369804</td>\n",
       "      <td>-0.307900</td>\n",
       "      <td>0.282901</td>\n",
       "      <td>1.000000</td>\n",
       "      <td>0.184314</td>\n",
       "      <td>0.454108</td>\n",
       "    </tr>\n",
       "    <tr>\n",
       "      <th>origin</th>\n",
       "      <td>0.563698</td>\n",
       "      <td>-0.564972</td>\n",
       "      <td>-0.610664</td>\n",
       "      <td>-0.581265</td>\n",
       "      <td>0.210084</td>\n",
       "      <td>0.184314</td>\n",
       "      <td>1.000000</td>\n",
       "      <td>0.511393</td>\n",
       "    </tr>\n",
       "    <tr>\n",
       "      <th>mpg01</th>\n",
       "      <td>0.838239</td>\n",
       "      <td>-0.740327</td>\n",
       "      <td>-0.738607</td>\n",
       "      <td>-0.745734</td>\n",
       "      <td>0.322629</td>\n",
       "      <td>0.454108</td>\n",
       "      <td>0.511393</td>\n",
       "      <td>1.000000</td>\n",
       "    </tr>\n",
       "  </tbody>\n",
       "</table>\n",
       "</div>"
      ],
      "text/plain": [
       "                   mpg  cylinders  displacement    weight  acceleration  \\\n",
       "mpg           1.000000  -0.776260     -0.804443 -0.831739      0.422297   \n",
       "cylinders    -0.776260   1.000000      0.950920  0.897017     -0.504061   \n",
       "displacement -0.804443   0.950920      1.000000  0.933104     -0.544162   \n",
       "weight       -0.831739   0.897017      0.933104  1.000000     -0.419502   \n",
       "acceleration  0.422297  -0.504061     -0.544162 -0.419502      1.000000   \n",
       "year          0.581469  -0.346717     -0.369804 -0.307900      0.282901   \n",
       "origin        0.563698  -0.564972     -0.610664 -0.581265      0.210084   \n",
       "mpg01         0.838239  -0.740327     -0.738607 -0.745734      0.322629   \n",
       "\n",
       "                  year    origin     mpg01  \n",
       "mpg           0.581469  0.563698  0.838239  \n",
       "cylinders    -0.346717 -0.564972 -0.740327  \n",
       "displacement -0.369804 -0.610664 -0.738607  \n",
       "weight       -0.307900 -0.581265 -0.745734  \n",
       "acceleration  0.282901  0.210084  0.322629  \n",
       "year          1.000000  0.184314  0.454108  \n",
       "origin        0.184314  1.000000  0.511393  \n",
       "mpg01         0.454108  0.511393  1.000000  "
      ]
     },
     "execution_count": 888,
     "metadata": {},
     "output_type": "execute_result"
    }
   ],
   "source": [
    "df.corr()"
   ]
  },
  {
   "cell_type": "code",
   "execution_count": 889,
   "id": "131dacb0",
   "metadata": {},
   "outputs": [
    {
     "data": {
      "image/png": "[encoded data removed]",
      "text/plain": [
       "<Figure size 720x720 with 2 Axes>"
      ]
     },
     "metadata": {
      "needs_background": "light"
     },
     "output_type": "display_data"
    }
   ],
   "source": [
    "plt.figure(figsize = (10, 10))\n",
    "sns.heatmap(df.corr(), annot = True)\n",
    "plt.show()"
   ]
  },
  {
   "cell_type": "markdown",
   "id": "6c7ab6ab",
   "metadata": {},
   "source": [
    "<font size = \"5\"><b>Heatmap:</b></font>\n",
    "\n",
    "1. We can see the heatmap correlation matrix above with color coding. \n",
    "2. Higher the values of correlation between features, the lighter would be the colors used for their depiction. \n",
    "3. We see that cylinders, displacement and weight are negatively correlated with mpg01. \n",
    "4. We also see that acceleration is positively correlated with 'mpg01'."
   ]
  },
  {
   "cell_type": "code",
   "execution_count": 890,
   "id": "3fedd966",
   "metadata": {},
   "outputs": [],
   "source": [
    "def scatterplot_sns_function(x, y, hue, data, figsize = (10, 10), font_size = 15):\n",
    "    \"\"\"\n",
    "    This function would create scatterplot using seaborn library along with default size of the figure.\n",
    "    \"\"\"\n",
    "    plt.figure(figsize = figsize)\n",
    "    sns.scatterplot(x = x, y = y, hue = hue, data = data)\n",
    "    plt.title(\"{} Vs. {}\".format(x, y), fontsize = font_size)\n",
    "    plt.xlabel(\"{}\".format(x))\n",
    "    plt.ylabel(\"{}\".format(y))\n",
    "    plt.show()"
   ]
  },
  {
   "cell_type": "code",
   "execution_count": 891,
   "id": "20279110",
   "metadata": {},
   "outputs": [],
   "source": [
    "def boxplot_sns_function(data_x, data_y, data, fig_size = (10, 10), palette = 'viridis', font_size = 15):\n",
    "    \"\"\"\n",
    "    This function would generate boxplots from seaborn library by taking into account the figure size,\n",
    "    palette and data variables that we would be using for predictions. \n",
    "    \"\"\"\n",
    "    plt.figure(figsize = fig_size)\n",
    "    sns.boxplot(x = data_x, y = data_y, data = data, palette = palette)\n",
    "    plt.title(\"{} Vs. {}\".format(data_x, data_y), fontsize = font_size)\n",
    "    plt.xlabel(\"{}\".format(data_x))\n",
    "    plt.ylabel(\"{}\".format(data_y))\n",
    "    plt.show()"
   ]
  },
  {
   "cell_type": "code",
   "execution_count": 892,
   "id": "02a1c1d5",
   "metadata": {},
   "outputs": [
    {
     "data": {
      "image/png": "[encoded data removed]",
      "text/plain": [
       "<Figure size 720x720 with 1 Axes>"
      ]
     },
     "metadata": {
      "needs_background": "light"
     },
     "output_type": "display_data"
    }
   ],
   "source": [
    "plt.figure(figsize = (10, 10))\n",
    "plt.scatter(x = 'displacement', y = 'mpg01', data = df)\n",
    "plt.title(\"Displacement Vs. Mpg01\", fontsize = 15)\n",
    "plt.xlabel(\"Displacement\")\n",
    "plt.ylabel(\"Mpg01\")\n",
    "plt.show()"
   ]
  },
  {
   "cell_type": "markdown",
   "id": "e7ecdeec",
   "metadata": {},
   "source": [
    "## Observation: \n",
    "\n",
    "1. We can see that as the values of displacement increases, there is a lower possibility that the 'mpg' values to be higher than the median of 'mpg' values respectively.\n",
    "2. Therefore, 'displacement' could be a useful predictor that could be given for machine learning for predictions. "
   ]
  },
  {
   "cell_type": "code",
   "execution_count": 893,
   "id": "86fb9fd7",
   "metadata": {},
   "outputs": [
    {
     "data": {
      "image/png": "[encoded data removed]",
      "text/plain": [
       "<Figure size 360x720 with 1 Axes>"
      ]
     },
     "metadata": {
      "needs_background": "light"
     },
     "output_type": "display_data"
    }
   ],
   "source": [
    "boxplot_sns_function(data_x = 'mpg01', data_y = 'displacement', data = df, fig_size = (5, 10))"
   ]
  },
  {
   "cell_type": "markdown",
   "id": "3a35dc5c",
   "metadata": {},
   "source": [
    "## Obersvation: \n",
    "\n",
    "1. Boxplot would give us a good understanding of the spread of the quantiles and also the possible outliers.\n",
    "2. From the above, we see that higher displacement values again are more related to 'mpg' values below median.\n",
    "3. Similarly, we can find that lower displacement values correspond to values of 'mpg' that are higher than the median 'mpg' values respectively. "
   ]
  },
  {
   "cell_type": "code",
   "execution_count": 894,
   "id": "b711a513",
   "metadata": {},
   "outputs": [
    {
     "data": {
      "image/png": "[encoded data removed]",
      "text/plain": [
       "<Figure size 360x720 with 1 Axes>"
      ]
     },
     "metadata": {
      "needs_background": "light"
     },
     "output_type": "display_data"
    }
   ],
   "source": [
    "boxplot_sns_function(data_x = 'mpg01', data_y = 'weight', data = df, fig_size = (5, 10), palette = \"rocket\")"
   ]
  },
  {
   "cell_type": "markdown",
   "id": "0b41a1b3",
   "metadata": {},
   "source": [
    "<font size = \"5\"><b>Observation:</b></font>\n",
    "\n",
    "1. Here we could easily identify and distinguish the feature 'weight' based on the 'mpg01' values. Therefore, this feature is highly correlated with the 'mpg01' output variable. \n",
    "2. We've also seen the relationship using the correlation heatmap above which showed that the correlation between 'mpg01' and 'weight' is -0.75 respectively. "
   ]
  },
  {
   "cell_type": "code",
   "execution_count": 895,
   "id": "df75a08f",
   "metadata": {},
   "outputs": [
    {
     "data": {
      "image/png": "[encoded data removed]",
      "text/plain": [
       "<Figure size 360x720 with 1 Axes>"
      ]
     },
     "metadata": {
      "needs_background": "light"
     },
     "output_type": "display_data"
    }
   ],
   "source": [
    "boxplot_sns_function(data_x = 'mpg01', data_y = 'acceleration', data = df, fig_size = (5, 10), palette = \"cubehelix\")"
   ]
  },
  {
   "cell_type": "markdown",
   "id": "f021bdd6",
   "metadata": {},
   "source": [
    "<font size = \"5\"><b>Observation:</b></font>\n",
    "\n",
    "1. We could see from the observation that acceleration and mpg01 are not highly correlated as could be seen from the boxplot above.\n",
    "2. In the correlation heatmap, we also see that the correlation between mpg01 and acceleration was just 0.32 respectively. "
   ]
  },
  {
   "cell_type": "code",
   "execution_count": 896,
   "id": "14485405",
   "metadata": {},
   "outputs": [
    {
     "data": {
      "image/png": "[encoded data removed]",
      "text/plain": [
       "<Figure size 360x720 with 1 Axes>"
      ]
     },
     "metadata": {
      "needs_background": "light"
     },
     "output_type": "display_data"
    }
   ],
   "source": [
    "boxplot_sns_function(data_x = 'mpg01', data_y = 'cylinders', data = df, fig_size = (5, 10), palette = \"cubehelix\")"
   ]
  },
  {
   "cell_type": "code",
   "execution_count": 897,
   "id": "99696ef3",
   "metadata": {},
   "outputs": [
    {
     "data": {
      "image/png": "[encoded data removed]",
      "text/plain": [
       "<Figure size 360x720 with 1 Axes>"
      ]
     },
     "metadata": {
      "needs_background": "light"
     },
     "output_type": "display_data"
    }
   ],
   "source": [
    "boxplot_sns_function(data_x = 'mpg01', data_y = 'year', data = df, fig_size = (5, 10), palette = \"cubehelix\")"
   ]
  },
  {
   "cell_type": "code",
   "execution_count": 898,
   "id": "63abf155",
   "metadata": {},
   "outputs": [
    {
     "data": {
      "image/png": "[encoded data removed]",
      "text/plain": [
       "<Figure size 360x720 with 1 Axes>"
      ]
     },
     "metadata": {
      "needs_background": "light"
     },
     "output_type": "display_data"
    }
   ],
   "source": [
    "boxplot_sns_function(data_x = 'mpg01', data_y = 'origin', data = df, fig_size = (5, 10), palette = \"cubehelix\")"
   ]
  },
  {
   "cell_type": "code",
   "execution_count": 899,
   "id": "c454d89f",
   "metadata": {},
   "outputs": [
    {
     "data": {
      "image/png": "[encoded data removed]",
      "text/plain": [
       "<Figure size 720x720 with 1 Axes>"
      ]
     },
     "metadata": {
      "needs_background": "light"
     },
     "output_type": "display_data"
    }
   ],
   "source": [
    "plt.figure(figsize = (10, 10))\n",
    "sns.scatterplot(x = 'displacement', y = 'mpg', hue = 'cylinders', size = 'cylinders', data = df)\n",
    "plt.title(\"Displacement Vs Mpg with Cylinders as Hue\")\n",
    "plt.show()"
   ]
  },
  {
   "cell_type": "code",
   "execution_count": 900,
   "id": "73464657",
   "metadata": {},
   "outputs": [
    {
     "data": {
      "image/png": "[encoded data removed]",
      "text/plain": [
       "<Figure size 432x288 with 1 Axes>"
      ]
     },
     "metadata": {
      "needs_background": "light"
     },
     "output_type": "display_data"
    }
   ],
   "source": [
    "sns.scatterplot(y = 'mpg01', x = 'cylinders', data = df)\n",
    "plt.show()"
   ]
  },
  {
   "cell_type": "code",
   "execution_count": 901,
   "id": "d4089ac6",
   "metadata": {},
   "outputs": [
    {
     "data": {
      "image/png": "[encoded data removed]",
      "text/plain": [
       "<Figure size 432x288 with 1 Axes>"
      ]
     },
     "metadata": {
      "needs_background": "light"
     },
     "output_type": "display_data"
    }
   ],
   "source": [
    "sns.scatterplot(y = 'mpg01', x = 'displacement', data = df)\n",
    "plt.show()"
   ]
  },
  {
   "cell_type": "code",
   "execution_count": 902,
   "id": "11d19d4d",
   "metadata": {},
   "outputs": [
    {
     "data": {
      "image/png": "[encoded data removed]",
      "text/plain": [
       "<Figure size 1440x720 with 1 Axes>"
      ]
     },
     "metadata": {
      "needs_background": "light"
     },
     "output_type": "display_data"
    }
   ],
   "source": [
    "plt.figure(figsize = (20, 10))\n",
    "sns.scatterplot(y = 'mpg01', x = 'weight', hue = 'mpg01', data = df)\n",
    "plt.xticks(rotation = 45)\n",
    "plt.show()"
   ]
  },
  {
   "cell_type": "code",
   "execution_count": 903,
   "id": "d77d7d80",
   "metadata": {},
   "outputs": [
    {
     "data": {
      "image/png": "[encoded data removed]",
      "text/plain": [
       "<Figure size 1440x720 with 1 Axes>"
      ]
     },
     "metadata": {
      "needs_background": "light"
     },
     "output_type": "display_data"
    }
   ],
   "source": [
    "plt.figure(figsize = (20, 10))\n",
    "sns.scatterplot(y = 'mpg01', x = 'acceleration', hue = 'mpg01', data = df)\n",
    "plt.xticks(rotation = 45)\n",
    "plt.show()"
   ]
  },
  {
   "cell_type": "code",
   "execution_count": 904,
   "id": "e98b19e0",
   "metadata": {},
   "outputs": [
    {
     "data": {
      "image/png": "[encoded data removed]",
      "text/plain": [
       "<Figure size 1440x720 with 1 Axes>"
      ]
     },
     "metadata": {
      "needs_background": "light"
     },
     "output_type": "display_data"
    }
   ],
   "source": [
    "plt.figure(figsize = (20, 10))\n",
    "sns.scatterplot(y = 'mpg01', x = 'year', hue = 'mpg01', data = df)\n",
    "plt.xticks(rotation = 45)\n",
    "plt.show()"
   ]
  },
  {
   "cell_type": "code",
   "execution_count": 905,
   "id": "e83bf8bf",
   "metadata": {},
   "outputs": [
    {
     "data": {
      "image/png": "[encoded data removed]",
      "text/plain": [
       "<Figure size 1440x720 with 1 Axes>"
      ]
     },
     "metadata": {
      "needs_background": "light"
     },
     "output_type": "display_data"
    }
   ],
   "source": [
    "plt.figure(figsize = (20, 10))\n",
    "sns.scatterplot(y = 'mpg01', x = 'origin', hue = 'mpg01', data = df)\n",
    "plt.xticks(rotation = 45)\n",
    "plt.show()"
   ]
  },
  {
   "cell_type": "markdown",
   "id": "f6fa8470",
   "metadata": {},
   "source": [
    "## Observation: \n",
    "\n",
    "1. Let us now take the 'mpg' feature rather than 'mpg01' to get a better sense of the spread of values. \n",
    "2. From the above, it could be seen that as the values of the 'displacement' feature increases, lower would the values of 'mpg' be with a few outliers in between. "
   ]
  },
  {
   "cell_type": "code",
   "execution_count": 906,
   "id": "f6b5af8b",
   "metadata": {},
   "outputs": [
    {
     "data": {
      "image/png": "[encoded data removed]",
      "text/plain": [
       "<Figure size 720x720 with 1 Axes>"
      ]
     },
     "metadata": {
      "needs_background": "light"
     },
     "output_type": "display_data"
    }
   ],
   "source": [
    "plt.figure(figsize = (10, 10))\n",
    "sns.scatterplot(x = 'acceleration', y = 'mpg01', hue ='mpg01', data = df)\n",
    "plt.title(\"Acceleration Vs Mpg\")\n",
    "plt.show()"
   ]
  },
  {
   "cell_type": "markdown",
   "id": "99144502",
   "metadata": {},
   "source": [
    "## Observation: \n",
    "\n",
    "1. Here we are able to find a separation for 'mpg01' values and 'acceleration' but the seperation is not huge. \n",
    "2. Therefore, this feature alone might not give us a very good prediction as the 'mpg' values are not easily separable. \n",
    "3. Hence, more features must be taken into consideration for making the right predictions. "
   ]
  },
  {
   "cell_type": "code",
   "execution_count": 907,
   "id": "a4e28f60",
   "metadata": {},
   "outputs": [
    {
     "data": {
      "image/png": "[encoded data removed]",
      "text/plain": [
       "<Figure size 432x288 with 1 Axes>"
      ]
     },
     "metadata": {
      "needs_background": "light"
     },
     "output_type": "display_data"
    }
   ],
   "source": [
    "plt.scatter(x = 'displacement', y = 'mpg', data = df)\n",
    "plt.show()"
   ]
  },
  {
   "cell_type": "code",
   "execution_count": 908,
   "id": "15ea1ccf",
   "metadata": {},
   "outputs": [
    {
     "data": {
      "image/png": "[encoded data removed]",
      "text/plain": [
       "<Figure size 720x720 with 1 Axes>"
      ]
     },
     "metadata": {
      "needs_background": "light"
     },
     "output_type": "display_data"
    }
   ],
   "source": [
    "plt.figure(figsize = (10, 10))\n",
    "sns.scatterplot(x = 'weight', y = 'mpg', hue ='mpg01', data = df, palette = 'viridis')\n",
    "plt.title(\"Weight Vs. Mpg01\")\n",
    "plt.show()"
   ]
  },
  {
   "cell_type": "markdown",
   "id": "7c14172b",
   "metadata": {},
   "source": [
    "## Observation:\n",
    "\n",
    "1. From the above scatterplot, it could be seen that 'weight' and 'mpg01' are quite related to each other and they would be separated to a certain extent.\n",
    "2. Therefore, weight is also a useful feature for our predictions and must be taken into consideration. "
   ]
  },
  {
   "cell_type": "code",
   "execution_count": 909,
   "id": "d4f76422",
   "metadata": {},
   "outputs": [
    {
     "data": {
      "image/png": "[encoded data removed]",
      "text/plain": [
       "<Figure size 360x720 with 1 Axes>"
      ]
     },
     "metadata": {
      "needs_background": "light"
     },
     "output_type": "display_data"
    }
   ],
   "source": [
    "boxplot_sns_function(data_x = 'mpg01', data_y = 'weight', data = df, fig_size = (5, 10), palette = \"bright\")"
   ]
  },
  {
   "cell_type": "markdown",
   "id": "46cb3888",
   "metadata": {},
   "source": [
    "## Observation:\n",
    "\n",
    "1. When we plot a boxplot for the weight feature, it clearly shows us that the weight values could be quite separated which would ensure that we get predictions for 'mpg01' value respectively. \n",
    "2. Having a higher 'weight' would signify that 'mpg01' is lower or 0 and vice-versa. "
   ]
  },
  {
   "cell_type": "markdown",
   "id": "428ad11c",
   "metadata": {},
   "source": [
    "#### Based on this observation, we see that cylinders, displacement, weight and origin could be some of the important factors in predicting the 'mpg01' output variable respectively."
   ]
  },
  {
   "cell_type": "code",
   "execution_count": 910,
   "id": "b0d867b9",
   "metadata": {},
   "outputs": [
    {
     "data": {
      "text/html": [
       "<div>\n",
       "<style scoped>\n",
       "    .dataframe tbody tr th:only-of-type {\n",
       "        vertical-align: middle;\n",
       "    }\n",
       "\n",
       "    .dataframe tbody tr th {\n",
       "        vertical-align: top;\n",
       "    }\n",
       "\n",
       "    .dataframe thead th {\n",
       "        text-align: right;\n",
       "    }\n",
       "</style>\n",
       "<table border=\"1\" class=\"dataframe\">\n",
       "  <thead>\n",
       "    <tr style=\"text-align: right;\">\n",
       "      <th></th>\n",
       "      <th>mpg</th>\n",
       "      <th>cylinders</th>\n",
       "      <th>displacement</th>\n",
       "      <th>horsepower</th>\n",
       "      <th>weight</th>\n",
       "      <th>acceleration</th>\n",
       "      <th>year</th>\n",
       "      <th>origin</th>\n",
       "      <th>name</th>\n",
       "      <th>mpg01</th>\n",
       "    </tr>\n",
       "  </thead>\n",
       "  <tbody>\n",
       "    <tr>\n",
       "      <th>0</th>\n",
       "      <td>18.0</td>\n",
       "      <td>8</td>\n",
       "      <td>307.0</td>\n",
       "      <td>130</td>\n",
       "      <td>3504</td>\n",
       "      <td>12.0</td>\n",
       "      <td>70</td>\n",
       "      <td>1</td>\n",
       "      <td>chevrolet chevelle malibu</td>\n",
       "      <td>0</td>\n",
       "    </tr>\n",
       "    <tr>\n",
       "      <th>1</th>\n",
       "      <td>15.0</td>\n",
       "      <td>8</td>\n",
       "      <td>350.0</td>\n",
       "      <td>165</td>\n",
       "      <td>3693</td>\n",
       "      <td>11.5</td>\n",
       "      <td>70</td>\n",
       "      <td>1</td>\n",
       "      <td>buick skylark 320</td>\n",
       "      <td>0</td>\n",
       "    </tr>\n",
       "    <tr>\n",
       "      <th>2</th>\n",
       "      <td>18.0</td>\n",
       "      <td>8</td>\n",
       "      <td>318.0</td>\n",
       "      <td>150</td>\n",
       "      <td>3436</td>\n",
       "      <td>11.0</td>\n",
       "      <td>70</td>\n",
       "      <td>1</td>\n",
       "      <td>plymouth satellite</td>\n",
       "      <td>0</td>\n",
       "    </tr>\n",
       "    <tr>\n",
       "      <th>3</th>\n",
       "      <td>16.0</td>\n",
       "      <td>8</td>\n",
       "      <td>304.0</td>\n",
       "      <td>150</td>\n",
       "      <td>3433</td>\n",
       "      <td>12.0</td>\n",
       "      <td>70</td>\n",
       "      <td>1</td>\n",
       "      <td>amc rebel sst</td>\n",
       "      <td>0</td>\n",
       "    </tr>\n",
       "    <tr>\n",
       "      <th>4</th>\n",
       "      <td>17.0</td>\n",
       "      <td>8</td>\n",
       "      <td>302.0</td>\n",
       "      <td>140</td>\n",
       "      <td>3449</td>\n",
       "      <td>10.5</td>\n",
       "      <td>70</td>\n",
       "      <td>1</td>\n",
       "      <td>ford torino</td>\n",
       "      <td>0</td>\n",
       "    </tr>\n",
       "  </tbody>\n",
       "</table>\n",
       "</div>"
      ],
      "text/plain": [
       "    mpg  cylinders  displacement horsepower  weight  acceleration  year  \\\n",
       "0  18.0          8         307.0        130    3504          12.0    70   \n",
       "1  15.0          8         350.0        165    3693          11.5    70   \n",
       "2  18.0          8         318.0        150    3436          11.0    70   \n",
       "3  16.0          8         304.0        150    3433          12.0    70   \n",
       "4  17.0          8         302.0        140    3449          10.5    70   \n",
       "\n",
       "   origin                       name  mpg01  \n",
       "0       1  chevrolet chevelle malibu      0  \n",
       "1       1          buick skylark 320      0  \n",
       "2       1         plymouth satellite      0  \n",
       "3       1              amc rebel sst      0  \n",
       "4       1                ford torino      0  "
      ]
     },
     "execution_count": 910,
     "metadata": {},
     "output_type": "execute_result"
    }
   ],
   "source": [
    "df.head()"
   ]
  },
  {
   "cell_type": "code",
   "execution_count": 911,
   "id": "eebbbfd2",
   "metadata": {},
   "outputs": [
    {
     "name": "stdout",
     "output_type": "stream",
     "text": [
      "<class 'pandas.core.frame.DataFrame'>\n",
      "RangeIndex: 397 entries, 0 to 396\n",
      "Data columns (total 10 columns):\n",
      " #   Column        Non-Null Count  Dtype  \n",
      "---  ------        --------------  -----  \n",
      " 0   mpg           397 non-null    float64\n",
      " 1   cylinders     397 non-null    int64  \n",
      " 2   displacement  397 non-null    float64\n",
      " 3   horsepower    397 non-null    object \n",
      " 4   weight        397 non-null    int64  \n",
      " 5   acceleration  397 non-null    float64\n",
      " 6   year          397 non-null    int64  \n",
      " 7   origin        397 non-null    int64  \n",
      " 8   name          397 non-null    object \n",
      " 9   mpg01         397 non-null    int64  \n",
      "dtypes: float64(3), int64(5), object(2)\n",
      "memory usage: 31.1+ KB\n"
     ]
    }
   ],
   "source": [
    "df.info()"
   ]
  },
  {
   "cell_type": "code",
   "execution_count": 912,
   "id": "94e68bd8",
   "metadata": {},
   "outputs": [],
   "source": [
    "## We could see that from the above, horsepower is an object\n",
    "## However, it should be an integer as we are having only integer values for it\n",
    "## There seems to be an additional value present that is causing the horsepower to be an object.\n",
    "## Let's examine if there are any special symbols present as can be seen from the code below. "
   ]
  },
  {
   "cell_type": "code",
   "execution_count": 913,
   "id": "8460ae50",
   "metadata": {},
   "outputs": [
    {
     "data": {
      "text/html": [
       "<div>\n",
       "<style scoped>\n",
       "    .dataframe tbody tr th:only-of-type {\n",
       "        vertical-align: middle;\n",
       "    }\n",
       "\n",
       "    .dataframe tbody tr th {\n",
       "        vertical-align: top;\n",
       "    }\n",
       "\n",
       "    .dataframe thead th {\n",
       "        text-align: right;\n",
       "    }\n",
       "</style>\n",
       "<table border=\"1\" class=\"dataframe\">\n",
       "  <thead>\n",
       "    <tr style=\"text-align: right;\">\n",
       "      <th></th>\n",
       "      <th>mpg</th>\n",
       "      <th>cylinders</th>\n",
       "      <th>displacement</th>\n",
       "      <th>horsepower</th>\n",
       "      <th>weight</th>\n",
       "      <th>acceleration</th>\n",
       "      <th>year</th>\n",
       "      <th>origin</th>\n",
       "      <th>name</th>\n",
       "      <th>mpg01</th>\n",
       "    </tr>\n",
       "  </thead>\n",
       "  <tbody>\n",
       "    <tr>\n",
       "      <th>32</th>\n",
       "      <td>25.0</td>\n",
       "      <td>4</td>\n",
       "      <td>98.0</td>\n",
       "      <td>?</td>\n",
       "      <td>2046</td>\n",
       "      <td>19.0</td>\n",
       "      <td>71</td>\n",
       "      <td>1</td>\n",
       "      <td>ford pinto</td>\n",
       "      <td>1</td>\n",
       "    </tr>\n",
       "    <tr>\n",
       "      <th>126</th>\n",
       "      <td>21.0</td>\n",
       "      <td>6</td>\n",
       "      <td>200.0</td>\n",
       "      <td>?</td>\n",
       "      <td>2875</td>\n",
       "      <td>17.0</td>\n",
       "      <td>74</td>\n",
       "      <td>1</td>\n",
       "      <td>ford maverick</td>\n",
       "      <td>0</td>\n",
       "    </tr>\n",
       "    <tr>\n",
       "      <th>330</th>\n",
       "      <td>40.9</td>\n",
       "      <td>4</td>\n",
       "      <td>85.0</td>\n",
       "      <td>?</td>\n",
       "      <td>1835</td>\n",
       "      <td>17.3</td>\n",
       "      <td>80</td>\n",
       "      <td>2</td>\n",
       "      <td>renault lecar deluxe</td>\n",
       "      <td>1</td>\n",
       "    </tr>\n",
       "    <tr>\n",
       "      <th>336</th>\n",
       "      <td>23.6</td>\n",
       "      <td>4</td>\n",
       "      <td>140.0</td>\n",
       "      <td>?</td>\n",
       "      <td>2905</td>\n",
       "      <td>14.3</td>\n",
       "      <td>80</td>\n",
       "      <td>1</td>\n",
       "      <td>ford mustang cobra</td>\n",
       "      <td>1</td>\n",
       "    </tr>\n",
       "    <tr>\n",
       "      <th>354</th>\n",
       "      <td>34.5</td>\n",
       "      <td>4</td>\n",
       "      <td>100.0</td>\n",
       "      <td>?</td>\n",
       "      <td>2320</td>\n",
       "      <td>15.8</td>\n",
       "      <td>81</td>\n",
       "      <td>2</td>\n",
       "      <td>renault 18i</td>\n",
       "      <td>1</td>\n",
       "    </tr>\n",
       "  </tbody>\n",
       "</table>\n",
       "</div>"
      ],
      "text/plain": [
       "      mpg  cylinders  displacement horsepower  weight  acceleration  year  \\\n",
       "32   25.0          4          98.0          ?    2046          19.0    71   \n",
       "126  21.0          6         200.0          ?    2875          17.0    74   \n",
       "330  40.9          4          85.0          ?    1835          17.3    80   \n",
       "336  23.6          4         140.0          ?    2905          14.3    80   \n",
       "354  34.5          4         100.0          ?    2320          15.8    81   \n",
       "\n",
       "     origin                  name  mpg01  \n",
       "32        1            ford pinto      1  \n",
       "126       1         ford maverick      0  \n",
       "330       2  renault lecar deluxe      1  \n",
       "336       1    ford mustang cobra      1  \n",
       "354       2           renault 18i      1  "
      ]
     },
     "execution_count": 913,
     "metadata": {},
     "output_type": "execute_result"
    }
   ],
   "source": [
    "df[df['horsepower'] == '?']"
   ]
  },
  {
   "cell_type": "code",
   "execution_count": 914,
   "id": "4325276e",
   "metadata": {},
   "outputs": [],
   "source": [
    "## We see from the above that there are some values that contain question marks. \n",
    "## It would be a good idea to remove those values and take the other values respectively. \n",
    "## However, we could also perform mean imputation or the median imputation but for now, let us remove them to \n",
    "## simplify the problem. "
   ]
  },
  {
   "cell_type": "code",
   "execution_count": 915,
   "id": "156bfe15",
   "metadata": {},
   "outputs": [],
   "source": [
    "df = df[df['horsepower'] != '?']"
   ]
  },
  {
   "cell_type": "code",
   "execution_count": 916,
   "id": "1f063861",
   "metadata": {},
   "outputs": [],
   "source": [
    "X = df.drop(['mpg01'], axis = 1)\n",
    "y = df['mpg01']"
   ]
  },
  {
   "cell_type": "code",
   "execution_count": 917,
   "id": "6b2c48e3",
   "metadata": {},
   "outputs": [
    {
     "name": "stdout",
     "output_type": "stream",
     "text": [
      "<class 'pandas.core.frame.DataFrame'>\n",
      "Int64Index: 392 entries, 0 to 396\n",
      "Data columns (total 9 columns):\n",
      " #   Column        Non-Null Count  Dtype  \n",
      "---  ------        --------------  -----  \n",
      " 0   mpg           392 non-null    float64\n",
      " 1   cylinders     392 non-null    int64  \n",
      " 2   displacement  392 non-null    float64\n",
      " 3   horsepower    392 non-null    object \n",
      " 4   weight        392 non-null    int64  \n",
      " 5   acceleration  392 non-null    float64\n",
      " 6   year          392 non-null    int64  \n",
      " 7   origin        392 non-null    int64  \n",
      " 8   name          392 non-null    object \n",
      "dtypes: float64(3), int64(4), object(2)\n",
      "memory usage: 30.6+ KB\n"
     ]
    }
   ],
   "source": [
    "X.info()"
   ]
  },
  {
   "cell_type": "code",
   "execution_count": 918,
   "id": "ee532c39",
   "metadata": {},
   "outputs": [],
   "source": [
    "X_train, X_test, y_train, y_test = train_test_split(X, y, random_state = 42, test_size = 0.2)"
   ]
  },
  {
   "cell_type": "code",
   "execution_count": 919,
   "id": "7181b7be",
   "metadata": {},
   "outputs": [
    {
     "name": "stdout",
     "output_type": "stream",
     "text": [
      "The shape of the training input is: (313, 9)\n",
      "The shape of the test input is: (79, 9)\n"
     ]
    }
   ],
   "source": [
    "print(\"The shape of the training input is: {}\".format(X_train.shape))\n",
    "print(\"The shape of the test input is: {}\".format(X_test.shape))"
   ]
  },
  {
   "cell_type": "code",
   "execution_count": 920,
   "id": "c8d75546",
   "metadata": {},
   "outputs": [],
   "source": [
    "selected_predictors = ['cylinders', 'weight', 'displacement', 'horsepower']"
   ]
  },
  {
   "cell_type": "code",
   "execution_count": 921,
   "id": "01985a72",
   "metadata": {},
   "outputs": [],
   "source": [
    "X_train_new = X_train[selected_predictors]\n",
    "X_test_new = X_test[selected_predictors]"
   ]
  },
  {
   "cell_type": "code",
   "execution_count": 922,
   "id": "73b777f2",
   "metadata": {},
   "outputs": [
    {
     "data": {
      "text/html": [
       "<div>\n",
       "<style scoped>\n",
       "    .dataframe tbody tr th:only-of-type {\n",
       "        vertical-align: middle;\n",
       "    }\n",
       "\n",
       "    .dataframe tbody tr th {\n",
       "        vertical-align: top;\n",
       "    }\n",
       "\n",
       "    .dataframe thead th {\n",
       "        text-align: right;\n",
       "    }\n",
       "</style>\n",
       "<table border=\"1\" class=\"dataframe\">\n",
       "  <thead>\n",
       "    <tr style=\"text-align: right;\">\n",
       "      <th></th>\n",
       "      <th>cylinders</th>\n",
       "      <th>weight</th>\n",
       "      <th>displacement</th>\n",
       "      <th>horsepower</th>\n",
       "    </tr>\n",
       "  </thead>\n",
       "  <tbody>\n",
       "    <tr>\n",
       "      <th>260</th>\n",
       "      <td>6</td>\n",
       "      <td>3620</td>\n",
       "      <td>225.0</td>\n",
       "      <td>110</td>\n",
       "    </tr>\n",
       "    <tr>\n",
       "      <th>184</th>\n",
       "      <td>4</td>\n",
       "      <td>2572</td>\n",
       "      <td>140.0</td>\n",
       "      <td>92</td>\n",
       "    </tr>\n",
       "    <tr>\n",
       "      <th>174</th>\n",
       "      <td>6</td>\n",
       "      <td>2984</td>\n",
       "      <td>171.0</td>\n",
       "      <td>97</td>\n",
       "    </tr>\n",
       "    <tr>\n",
       "      <th>64</th>\n",
       "      <td>8</td>\n",
       "      <td>4135</td>\n",
       "      <td>318.0</td>\n",
       "      <td>150</td>\n",
       "    </tr>\n",
       "    <tr>\n",
       "      <th>344</th>\n",
       "      <td>4</td>\n",
       "      <td>1875</td>\n",
       "      <td>86.0</td>\n",
       "      <td>64</td>\n",
       "    </tr>\n",
       "  </tbody>\n",
       "</table>\n",
       "</div>"
      ],
      "text/plain": [
       "     cylinders  weight  displacement horsepower\n",
       "260          6    3620         225.0        110\n",
       "184          4    2572         140.0         92\n",
       "174          6    2984         171.0         97\n",
       "64           8    4135         318.0        150\n",
       "344          4    1875          86.0         64"
      ]
     },
     "execution_count": 922,
     "metadata": {},
     "output_type": "execute_result"
    }
   ],
   "source": [
    "X_train_new.head()"
   ]
  },
  {
   "cell_type": "code",
   "execution_count": 923,
   "id": "40e42003",
   "metadata": {},
   "outputs": [
    {
     "name": "stdout",
     "output_type": "stream",
     "text": [
      "<class 'pandas.core.frame.DataFrame'>\n",
      "Int64Index: 313 entries, 260 to 103\n",
      "Data columns (total 4 columns):\n",
      " #   Column        Non-Null Count  Dtype  \n",
      "---  ------        --------------  -----  \n",
      " 0   cylinders     313 non-null    int64  \n",
      " 1   weight        313 non-null    int64  \n",
      " 2   displacement  313 non-null    float64\n",
      " 3   horsepower    313 non-null    object \n",
      "dtypes: float64(1), int64(2), object(1)\n",
      "memory usage: 12.2+ KB\n"
     ]
    }
   ],
   "source": [
    "X_train_new.info()"
   ]
  },
  {
   "cell_type": "code",
   "execution_count": 924,
   "id": "389a1728",
   "metadata": {},
   "outputs": [],
   "source": [
    "from sklearn.linear_model import LogisticRegression"
   ]
  },
  {
   "cell_type": "code",
   "execution_count": 925,
   "id": "668c29e3",
   "metadata": {},
   "outputs": [
    {
     "data": {
      "text/plain": [
       "(313, 4)"
      ]
     },
     "execution_count": 925,
     "metadata": {},
     "output_type": "execute_result"
    }
   ],
   "source": [
    "X_train_new.shape"
   ]
  },
  {
   "cell_type": "code",
   "execution_count": 926,
   "id": "bf49c3f1",
   "metadata": {},
   "outputs": [
    {
     "data": {
      "text/plain": [
       "(313,)"
      ]
     },
     "execution_count": 926,
     "metadata": {},
     "output_type": "execute_result"
    }
   ],
   "source": [
    "y_train.shape"
   ]
  },
  {
   "cell_type": "code",
   "execution_count": 927,
   "id": "152eabf1",
   "metadata": {},
   "outputs": [
    {
     "data": {
      "text/plain": [
       "LogisticRegression(C=1.0, class_weight=None, dual=False, fit_intercept=True,\n",
       "                   intercept_scaling=1, l1_ratio=None, max_iter=100,\n",
       "                   multi_class='warn', n_jobs=None, penalty='l2',\n",
       "                   random_state=None, solver='warn', tol=0.0001, verbose=0,\n",
       "                   warm_start=False)"
      ]
     },
     "execution_count": 927,
     "metadata": {},
     "output_type": "execute_result"
    }
   ],
   "source": [
    "model = LogisticRegression()\n",
    "model.fit(X_train_new, y_train)"
   ]
  },
  {
   "cell_type": "code",
   "execution_count": 928,
   "id": "2ebe46fd",
   "metadata": {},
   "outputs": [],
   "source": [
    "y_test_predictions = model.predict(X_test_new)"
   ]
  },
  {
   "cell_type": "code",
   "execution_count": 929,
   "id": "e5524a9e",
   "metadata": {},
   "outputs": [
    {
     "data": {
      "text/plain": [
       "array([1, 1, 1, 1, 1, 1, 0, 1, 0, 1, 0, 1, 0, 1, 1, 1, 0, 1, 1, 1, 0, 1,\n",
       "       1, 0, 1, 1, 1, 0, 1, 1, 0, 0, 0, 1, 0, 1, 0, 1, 0, 0, 0, 1, 1, 1,\n",
       "       0, 0, 0, 1, 1, 1, 0, 1, 0, 1, 0, 0, 0, 0, 1, 1, 0, 0, 1, 1, 1, 1,\n",
       "       1, 1, 0, 0, 1, 0, 1, 1, 0, 1, 0, 0, 1], dtype=int64)"
      ]
     },
     "execution_count": 929,
     "metadata": {},
     "output_type": "execute_result"
    }
   ],
   "source": [
    "y_test_predictions"
   ]
  },
  {
   "cell_type": "code",
   "execution_count": 930,
   "id": "00ee4ce0",
   "metadata": {},
   "outputs": [
    {
     "name": "stdout",
     "output_type": "stream",
     "text": [
      "The Accuracy of Logistic Regression Model on Test Set is : 84.81%\n"
     ]
    }
   ],
   "source": [
    "print(\"The Accuracy of Logistic Regression Model on Test Set is : {}%\".format(np.round(accuracy_score(y_test_predictions, y_test) * 100, 2)))"
   ]
  },
  {
   "cell_type": "code",
   "execution_count": 931,
   "id": "b9b1a4af",
   "metadata": {},
   "outputs": [
    {
     "name": "stdout",
     "output_type": "stream",
     "text": [
      "The log loss of Logistic Regression Model on test set is : 5.2464065359032706\n"
     ]
    }
   ],
   "source": [
    "print(\"The log loss of Logistic Regression Model on test set is : {}\".format(log_loss(y_test_predictions, y_test)))"
   ]
  },
  {
   "cell_type": "code",
   "execution_count": 932,
   "id": "9a203536",
   "metadata": {},
   "outputs": [
    {
     "name": "stdout",
     "output_type": "stream",
     "text": [
      "The F1 score of Logistic Regression Model on test set is : 0.853658536585366\n"
     ]
    }
   ],
   "source": [
    "print(\"The F1 score of Logistic Regression Model on test set is : {}\".format(f1_score(y_test_predictions, y_test)))"
   ]
  },
  {
   "cell_type": "code",
   "execution_count": 933,
   "id": "2db72d9b",
   "metadata": {},
   "outputs": [
    {
     "name": "stdout",
     "output_type": "stream",
     "text": [
      "The zero-one loss of Logistic Regression Model on test set is : 0.15189873417721522\n"
     ]
    }
   ],
   "source": [
    "print(\"The zero-one loss of Logistic Regression Model on test set is : {}\".format(zero_one_loss(y_test_predictions, y_test)))"
   ]
  },
  {
   "cell_type": "code",
   "execution_count": 934,
   "id": "d029d32e",
   "metadata": {},
   "outputs": [],
   "source": [
    "from sklearn.discriminant_analysis import LinearDiscriminantAnalysis\n",
    "from sklearn.discriminant_analysis import QuadraticDiscriminantAnalysis\n",
    "from sklearn.neighbors import KNeighborsClassifier"
   ]
  },
  {
   "cell_type": "code",
   "execution_count": 935,
   "id": "4de03954",
   "metadata": {},
   "outputs": [
    {
     "data": {
      "text/plain": [
       "LinearDiscriminantAnalysis(n_components=None, priors=None, shrinkage=None,\n",
       "                           solver='svd', store_covariance=False, tol=0.0001)"
      ]
     },
     "execution_count": 935,
     "metadata": {},
     "output_type": "execute_result"
    }
   ],
   "source": [
    "model = LinearDiscriminantAnalysis()\n",
    "model.fit(X_train_new, y_train)"
   ]
  },
  {
   "cell_type": "code",
   "execution_count": 936,
   "id": "13dbeb24",
   "metadata": {},
   "outputs": [],
   "source": [
    "y_test_predictions = model.predict(X_test_new)"
   ]
  },
  {
   "cell_type": "code",
   "execution_count": 937,
   "id": "a0098463",
   "metadata": {},
   "outputs": [
    {
     "data": {
      "text/plain": [
       "array([1, 1, 1, 1, 1, 1, 0, 1, 0, 1, 0, 0, 0, 1, 0, 1, 0, 1, 1, 1, 0, 1,\n",
       "       1, 0, 1, 1, 1, 0, 1, 1, 0, 0, 0, 1, 0, 1, 0, 1, 0, 0, 0, 1, 1, 1,\n",
       "       0, 0, 0, 1, 1, 1, 0, 1, 1, 1, 0, 0, 0, 0, 1, 1, 0, 0, 1, 1, 1, 1,\n",
       "       1, 1, 0, 0, 1, 0, 1, 1, 0, 1, 0, 0, 1], dtype=int64)"
      ]
     },
     "execution_count": 937,
     "metadata": {},
     "output_type": "execute_result"
    }
   ],
   "source": [
    "y_test_predictions"
   ]
  },
  {
   "cell_type": "code",
   "execution_count": 938,
   "id": "893bdf11",
   "metadata": {},
   "outputs": [
    {
     "name": "stdout",
     "output_type": "stream",
     "text": [
      "The Accuracy of Linear Discriminant Analysis Model on Test Set is : 88.61%\n"
     ]
    }
   ],
   "source": [
    "print(\"The Accuracy of Linear Discriminant Analysis Model on Test Set is : {}%\".format(np.round(accuracy_score(y_test_predictions, y_test) * 100, 2)))"
   ]
  },
  {
   "cell_type": "code",
   "execution_count": 939,
   "id": "159917fd",
   "metadata": {},
   "outputs": [
    {
     "name": "stdout",
     "output_type": "stream",
     "text": [
      "The Log loss of Linear Discriminant Analysis Model on test set is : 3.934797310812609\n"
     ]
    }
   ],
   "source": [
    "print(\"The Log loss of Linear Discriminant Analysis Model on test set is : {}\".format(log_loss(y_test_predictions, y_test)))"
   ]
  },
  {
   "cell_type": "code",
   "execution_count": 940,
   "id": "80080388",
   "metadata": {},
   "outputs": [
    {
     "name": "stdout",
     "output_type": "stream",
     "text": [
      "The F1 score of Linear Discriminant Analysis Model on test set is : 0.888888888888889\n"
     ]
    }
   ],
   "source": [
    "print(\"The F1 score of Linear Discriminant Analysis Model on test set is : {}\".format(f1_score(y_test_predictions, y_test)))"
   ]
  },
  {
   "cell_type": "code",
   "execution_count": 941,
   "id": "1fd1df98",
   "metadata": {},
   "outputs": [
    {
     "name": "stdout",
     "output_type": "stream",
     "text": [
      "The zero-one loss of Linear Discriminant Analysis Model on test set is : 0.11392405063291144\n"
     ]
    }
   ],
   "source": [
    "print(\"The zero-one loss of Linear Discriminant Analysis Model on test set is : {}\".format(zero_one_loss(y_test_predictions, y_test)))"
   ]
  },
  {
   "cell_type": "code",
   "execution_count": 942,
   "id": "f335697f",
   "metadata": {},
   "outputs": [
    {
     "data": {
      "text/plain": [
       "QuadraticDiscriminantAnalysis(priors=None, reg_param=0.0,\n",
       "                              store_covariance=False, tol=0.0001)"
      ]
     },
     "execution_count": 942,
     "metadata": {},
     "output_type": "execute_result"
    }
   ],
   "source": [
    "model = QuadraticDiscriminantAnalysis()\n",
    "model.fit(X_train_new, y_train)"
   ]
  },
  {
   "cell_type": "code",
   "execution_count": 943,
   "id": "c8435f87",
   "metadata": {},
   "outputs": [],
   "source": [
    "y_test_predictions = model.predict(X_test_new)"
   ]
  },
  {
   "cell_type": "code",
   "execution_count": 944,
   "id": "120a406d",
   "metadata": {},
   "outputs": [
    {
     "name": "stdout",
     "output_type": "stream",
     "text": [
      "The Accuracy of Quadratic Discriminant Analysis Model on Test Set is : 88.61%\n"
     ]
    }
   ],
   "source": [
    "print(\"The Accuracy of Quadratic Discriminant Analysis Model on Test Set is : {}%\".format(np.round(accuracy_score(y_test_predictions, y_test) * 100, 2)))"
   ]
  },
  {
   "cell_type": "code",
   "execution_count": 945,
   "id": "0ee6a5c6",
   "metadata": {},
   "outputs": [
    {
     "name": "stdout",
     "output_type": "stream",
     "text": [
      "The Log loss of Quadratic Discriminant Analysis Model on test set is : 3.9348074322990683\n"
     ]
    }
   ],
   "source": [
    "print(\"The Log loss of Quadratic Discriminant Analysis Model on test set is : {}\".format(log_loss(y_test_predictions, y_test)))"
   ]
  },
  {
   "cell_type": "code",
   "execution_count": 946,
   "id": "5ada939f",
   "metadata": {},
   "outputs": [
    {
     "name": "stdout",
     "output_type": "stream",
     "text": [
      "The F1 score of Quadratic Discriminant Analysis Modell on test set is : 0.8860759493670887\n"
     ]
    }
   ],
   "source": [
    "print(\"The F1 score of Quadratic Discriminant Analysis Modell on test set is : {}\".format(f1_score(y_test_predictions, y_test)))"
   ]
  },
  {
   "cell_type": "code",
   "execution_count": 947,
   "id": "8176e383",
   "metadata": {},
   "outputs": [
    {
     "name": "stdout",
     "output_type": "stream",
     "text": [
      "The zero-one loss of Quadratic Discriminant Analysis on test set is : 0.11392405063291144\n"
     ]
    }
   ],
   "source": [
    "print(\"The zero-one loss of Quadratic Discriminant Analysis on test set is : {}\".format(zero_one_loss(y_test_predictions, y_test)))"
   ]
  },
  {
   "cell_type": "code",
   "execution_count": 948,
   "id": "1d357bbb",
   "metadata": {},
   "outputs": [
    {
     "name": "stdout",
     "output_type": "stream",
     "text": [
      "For K = 2\n",
      "The Accuracy of K Nearest Classifier (K = 2) on test Set is : 87.34%\n",
      "The Log loss of K Nearest Classifier (K = 2) on test set is : 4.372067862419218\n",
      "The F1 score of K Nearest Classifier (K = 2) on test set is : 0.8529411764705882\n",
      "The zero-one loss of K Nearest Classifier (K = 2) on test set is : 0.12658227848101267\n",
      "\n",
      "\n",
      "For K = 5\n",
      "The Accuracy of K Nearest Classifier (K = 5) on test Set is : 87.34%\n",
      "The Log loss of K Nearest Classifier (K = 5) on test set is : 4.37199701201401\n",
      "The F1 score of K Nearest Classifier (K = 5) on test set is : 0.878048780487805\n",
      "The zero-one loss of K Nearest Classifier (K = 5) on test set is : 0.12658227848101267\n",
      "\n",
      "\n",
      "For K = 10\n",
      "The Accuracy of K Nearest Classifier (K = 10) on test Set is : 89.87%\n",
      "The Log loss of K Nearest Classifier (K = 10) on test set is : 3.4975976096112094\n",
      "The F1 score of K Nearest Classifier (K = 10) on test set is : 0.9\n",
      "The zero-one loss of K Nearest Classifier (K = 10) on test set is : 0.10126582278481011\n",
      "\n",
      "\n",
      "For K = 15\n",
      "The Accuracy of K Nearest Classifier (K = 15) on test Set is : 87.34%\n",
      "The Log loss of K Nearest Classifier (K = 15) on test set is : 4.37199701201401\n",
      "The F1 score of K Nearest Classifier (K = 15) on test set is : 0.878048780487805\n",
      "The zero-one loss of K Nearest Classifier (K = 15) on test set is : 0.12658227848101267\n",
      "\n",
      "\n",
      "For K = 20\n",
      "The Accuracy of K Nearest Classifier (K = 20) on test Set is : 87.34%\n",
      "The Log loss of K Nearest Classifier (K = 20) on test set is : 4.37199701201401\n",
      "The F1 score of K Nearest Classifier (K = 20) on test set is : 0.878048780487805\n",
      "The zero-one loss of K Nearest Classifier (K = 20) on test set is : 0.12658227848101267\n",
      "\n",
      "\n",
      "For K = 25\n",
      "The Accuracy of K Nearest Classifier (K = 25) on test Set is : 88.61%\n",
      "The Log loss of K Nearest Classifier (K = 25) on test set is : 3.934797310812609\n",
      "The F1 score of K Nearest Classifier (K = 25) on test set is : 0.888888888888889\n",
      "The zero-one loss of K Nearest Classifier (K = 25) on test set is : 0.11392405063291144\n",
      "\n",
      "\n"
     ]
    }
   ],
   "source": [
    "K_values = [2, 5, 10, 15, 20, 25]\n",
    "Log_loss_list = []\n",
    "for i in K_values:\n",
    "    model = KNeighborsClassifier(n_neighbors = i)\n",
    "    model.fit(X_train_new, y_train)\n",
    "    y_test_predictions = model.predict(X_test_new)\n",
    "    print(\"For K = {}\".format(i))\n",
    "    print(\"The Accuracy of K Nearest Classifier (K = {}) on test Set is : {}%\".format(i, np.round(accuracy_score(y_test_predictions, y_test) * 100, 2)))\n",
    "    print(\"The Log loss of K Nearest Classifier (K = {}) on test set is : {}\".format(i, log_loss(y_test_predictions, y_test)))\n",
    "    Log_loss_list.append(log_loss(y_test_predictions, y_test))\n",
    "    print(\"The F1 score of K Nearest Classifier (K = {}) on test set is : {}\".format(i, f1_score(y_test_predictions, y_test)))\n",
    "    print(\"The zero-one loss of K Nearest Classifier (K = {}) on test set is : {}\".format(i, zero_one_loss(y_test_predictions, y_test)))\n",
    "    print(\"\\n\")"
   ]
  },
  {
   "cell_type": "code",
   "execution_count": 949,
   "id": "03f49630",
   "metadata": {
    "scrolled": true
   },
   "outputs": [
    {
     "data": {
      "image/png": "[encoded data removed]",
      "text/plain": [
       "<Figure size 720x720 with 1 Axes>"
      ]
     },
     "metadata": {
      "needs_background": "light"
     },
     "output_type": "display_data"
    }
   ],
   "source": [
    "plt.figure(figsize = (10, 10))\n",
    "sns.lineplot(x = K_values, y = Log_loss_list, color = 'orange')\n",
    "sns.scatterplot(x = K_values, y = Log_loss_list, color = 'green')\n",
    "plt.title(\"K values Vs. Log loss\", fontsize = 15)\n",
    "plt.xlabel(\"K values\")\n",
    "plt.ylabel(\"Log loss\")\n",
    "plt.show()"
   ]
  },
  {
   "cell_type": "markdown",
   "id": "ddf9a3ee",
   "metadata": {},
   "source": [
    "<font size = \"4\">Based on the observations and if we take <b>Log loss</b> as the metric, the best value for <b>K is 10</b>.</font>"
   ]
  },
  {
   "cell_type": "markdown",
   "id": "c8c6540b",
   "metadata": {},
   "source": [
    "## Question 3"
   ]
  },
  {
   "cell_type": "code",
   "execution_count": 950,
   "id": "c8acd5e9",
   "metadata": {},
   "outputs": [],
   "source": [
    "df = pd.read_csv('ISLR-python/Notebooks/Data/Boston.csv')"
   ]
  },
  {
   "cell_type": "code",
   "execution_count": 951,
   "id": "8ed119e3",
   "metadata": {},
   "outputs": [
    {
     "data": {
      "text/html": [
       "<div>\n",
       "<style scoped>\n",
       "    .dataframe tbody tr th:only-of-type {\n",
       "        vertical-align: middle;\n",
       "    }\n",
       "\n",
       "    .dataframe tbody tr th {\n",
       "        vertical-align: top;\n",
       "    }\n",
       "\n",
       "    .dataframe thead th {\n",
       "        text-align: right;\n",
       "    }\n",
       "</style>\n",
       "<table border=\"1\" class=\"dataframe\">\n",
       "  <thead>\n",
       "    <tr style=\"text-align: right;\">\n",
       "      <th></th>\n",
       "      <th>crim</th>\n",
       "      <th>zn</th>\n",
       "      <th>indus</th>\n",
       "      <th>chas</th>\n",
       "      <th>nox</th>\n",
       "      <th>rm</th>\n",
       "      <th>age</th>\n",
       "      <th>dis</th>\n",
       "      <th>rad</th>\n",
       "      <th>tax</th>\n",
       "      <th>ptratio</th>\n",
       "      <th>black</th>\n",
       "      <th>lstat</th>\n",
       "      <th>medv</th>\n",
       "    </tr>\n",
       "  </thead>\n",
       "  <tbody>\n",
       "    <tr>\n",
       "      <th>0</th>\n",
       "      <td>0.00632</td>\n",
       "      <td>18.0</td>\n",
       "      <td>2.31</td>\n",
       "      <td>0</td>\n",
       "      <td>0.538</td>\n",
       "      <td>6.575</td>\n",
       "      <td>65.2</td>\n",
       "      <td>4.0900</td>\n",
       "      <td>1</td>\n",
       "      <td>296</td>\n",
       "      <td>15.3</td>\n",
       "      <td>396.90</td>\n",
       "      <td>4.98</td>\n",
       "      <td>24.0</td>\n",
       "    </tr>\n",
       "    <tr>\n",
       "      <th>1</th>\n",
       "      <td>0.02731</td>\n",
       "      <td>0.0</td>\n",
       "      <td>7.07</td>\n",
       "      <td>0</td>\n",
       "      <td>0.469</td>\n",
       "      <td>6.421</td>\n",
       "      <td>78.9</td>\n",
       "      <td>4.9671</td>\n",
       "      <td>2</td>\n",
       "      <td>242</td>\n",
       "      <td>17.8</td>\n",
       "      <td>396.90</td>\n",
       "      <td>9.14</td>\n",
       "      <td>21.6</td>\n",
       "    </tr>\n",
       "    <tr>\n",
       "      <th>2</th>\n",
       "      <td>0.02729</td>\n",
       "      <td>0.0</td>\n",
       "      <td>7.07</td>\n",
       "      <td>0</td>\n",
       "      <td>0.469</td>\n",
       "      <td>7.185</td>\n",
       "      <td>61.1</td>\n",
       "      <td>4.9671</td>\n",
       "      <td>2</td>\n",
       "      <td>242</td>\n",
       "      <td>17.8</td>\n",
       "      <td>392.83</td>\n",
       "      <td>4.03</td>\n",
       "      <td>34.7</td>\n",
       "    </tr>\n",
       "    <tr>\n",
       "      <th>3</th>\n",
       "      <td>0.03237</td>\n",
       "      <td>0.0</td>\n",
       "      <td>2.18</td>\n",
       "      <td>0</td>\n",
       "      <td>0.458</td>\n",
       "      <td>6.998</td>\n",
       "      <td>45.8</td>\n",
       "      <td>6.0622</td>\n",
       "      <td>3</td>\n",
       "      <td>222</td>\n",
       "      <td>18.7</td>\n",
       "      <td>394.63</td>\n",
       "      <td>2.94</td>\n",
       "      <td>33.4</td>\n",
       "    </tr>\n",
       "    <tr>\n",
       "      <th>4</th>\n",
       "      <td>0.06905</td>\n",
       "      <td>0.0</td>\n",
       "      <td>2.18</td>\n",
       "      <td>0</td>\n",
       "      <td>0.458</td>\n",
       "      <td>7.147</td>\n",
       "      <td>54.2</td>\n",
       "      <td>6.0622</td>\n",
       "      <td>3</td>\n",
       "      <td>222</td>\n",
       "      <td>18.7</td>\n",
       "      <td>396.90</td>\n",
       "      <td>5.33</td>\n",
       "      <td>36.2</td>\n",
       "    </tr>\n",
       "  </tbody>\n",
       "</table>\n",
       "</div>"
      ],
      "text/plain": [
       "      crim    zn  indus  chas    nox     rm   age     dis  rad  tax  ptratio  \\\n",
       "0  0.00632  18.0   2.31     0  0.538  6.575  65.2  4.0900    1  296     15.3   \n",
       "1  0.02731   0.0   7.07     0  0.469  6.421  78.9  4.9671    2  242     17.8   \n",
       "2  0.02729   0.0   7.07     0  0.469  7.185  61.1  4.9671    2  242     17.8   \n",
       "3  0.03237   0.0   2.18     0  0.458  6.998  45.8  6.0622    3  222     18.7   \n",
       "4  0.06905   0.0   2.18     0  0.458  7.147  54.2  6.0622    3  222     18.7   \n",
       "\n",
       "    black  lstat  medv  \n",
       "0  396.90   4.98  24.0  \n",
       "1  396.90   9.14  21.6  \n",
       "2  392.83   4.03  34.7  \n",
       "3  394.63   2.94  33.4  \n",
       "4  396.90   5.33  36.2  "
      ]
     },
     "execution_count": 951,
     "metadata": {},
     "output_type": "execute_result"
    }
   ],
   "source": [
    "df.head()"
   ]
  },
  {
   "cell_type": "code",
   "execution_count": 952,
   "id": "401e92af",
   "metadata": {},
   "outputs": [
    {
     "data": {
      "text/plain": [
       "Index(['crim', 'zn', 'indus', 'chas', 'nox', 'rm', 'age', 'dis', 'rad', 'tax',\n",
       "       'ptratio', 'black', 'lstat', 'medv'],\n",
       "      dtype='object')"
      ]
     },
     "execution_count": 952,
     "metadata": {},
     "output_type": "execute_result"
    }
   ],
   "source": [
    "df.columns"
   ]
  },
  {
   "cell_type": "code",
   "execution_count": 953,
   "id": "0daaf800",
   "metadata": {},
   "outputs": [
    {
     "data": {
      "text/plain": [
       "(506, 14)"
      ]
     },
     "execution_count": 953,
     "metadata": {},
     "output_type": "execute_result"
    }
   ],
   "source": [
    "df.shape"
   ]
  },
  {
   "cell_type": "code",
   "execution_count": 954,
   "id": "9ccf3176",
   "metadata": {},
   "outputs": [
    {
     "name": "stdout",
     "output_type": "stream",
     "text": [
      "<class 'pandas.core.frame.DataFrame'>\n",
      "RangeIndex: 506 entries, 0 to 505\n",
      "Data columns (total 14 columns):\n",
      " #   Column   Non-Null Count  Dtype  \n",
      "---  ------   --------------  -----  \n",
      " 0   crim     506 non-null    float64\n",
      " 1   zn       506 non-null    float64\n",
      " 2   indus    506 non-null    float64\n",
      " 3   chas     506 non-null    int64  \n",
      " 4   nox      506 non-null    float64\n",
      " 5   rm       506 non-null    float64\n",
      " 6   age      506 non-null    float64\n",
      " 7   dis      506 non-null    float64\n",
      " 8   rad      506 non-null    int64  \n",
      " 9   tax      506 non-null    int64  \n",
      " 10  ptratio  506 non-null    float64\n",
      " 11  black    506 non-null    float64\n",
      " 12  lstat    506 non-null    float64\n",
      " 13  medv     506 non-null    float64\n",
      "dtypes: float64(11), int64(3)\n",
      "memory usage: 55.5 KB\n"
     ]
    }
   ],
   "source": [
    "df.info()"
   ]
  },
  {
   "cell_type": "code",
   "execution_count": 955,
   "id": "8c4ec477",
   "metadata": {},
   "outputs": [
    {
     "data": {
      "text/html": [
       "<div>\n",
       "<style scoped>\n",
       "    .dataframe tbody tr th:only-of-type {\n",
       "        vertical-align: middle;\n",
       "    }\n",
       "\n",
       "    .dataframe tbody tr th {\n",
       "        vertical-align: top;\n",
       "    }\n",
       "\n",
       "    .dataframe thead th {\n",
       "        text-align: right;\n",
       "    }\n",
       "</style>\n",
       "<table border=\"1\" class=\"dataframe\">\n",
       "  <thead>\n",
       "    <tr style=\"text-align: right;\">\n",
       "      <th></th>\n",
       "      <th>crim</th>\n",
       "      <th>zn</th>\n",
       "      <th>indus</th>\n",
       "      <th>chas</th>\n",
       "      <th>nox</th>\n",
       "      <th>rm</th>\n",
       "      <th>age</th>\n",
       "      <th>dis</th>\n",
       "      <th>rad</th>\n",
       "      <th>tax</th>\n",
       "      <th>ptratio</th>\n",
       "      <th>black</th>\n",
       "      <th>lstat</th>\n",
       "      <th>medv</th>\n",
       "    </tr>\n",
       "  </thead>\n",
       "  <tbody>\n",
       "    <tr>\n",
       "      <th>count</th>\n",
       "      <td>506.000000</td>\n",
       "      <td>506.000000</td>\n",
       "      <td>506.000000</td>\n",
       "      <td>506.000000</td>\n",
       "      <td>506.000000</td>\n",
       "      <td>506.000000</td>\n",
       "      <td>506.000000</td>\n",
       "      <td>506.000000</td>\n",
       "      <td>506.000000</td>\n",
       "      <td>506.000000</td>\n",
       "      <td>506.000000</td>\n",
       "      <td>506.000000</td>\n",
       "      <td>506.000000</td>\n",
       "      <td>506.000000</td>\n",
       "    </tr>\n",
       "    <tr>\n",
       "      <th>mean</th>\n",
       "      <td>3.613524</td>\n",
       "      <td>11.363636</td>\n",
       "      <td>11.136779</td>\n",
       "      <td>0.069170</td>\n",
       "      <td>0.554695</td>\n",
       "      <td>6.284634</td>\n",
       "      <td>68.574901</td>\n",
       "      <td>3.795043</td>\n",
       "      <td>9.549407</td>\n",
       "      <td>408.237154</td>\n",
       "      <td>18.455534</td>\n",
       "      <td>356.674032</td>\n",
       "      <td>12.653063</td>\n",
       "      <td>22.532806</td>\n",
       "    </tr>\n",
       "    <tr>\n",
       "      <th>std</th>\n",
       "      <td>8.601545</td>\n",
       "      <td>23.322453</td>\n",
       "      <td>6.860353</td>\n",
       "      <td>0.253994</td>\n",
       "      <td>0.115878</td>\n",
       "      <td>0.702617</td>\n",
       "      <td>28.148861</td>\n",
       "      <td>2.105710</td>\n",
       "      <td>8.707259</td>\n",
       "      <td>168.537116</td>\n",
       "      <td>2.164946</td>\n",
       "      <td>91.294864</td>\n",
       "      <td>7.141062</td>\n",
       "      <td>9.197104</td>\n",
       "    </tr>\n",
       "    <tr>\n",
       "      <th>min</th>\n",
       "      <td>0.006320</td>\n",
       "      <td>0.000000</td>\n",
       "      <td>0.460000</td>\n",
       "      <td>0.000000</td>\n",
       "      <td>0.385000</td>\n",
       "      <td>3.561000</td>\n",
       "      <td>2.900000</td>\n",
       "      <td>1.129600</td>\n",
       "      <td>1.000000</td>\n",
       "      <td>187.000000</td>\n",
       "      <td>12.600000</td>\n",
       "      <td>0.320000</td>\n",
       "      <td>1.730000</td>\n",
       "      <td>5.000000</td>\n",
       "    </tr>\n",
       "    <tr>\n",
       "      <th>25%</th>\n",
       "      <td>0.082045</td>\n",
       "      <td>0.000000</td>\n",
       "      <td>5.190000</td>\n",
       "      <td>0.000000</td>\n",
       "      <td>0.449000</td>\n",
       "      <td>5.885500</td>\n",
       "      <td>45.025000</td>\n",
       "      <td>2.100175</td>\n",
       "      <td>4.000000</td>\n",
       "      <td>279.000000</td>\n",
       "      <td>17.400000</td>\n",
       "      <td>375.377500</td>\n",
       "      <td>6.950000</td>\n",
       "      <td>17.025000</td>\n",
       "    </tr>\n",
       "    <tr>\n",
       "      <th>50%</th>\n",
       "      <td>0.256510</td>\n",
       "      <td>0.000000</td>\n",
       "      <td>9.690000</td>\n",
       "      <td>0.000000</td>\n",
       "      <td>0.538000</td>\n",
       "      <td>6.208500</td>\n",
       "      <td>77.500000</td>\n",
       "      <td>3.207450</td>\n",
       "      <td>5.000000</td>\n",
       "      <td>330.000000</td>\n",
       "      <td>19.050000</td>\n",
       "      <td>391.440000</td>\n",
       "      <td>11.360000</td>\n",
       "      <td>21.200000</td>\n",
       "    </tr>\n",
       "    <tr>\n",
       "      <th>75%</th>\n",
       "      <td>3.677083</td>\n",
       "      <td>12.500000</td>\n",
       "      <td>18.100000</td>\n",
       "      <td>0.000000</td>\n",
       "      <td>0.624000</td>\n",
       "      <td>6.623500</td>\n",
       "      <td>94.075000</td>\n",
       "      <td>5.188425</td>\n",
       "      <td>24.000000</td>\n",
       "      <td>666.000000</td>\n",
       "      <td>20.200000</td>\n",
       "      <td>396.225000</td>\n",
       "      <td>16.955000</td>\n",
       "      <td>25.000000</td>\n",
       "    </tr>\n",
       "    <tr>\n",
       "      <th>max</th>\n",
       "      <td>88.976200</td>\n",
       "      <td>100.000000</td>\n",
       "      <td>27.740000</td>\n",
       "      <td>1.000000</td>\n",
       "      <td>0.871000</td>\n",
       "      <td>8.780000</td>\n",
       "      <td>100.000000</td>\n",
       "      <td>12.126500</td>\n",
       "      <td>24.000000</td>\n",
       "      <td>711.000000</td>\n",
       "      <td>22.000000</td>\n",
       "      <td>396.900000</td>\n",
       "      <td>37.970000</td>\n",
       "      <td>50.000000</td>\n",
       "    </tr>\n",
       "  </tbody>\n",
       "</table>\n",
       "</div>"
      ],
      "text/plain": [
       "             crim          zn       indus        chas         nox          rm  \\\n",
       "count  506.000000  506.000000  506.000000  506.000000  506.000000  506.000000   \n",
       "mean     3.613524   11.363636   11.136779    0.069170    0.554695    6.284634   \n",
       "std      8.601545   23.322453    6.860353    0.253994    0.115878    0.702617   \n",
       "min      0.006320    0.000000    0.460000    0.000000    0.385000    3.561000   \n",
       "25%      0.082045    0.000000    5.190000    0.000000    0.449000    5.885500   \n",
       "50%      0.256510    0.000000    9.690000    0.000000    0.538000    6.208500   \n",
       "75%      3.677083   12.500000   18.100000    0.000000    0.624000    6.623500   \n",
       "max     88.976200  100.000000   27.740000    1.000000    0.871000    8.780000   \n",
       "\n",
       "              age         dis         rad         tax     ptratio       black  \\\n",
       "count  506.000000  506.000000  506.000000  506.000000  506.000000  506.000000   \n",
       "mean    68.574901    3.795043    9.549407  408.237154   18.455534  356.674032   \n",
       "std     28.148861    2.105710    8.707259  168.537116    2.164946   91.294864   \n",
       "min      2.900000    1.129600    1.000000  187.000000   12.600000    0.320000   \n",
       "25%     45.025000    2.100175    4.000000  279.000000   17.400000  375.377500   \n",
       "50%     77.500000    3.207450    5.000000  330.000000   19.050000  391.440000   \n",
       "75%     94.075000    5.188425   24.000000  666.000000   20.200000  396.225000   \n",
       "max    100.000000   12.126500   24.000000  711.000000   22.000000  396.900000   \n",
       "\n",
       "            lstat        medv  \n",
       "count  506.000000  506.000000  \n",
       "mean    12.653063   22.532806  \n",
       "std      7.141062    9.197104  \n",
       "min      1.730000    5.000000  \n",
       "25%      6.950000   17.025000  \n",
       "50%     11.360000   21.200000  \n",
       "75%     16.955000   25.000000  \n",
       "max     37.970000   50.000000  "
      ]
     },
     "execution_count": 955,
     "metadata": {},
     "output_type": "execute_result"
    }
   ],
   "source": [
    "df.describe()"
   ]
  },
  {
   "cell_type": "code",
   "execution_count": 956,
   "id": "7851e6f3",
   "metadata": {},
   "outputs": [],
   "source": [
    "crim_predictor = df['crim']"
   ]
  },
  {
   "cell_type": "code",
   "execution_count": 957,
   "id": "39140a38",
   "metadata": {},
   "outputs": [
    {
     "data": {
      "text/plain": [
       "0    0.00632\n",
       "1    0.02731\n",
       "2    0.02729\n",
       "3    0.03237\n",
       "4    0.06905\n",
       "Name: crim, dtype: float64"
      ]
     },
     "execution_count": 957,
     "metadata": {},
     "output_type": "execute_result"
    }
   ],
   "source": [
    "crim_predictor.head()"
   ]
  },
  {
   "cell_type": "code",
   "execution_count": 958,
   "id": "b1cce28e",
   "metadata": {},
   "outputs": [],
   "source": [
    "number_of_data_points = crim_predictor.shape[0]"
   ]
  },
  {
   "cell_type": "code",
   "execution_count": 959,
   "id": "1927527e",
   "metadata": {},
   "outputs": [
    {
     "name": "stdout",
     "output_type": "stream",
     "text": [
      "The number of data points considered: 506\n"
     ]
    }
   ],
   "source": [
    "print(\"The number of data points considered: {}\".format(number_of_data_points))"
   ]
  },
  {
   "cell_type": "code",
   "execution_count": 960,
   "id": "24450787",
   "metadata": {},
   "outputs": [],
   "source": [
    "crim_sample_mean = np.mean(crim_predictor)"
   ]
  },
  {
   "cell_type": "code",
   "execution_count": 961,
   "id": "f3f8a1b0",
   "metadata": {},
   "outputs": [
    {
     "name": "stdout",
     "output_type": "stream",
     "text": [
      "The crime by town mean: 3.613523557312254\n"
     ]
    }
   ],
   "source": [
    "print(\"The crime by town mean: {}\".format(crim_sample_mean))"
   ]
  },
  {
   "cell_type": "code",
   "execution_count": 962,
   "id": "4cfd54f6",
   "metadata": {},
   "outputs": [],
   "source": [
    "crim_standard_error = np.std(crim_predictor) / np.sqrt(number_of_data_points)"
   ]
  },
  {
   "cell_type": "code",
   "execution_count": 964,
   "id": "d4f64caa",
   "metadata": {},
   "outputs": [
    {
     "name": "stdout",
     "output_type": "stream",
     "text": [
      "The crime by town standard error: 0.38200728338016304\n"
     ]
    }
   ],
   "source": [
    "print(\"The crime by town standard error: {}\".format(crim_standard_error))"
   ]
  },
  {
   "cell_type": "markdown",
   "id": "837748dd",
   "metadata": {},
   "source": [
    "Standard error measures the accuracy with which a sample distribution represents a population by using standard deviation. In other words, it represents how different is he sample mean from the population mean."
   ]
  },
  {
   "cell_type": "code",
   "execution_count": 965,
   "id": "c7a02514",
   "metadata": {},
   "outputs": [
    {
     "data": {
      "text/plain": [
       "355    0.10659\n",
       "264    0.55007\n",
       "15     0.62739\n",
       "351    0.07950\n",
       "159    1.42502\n",
       "        ...   \n",
       "396    5.87205\n",
       "294    0.08199\n",
       "20     1.25179\n",
       "60     0.14932\n",
       "402    9.59571\n",
       "Name: crim, Length: 506, dtype: float64"
      ]
     },
     "execution_count": 965,
     "metadata": {},
     "output_type": "execute_result"
    }
   ],
   "source": [
    "utils.resample(crim_predictor)"
   ]
  },
  {
   "cell_type": "code",
   "execution_count": 966,
   "id": "e5215170",
   "metadata": {},
   "outputs": [],
   "source": [
    "sample_mean_values = []\n",
    "\n",
    "number_of_samples = len(crim_predictor)\n",
    "\n",
    "for i in range(1000):\n",
    "    \n",
    "    resampled_data = utils.resample(crim_predictor, n_samples = number_of_samples)\n",
    "    \n",
    "    sample_mean_values.append(np.mean(resampled_data))  "
   ]
  },
  {
   "cell_type": "code",
   "execution_count": 967,
   "id": "6258e455",
   "metadata": {},
   "outputs": [],
   "source": [
    "bootstrap_standard_error = np.std(sample_mean_values) "
   ]
  },
  {
   "cell_type": "code",
   "execution_count": 968,
   "id": "03f6d282",
   "metadata": {},
   "outputs": [
    {
     "name": "stdout",
     "output_type": "stream",
     "text": [
      "The standard error obtained for crime by town as a result of bootstrap samples is: 0.38432028175602134\n"
     ]
    }
   ],
   "source": [
    "print(\"The standard error obtained for crime by town as a result of bootstrap samples is: {}\".format(bootstrap_standard_error))"
   ]
  },
  {
   "cell_type": "markdown",
   "id": "e7ebcdc6",
   "metadata": {},
   "source": [
    "## Observation:\n",
    "\n",
    "1. The standard errors obtained are close to each other."
   ]
  },
  {
   "cell_type": "code",
   "execution_count": 972,
   "id": "7d04b8d9",
   "metadata": {},
   "outputs": [
    {
     "data": {
      "text/plain": [
       "0.38432028175602134"
      ]
     },
     "execution_count": 972,
     "metadata": {},
     "output_type": "execute_result"
    }
   ],
   "source": [
    "bootstrap_standard_error"
   ]
  },
  {
   "cell_type": "code",
   "execution_count": 973,
   "id": "b59c7c1e",
   "metadata": {},
   "outputs": [],
   "source": [
    "confidence_interval = [crim_sample_mean - 2 * bootstrap_standard_error, crim_sample_mean + 2 * bootstrap_standard_error]"
   ]
  },
  {
   "cell_type": "code",
   "execution_count": 974,
   "id": "e9730c6c",
   "metadata": {},
   "outputs": [
    {
     "name": "stdout",
     "output_type": "stream",
     "text": [
      "The confidence interval lies in the range: [2.844882993800211, 4.382164120824297]\n"
     ]
    }
   ],
   "source": [
    "print(\"The confidence interval lies in the range: {}\".format(confidence_interval))"
   ]
  },
  {
   "cell_type": "code",
   "execution_count": 975,
   "id": "89e9f4cf",
   "metadata": {},
   "outputs": [],
   "source": [
    "import scipy"
   ]
  },
  {
   "cell_type": "code",
   "execution_count": 976,
   "id": "5db499a2",
   "metadata": {},
   "outputs": [],
   "source": [
    "scipy_interval = scipy.stats.norm.interval(alpha = 0.95, loc = crim_sample_mean, scale = bootstrap_standard_error)"
   ]
  },
  {
   "cell_type": "code",
   "execution_count": 977,
   "id": "d9912e5c",
   "metadata": {},
   "outputs": [
    {
     "name": "stdout",
     "output_type": "stream",
     "text": [
      "The population confidence interval lies in the range with 95% confidence: (2.860269646542166, 4.366777468082342)\n"
     ]
    }
   ],
   "source": [
    "print(\"The population confidence interval lies in the range with 95% confidence: {}\".format(scipy_interval))"
   ]
  },
  {
   "cell_type": "markdown",
   "id": "1c82490f",
   "metadata": {},
   "source": [
    "## Observation:\n",
    "\n",
    "1. The confidence intervals from the library and manual calculation are quite close to each other.\n",
    "2. Therefore, this could give us an idea that as sufficient number of samples are taken, we should be able to generate the population mean from the bootstrap samples. "
   ]
  },
  {
   "cell_type": "code",
   "execution_count": 978,
   "id": "5c678035",
   "metadata": {},
   "outputs": [],
   "source": [
    "quantile_25th_crim_predictor = np.quantile(a = crim_predictor, q = 0.25)"
   ]
  },
  {
   "cell_type": "code",
   "execution_count": 979,
   "id": "4518e424",
   "metadata": {},
   "outputs": [
    {
     "name": "stdout",
     "output_type": "stream",
     "text": [
      "The 25th quantile of the crime predictor is: 0.08204499999999999\n"
     ]
    }
   ],
   "source": [
    "print(\"The 25th quantile of the crime predictor is: {}\".format(quantile_25th_crim_predictor))"
   ]
  },
  {
   "cell_type": "code",
   "execution_count": 980,
   "id": "0ee2869d",
   "metadata": {},
   "outputs": [],
   "source": [
    "sample_values_25th_percentile = []\n",
    "\n",
    "number_of_samples = len(crim_predictor)\n",
    "\n",
    "for i in range(1000):\n",
    "    \n",
    "    resampled_data = utils.resample(crim_predictor, n_samples = number_of_samples)\n",
    "    \n",
    "    sample_values_25th_percentile.append(np.quantile(a = resampled_data, q = 0.25))  "
   ]
  },
  {
   "cell_type": "code",
   "execution_count": 981,
   "id": "935e2174",
   "metadata": {},
   "outputs": [
    {
     "name": "stdout",
     "output_type": "stream",
     "text": [
      "The standard error of the samples of 25th percentile is: 0.007300794362067304\n"
     ]
    }
   ],
   "source": [
    "print(\"The standard error of the samples of 25th percentile is: {}\".format(np.std(sample_values_25th_percentile)))"
   ]
  },
  {
   "cell_type": "markdown",
   "id": "27b27dea",
   "metadata": {},
   "source": [
    "## Observation:\n",
    "\n",
    "1. Taking the 25th percentile values from 1000 bootstrap samples, we get the standard error to be about 0.00714 respectively.\n",
    "2. This is significantly lower than the standard error that we've obtained as a result of taking standard error of the individual mean of the bootstrap samples. \n",
    "3. This shows us that we would be able to find 25th percentile values more accurately from samples compared to 50th percentile values and better get an estimate of 25th percentile values from the population."
   ]
  },
  {
   "cell_type": "code",
   "execution_count": 983,
   "id": "7f720c3a",
   "metadata": {},
   "outputs": [
    {
     "data": {
      "text/html": [
       "<div>\n",
       "<style scoped>\n",
       "    .dataframe tbody tr th:only-of-type {\n",
       "        vertical-align: middle;\n",
       "    }\n",
       "\n",
       "    .dataframe tbody tr th {\n",
       "        vertical-align: top;\n",
       "    }\n",
       "\n",
       "    .dataframe thead th {\n",
       "        text-align: right;\n",
       "    }\n",
       "</style>\n",
       "<table border=\"1\" class=\"dataframe\">\n",
       "  <thead>\n",
       "    <tr style=\"text-align: right;\">\n",
       "      <th></th>\n",
       "      <th>crim</th>\n",
       "      <th>zn</th>\n",
       "      <th>indus</th>\n",
       "      <th>chas</th>\n",
       "      <th>nox</th>\n",
       "      <th>rm</th>\n",
       "      <th>age</th>\n",
       "      <th>dis</th>\n",
       "      <th>rad</th>\n",
       "      <th>tax</th>\n",
       "      <th>ptratio</th>\n",
       "      <th>black</th>\n",
       "      <th>lstat</th>\n",
       "      <th>medv</th>\n",
       "    </tr>\n",
       "  </thead>\n",
       "  <tbody>\n",
       "    <tr>\n",
       "      <th>0</th>\n",
       "      <td>0.00632</td>\n",
       "      <td>18.0</td>\n",
       "      <td>2.31</td>\n",
       "      <td>0</td>\n",
       "      <td>0.538</td>\n",
       "      <td>6.575</td>\n",
       "      <td>65.2</td>\n",
       "      <td>4.0900</td>\n",
       "      <td>1</td>\n",
       "      <td>296</td>\n",
       "      <td>15.3</td>\n",
       "      <td>396.90</td>\n",
       "      <td>4.98</td>\n",
       "      <td>24.0</td>\n",
       "    </tr>\n",
       "    <tr>\n",
       "      <th>1</th>\n",
       "      <td>0.02731</td>\n",
       "      <td>0.0</td>\n",
       "      <td>7.07</td>\n",
       "      <td>0</td>\n",
       "      <td>0.469</td>\n",
       "      <td>6.421</td>\n",
       "      <td>78.9</td>\n",
       "      <td>4.9671</td>\n",
       "      <td>2</td>\n",
       "      <td>242</td>\n",
       "      <td>17.8</td>\n",
       "      <td>396.90</td>\n",
       "      <td>9.14</td>\n",
       "      <td>21.6</td>\n",
       "    </tr>\n",
       "    <tr>\n",
       "      <th>2</th>\n",
       "      <td>0.02729</td>\n",
       "      <td>0.0</td>\n",
       "      <td>7.07</td>\n",
       "      <td>0</td>\n",
       "      <td>0.469</td>\n",
       "      <td>7.185</td>\n",
       "      <td>61.1</td>\n",
       "      <td>4.9671</td>\n",
       "      <td>2</td>\n",
       "      <td>242</td>\n",
       "      <td>17.8</td>\n",
       "      <td>392.83</td>\n",
       "      <td>4.03</td>\n",
       "      <td>34.7</td>\n",
       "    </tr>\n",
       "    <tr>\n",
       "      <th>3</th>\n",
       "      <td>0.03237</td>\n",
       "      <td>0.0</td>\n",
       "      <td>2.18</td>\n",
       "      <td>0</td>\n",
       "      <td>0.458</td>\n",
       "      <td>6.998</td>\n",
       "      <td>45.8</td>\n",
       "      <td>6.0622</td>\n",
       "      <td>3</td>\n",
       "      <td>222</td>\n",
       "      <td>18.7</td>\n",
       "      <td>394.63</td>\n",
       "      <td>2.94</td>\n",
       "      <td>33.4</td>\n",
       "    </tr>\n",
       "    <tr>\n",
       "      <th>4</th>\n",
       "      <td>0.06905</td>\n",
       "      <td>0.0</td>\n",
       "      <td>2.18</td>\n",
       "      <td>0</td>\n",
       "      <td>0.458</td>\n",
       "      <td>7.147</td>\n",
       "      <td>54.2</td>\n",
       "      <td>6.0622</td>\n",
       "      <td>3</td>\n",
       "      <td>222</td>\n",
       "      <td>18.7</td>\n",
       "      <td>396.90</td>\n",
       "      <td>5.33</td>\n",
       "      <td>36.2</td>\n",
       "    </tr>\n",
       "  </tbody>\n",
       "</table>\n",
       "</div>"
      ],
      "text/plain": [
       "      crim    zn  indus  chas    nox     rm   age     dis  rad  tax  ptratio  \\\n",
       "0  0.00632  18.0   2.31     0  0.538  6.575  65.2  4.0900    1  296     15.3   \n",
       "1  0.02731   0.0   7.07     0  0.469  6.421  78.9  4.9671    2  242     17.8   \n",
       "2  0.02729   0.0   7.07     0  0.469  7.185  61.1  4.9671    2  242     17.8   \n",
       "3  0.03237   0.0   2.18     0  0.458  6.998  45.8  6.0622    3  222     18.7   \n",
       "4  0.06905   0.0   2.18     0  0.458  7.147  54.2  6.0622    3  222     18.7   \n",
       "\n",
       "    black  lstat  medv  \n",
       "0  396.90   4.98  24.0  \n",
       "1  396.90   9.14  21.6  \n",
       "2  392.83   4.03  34.7  \n",
       "3  394.63   2.94  33.4  \n",
       "4  396.90   5.33  36.2  "
      ]
     },
     "execution_count": 983,
     "metadata": {},
     "output_type": "execute_result"
    }
   ],
   "source": [
    "df.head()"
   ]
  },
  {
   "cell_type": "code",
   "execution_count": 984,
   "id": "f06e4080",
   "metadata": {},
   "outputs": [],
   "source": [
    "df_reduced = df[['crim', 'rad']]"
   ]
  },
  {
   "cell_type": "code",
   "execution_count": 985,
   "id": "361cf82f",
   "metadata": {},
   "outputs": [
    {
     "data": {
      "text/plain": [
       "506"
      ]
     },
     "execution_count": 985,
     "metadata": {},
     "output_type": "execute_result"
    }
   ],
   "source": [
    "len(df_reduced)"
   ]
  },
  {
   "cell_type": "code",
   "execution_count": 986,
   "id": "da9de8ad",
   "metadata": {},
   "outputs": [],
   "source": [
    "beta_0_values = []\n",
    "beta_1_values = []\n",
    "number_of_samples = len(df_reduced)\n",
    "for i in range(1000):\n",
    "    resampled_data = utils.resample(df_reduced, n_samples = number_of_samples)\n",
    "    X = resampled_data['rad'].to_numpy().reshape(-1, 1)\n",
    "    y = resampled_data['crim'].to_numpy().reshape(-1, 1)\n",
    "    model = LinearRegression()\n",
    "    model.fit(X, y)\n",
    "    beta_0_values.append(model.intercept_[0])\n",
    "    beta_1_values.append(model.coef_[0][0])"
   ]
  },
  {
   "cell_type": "code",
   "execution_count": 987,
   "id": "7d567baa",
   "metadata": {},
   "outputs": [],
   "source": [
    "beta_0_mean = np.mean(beta_0_values)\n",
    "beta_1_mean = np.mean(beta_1_values)"
   ]
  },
  {
   "cell_type": "code",
   "execution_count": 988,
   "id": "b7e57090",
   "metadata": {},
   "outputs": [
    {
     "name": "stdout",
     "output_type": "stream",
     "text": [
      "The mean of the beta0 values obtained from fitting bootstrap samples is: -2.288677985807876\n"
     ]
    }
   ],
   "source": [
    "print(\"The mean of the beta0 values obtained from fitting bootstrap samples is: {}\".format(beta_0_mean))"
   ]
  },
  {
   "cell_type": "code",
   "execution_count": 989,
   "id": "27f336d7",
   "metadata": {},
   "outputs": [
    {
     "name": "stdout",
     "output_type": "stream",
     "text": [
      "The mean of the beta1 values obtained from fitting bootstrap samples is: 0.6180312358839929\n"
     ]
    }
   ],
   "source": [
    "print(\"The mean of the beta1 values obtained from fitting bootstrap samples is: {}\".format(beta_1_mean))"
   ]
  },
  {
   "cell_type": "code",
   "execution_count": 990,
   "id": "db674c77",
   "metadata": {},
   "outputs": [],
   "source": [
    "beta_0_standard_error = np.std(beta_0_values)\n",
    "beta_1_standard_error = np.std(beta_1_values)\n"
   ]
  },
  {
   "cell_type": "code",
   "execution_count": 991,
   "id": "dd9ad592",
   "metadata": {},
   "outputs": [
    {
     "name": "stdout",
     "output_type": "stream",
     "text": [
      "The standard error of the beta0 values obtained from fitting bootstrap samples is: 0.2556740185561888\n"
     ]
    }
   ],
   "source": [
    "print(\"The standard error of the beta0 values obtained from fitting bootstrap samples is: {}\".format(beta_0_standard_error))"
   ]
  },
  {
   "cell_type": "code",
   "execution_count": 992,
   "id": "08d4ed39",
   "metadata": {},
   "outputs": [
    {
     "name": "stdout",
     "output_type": "stream",
     "text": [
      "The standard error of the beta1 values obtained from fitting bootstrap samples is: 0.057460376512837676\n"
     ]
    }
   ],
   "source": [
    "print(\"The standard error of the beta1 values obtained from fitting bootstrap samples is: {}\".format(beta_1_standard_error))"
   ]
  },
  {
   "cell_type": "code",
   "execution_count": 993,
   "id": "ef9ead2c",
   "metadata": {},
   "outputs": [],
   "source": [
    "df_reduced = df[['crim', 'rad']]\n",
    "\n",
    "X = df_reduced['rad']\n",
    "y = df_reduced['crim']"
   ]
  },
  {
   "cell_type": "code",
   "execution_count": 994,
   "id": "be7cd11b",
   "metadata": {},
   "outputs": [],
   "source": [
    "beta_1_linregress = scipy.stats.linregress(X, y).intercept"
   ]
  },
  {
   "cell_type": "code",
   "execution_count": 995,
   "id": "611134b6",
   "metadata": {},
   "outputs": [],
   "source": [
    "beta_0_linregress = scipy.stats.linregress(X, y).slope"
   ]
  },
  {
   "cell_type": "code",
   "execution_count": 996,
   "id": "6210a908",
   "metadata": {},
   "outputs": [],
   "source": [
    "beta_1_std_linregress = scipy.stats.linregress(X, y).intercept_stderr"
   ]
  },
  {
   "cell_type": "code",
   "execution_count": 997,
   "id": "2d8097f8",
   "metadata": {},
   "outputs": [],
   "source": [
    "beta_0_std_linregress = scipy.stats.linregress(X, y).stderr"
   ]
  },
  {
   "cell_type": "code",
   "execution_count": 998,
   "id": "a1a301e4",
   "metadata": {},
   "outputs": [
    {
     "name": "stdout",
     "output_type": "stream",
     "text": [
      "The mean using linregress of the beta0 values obtained is: 0.2556740185561888\n"
     ]
    }
   ],
   "source": [
    "print(\"The mean using linregress of the beta0 values obtained is: {}\".format(beta_0_standard_error))"
   ]
  },
  {
   "cell_type": "code",
   "execution_count": 999,
   "id": "e6ac993e",
   "metadata": {},
   "outputs": [
    {
     "name": "stdout",
     "output_type": "stream",
     "text": [
      "The mean using linregress of the beta1 values obtained is: 0.057460376512837676\n"
     ]
    }
   ],
   "source": [
    "print(\"The mean using linregress of the beta1 values obtained is: {}\".format(beta_1_standard_error))"
   ]
  },
  {
   "cell_type": "code",
   "execution_count": 1000,
   "id": "dde717df",
   "metadata": {},
   "outputs": [
    {
     "name": "stdout",
     "output_type": "stream",
     "text": [
      "The standard error using linregress of the beta1 values obtained is: 0.44347583375963484\n"
     ]
    }
   ],
   "source": [
    "print(\"The standard error using linregress of the beta1 values obtained is: {}\".format(beta_1_std_linregress))"
   ]
  },
  {
   "cell_type": "code",
   "execution_count": 1001,
   "id": "84acac19",
   "metadata": {},
   "outputs": [
    {
     "name": "stdout",
     "output_type": "stream",
     "text": [
      "The standard error using linregress of the beta0 values obtained is: 0.03433181966784242\n"
     ]
    }
   ],
   "source": [
    "print(\"The standard error using linregress of the beta0 values obtained is: {}\".format(beta_0_std_linregress))"
   ]
  },
  {
   "cell_type": "markdown",
   "id": "5a8045b1",
   "metadata": {},
   "source": [
    "## Observation:\n",
    "\n",
    "1. The standard error values obtained as a result of Lineregress for beta0 and beta1 are quite close to the values that are obtained as a result of fitting bootstrap samples to the linear regression model. \n",
    "2. Similarly, the mean values of beta0 and beta1 of the boostrap samples are similar to the values from linregress."
   ]
  },
  {
   "cell_type": "markdown",
   "id": "cf0059f6",
   "metadata": {},
   "source": [
    "## Question 4"
   ]
  },
  {
   "cell_type": "code",
   "execution_count": 1002,
   "id": "20c4e415",
   "metadata": {},
   "outputs": [],
   "source": [
    "np.random.seed(123)\n",
    "x = np.random.normal(0, 1, (200))\n",
    "y = x + 2 * x**2 - 2 * x ** 3 + np.random.normal(0, 1, (200))"
   ]
  },
  {
   "cell_type": "code",
   "execution_count": 1003,
   "id": "153907c2",
   "metadata": {},
   "outputs": [],
   "source": [
    "X_train, X_cv, y_train, y_cv = train_test_split(x, y, random_state = 101, test_size = 0.3)"
   ]
  },
  {
   "cell_type": "code",
   "execution_count": 1004,
   "id": "354c167c",
   "metadata": {},
   "outputs": [],
   "source": [
    "X_train = np.asarray(X_train).reshape(-1, 1)\n",
    "y_train = np.asarray(y_train).reshape(-1, 1)\n",
    "\n",
    "X_cv = np.asarray(X_cv).reshape(-1, 1)\n",
    "y_cv = np.asarray(y_cv).reshape(-1, 1)"
   ]
  },
  {
   "cell_type": "code",
   "execution_count": 1005,
   "id": "90bb62ca",
   "metadata": {},
   "outputs": [],
   "source": [
    "x = np.asarray(x).reshape(-1, 1)\n",
    "y = np.asarray(y).reshape(-1, 1)"
   ]
  },
  {
   "cell_type": "code",
   "execution_count": 1006,
   "id": "c894e960",
   "metadata": {},
   "outputs": [],
   "source": [
    "def line_plot_function(data_x, data_y, fig_size = (10, 5), line_color = 'green', value = 'AIC', titlesize = 15):\n",
    "    plt.figure(figsize = fig_size)\n",
    "    sns.lineplot(x = data_x, y = data_y, color = line_color)\n",
    "    plt.scatter(x = data_x, y = data_y)\n",
    "    if value == 'AIC':\n",
    "        plt.title(' Degree of predictions values Vs. AIC values', fontsize = 15)\n",
    "        plt.xlabel('Number of Predictors')\n",
    "        plt.ylabel('AIC values')\n",
    "    else:\n",
    "        plt.title('Degree of predictors values Vs. BIC values', fontsize = 15)\n",
    "        plt.xlabel('Number of Predictors')\n",
    "        plt.ylabel('BIC values')\n",
    "    plt.show()\n",
    "    "
   ]
  },
  {
   "cell_type": "markdown",
   "id": "a374f0a2",
   "metadata": {},
   "source": [
    "## Best Subset Selection"
   ]
  },
  {
   "cell_type": "code",
   "execution_count": 1007,
   "id": "8ab18d35",
   "metadata": {},
   "outputs": [],
   "source": [
    "def Ordinary_least_squares_fit(data_x, data_y):\n",
    "    new_variable = sm.add_constant(data_x)\n",
    "    estimate = sm.OLS(data_y, new_variable)\n",
    "    new_variable_2 = estimate.fit()\n",
    "    AIC_value = new_variable_2.aic\n",
    "    BIC_value = new_variable_2.bic\n",
    "    R_squared_adjusted = new_variable_2.rsquared_adj\n",
    "\n",
    "    \n",
    "    return new_variable_2.aic, new_variable_2.bic, R_squared_adjusted\n"
   ]
  },
  {
   "cell_type": "code",
   "execution_count": 1008,
   "id": "d53a35b4",
   "metadata": {},
   "outputs": [],
   "source": [
    "poly_model = PolynomialFeatures(degree = 10)\n",
    "X_poly_features = poly_model.fit_transform(x)"
   ]
  },
  {
   "cell_type": "code",
   "execution_count": 1009,
   "id": "12e3574c",
   "metadata": {},
   "outputs": [],
   "source": [
    "X_dict = {}\n",
    "for i in range(1, 11):\n",
    "    X_dict[\"degree-{}\".format(i)] = list(X_poly_features[:, i])"
   ]
  },
  {
   "cell_type": "code",
   "execution_count": 1010,
   "id": "7b0f2855",
   "metadata": {},
   "outputs": [],
   "source": [
    "X_dataframe = pd.DataFrame.from_dict(X_dict)"
   ]
  },
  {
   "cell_type": "code",
   "execution_count": 1011,
   "id": "aec86a6b",
   "metadata": {},
   "outputs": [
    {
     "data": {
      "text/html": [
       "<div>\n",
       "<style scoped>\n",
       "    .dataframe tbody tr th:only-of-type {\n",
       "        vertical-align: middle;\n",
       "    }\n",
       "\n",
       "    .dataframe tbody tr th {\n",
       "        vertical-align: top;\n",
       "    }\n",
       "\n",
       "    .dataframe thead th {\n",
       "        text-align: right;\n",
       "    }\n",
       "</style>\n",
       "<table border=\"1\" class=\"dataframe\">\n",
       "  <thead>\n",
       "    <tr style=\"text-align: right;\">\n",
       "      <th></th>\n",
       "      <th>degree-1</th>\n",
       "      <th>degree-2</th>\n",
       "    </tr>\n",
       "  </thead>\n",
       "  <tbody>\n",
       "    <tr>\n",
       "      <th>0</th>\n",
       "      <td>-1.085631</td>\n",
       "      <td>1.178594</td>\n",
       "    </tr>\n",
       "    <tr>\n",
       "      <th>1</th>\n",
       "      <td>0.997345</td>\n",
       "      <td>0.994698</td>\n",
       "    </tr>\n",
       "    <tr>\n",
       "      <th>2</th>\n",
       "      <td>0.282978</td>\n",
       "      <td>0.080077</td>\n",
       "    </tr>\n",
       "    <tr>\n",
       "      <th>3</th>\n",
       "      <td>-1.506295</td>\n",
       "      <td>2.268924</td>\n",
       "    </tr>\n",
       "    <tr>\n",
       "      <th>4</th>\n",
       "      <td>-0.578600</td>\n",
       "      <td>0.334778</td>\n",
       "    </tr>\n",
       "    <tr>\n",
       "      <th>...</th>\n",
       "      <td>...</td>\n",
       "      <td>...</td>\n",
       "    </tr>\n",
       "    <tr>\n",
       "      <th>195</th>\n",
       "      <td>-3.231055</td>\n",
       "      <td>10.439716</td>\n",
       "    </tr>\n",
       "    <tr>\n",
       "      <th>196</th>\n",
       "      <td>-0.269293</td>\n",
       "      <td>0.072519</td>\n",
       "    </tr>\n",
       "    <tr>\n",
       "      <th>197</th>\n",
       "      <td>-0.110851</td>\n",
       "      <td>0.012288</td>\n",
       "    </tr>\n",
       "    <tr>\n",
       "      <th>198</th>\n",
       "      <td>-0.341262</td>\n",
       "      <td>0.116460</td>\n",
       "    </tr>\n",
       "    <tr>\n",
       "      <th>199</th>\n",
       "      <td>-0.217946</td>\n",
       "      <td>0.047501</td>\n",
       "    </tr>\n",
       "  </tbody>\n",
       "</table>\n",
       "<p>200 rows × 2 columns</p>\n",
       "</div>"
      ],
      "text/plain": [
       "     degree-1   degree-2\n",
       "0   -1.085631   1.178594\n",
       "1    0.997345   0.994698\n",
       "2    0.282978   0.080077\n",
       "3   -1.506295   2.268924\n",
       "4   -0.578600   0.334778\n",
       "..        ...        ...\n",
       "195 -3.231055  10.439716\n",
       "196 -0.269293   0.072519\n",
       "197 -0.110851   0.012288\n",
       "198 -0.341262   0.116460\n",
       "199 -0.217946   0.047501\n",
       "\n",
       "[200 rows x 2 columns]"
      ]
     },
     "execution_count": 1011,
     "metadata": {},
     "output_type": "execute_result"
    }
   ],
   "source": [
    "X_dataframe[['degree-1', 'degree-2']]"
   ]
  },
  {
   "cell_type": "code",
   "execution_count": 1012,
   "id": "f54e72c9",
   "metadata": {},
   "outputs": [
    {
     "data": {
      "text/html": [
       "<div>\n",
       "<style scoped>\n",
       "    .dataframe tbody tr th:only-of-type {\n",
       "        vertical-align: middle;\n",
       "    }\n",
       "\n",
       "    .dataframe tbody tr th {\n",
       "        vertical-align: top;\n",
       "    }\n",
       "\n",
       "    .dataframe thead th {\n",
       "        text-align: right;\n",
       "    }\n",
       "</style>\n",
       "<table border=\"1\" class=\"dataframe\">\n",
       "  <thead>\n",
       "    <tr style=\"text-align: right;\">\n",
       "      <th></th>\n",
       "      <th>degree-1</th>\n",
       "      <th>degree-2</th>\n",
       "      <th>degree-3</th>\n",
       "      <th>degree-4</th>\n",
       "      <th>degree-5</th>\n",
       "      <th>degree-6</th>\n",
       "      <th>degree-7</th>\n",
       "      <th>degree-8</th>\n",
       "      <th>degree-9</th>\n",
       "      <th>degree-10</th>\n",
       "    </tr>\n",
       "  </thead>\n",
       "  <tbody>\n",
       "    <tr>\n",
       "      <th>0</th>\n",
       "      <td>-1.085631</td>\n",
       "      <td>1.178594</td>\n",
       "      <td>-1.279518</td>\n",
       "      <td>1.389083</td>\n",
       "      <td>-1.508031</td>\n",
       "      <td>1.637165</td>\n",
       "      <td>-1.777356</td>\n",
       "      <td>1.929553</td>\n",
       "      <td>-2.094781</td>\n",
       "      <td>2.274159</td>\n",
       "    </tr>\n",
       "    <tr>\n",
       "      <th>1</th>\n",
       "      <td>0.997345</td>\n",
       "      <td>0.994698</td>\n",
       "      <td>0.992057</td>\n",
       "      <td>0.989424</td>\n",
       "      <td>0.986798</td>\n",
       "      <td>0.984178</td>\n",
       "      <td>0.981565</td>\n",
       "      <td>0.978960</td>\n",
       "      <td>0.976361</td>\n",
       "      <td>0.973769</td>\n",
       "    </tr>\n",
       "    <tr>\n",
       "      <th>2</th>\n",
       "      <td>0.282978</td>\n",
       "      <td>0.080077</td>\n",
       "      <td>0.022660</td>\n",
       "      <td>0.006412</td>\n",
       "      <td>0.001815</td>\n",
       "      <td>0.000513</td>\n",
       "      <td>0.000145</td>\n",
       "      <td>0.000041</td>\n",
       "      <td>0.000012</td>\n",
       "      <td>0.000003</td>\n",
       "    </tr>\n",
       "    <tr>\n",
       "      <th>3</th>\n",
       "      <td>-1.506295</td>\n",
       "      <td>2.268924</td>\n",
       "      <td>-3.417668</td>\n",
       "      <td>5.148015</td>\n",
       "      <td>-7.754428</td>\n",
       "      <td>11.680454</td>\n",
       "      <td>-17.594206</td>\n",
       "      <td>26.502059</td>\n",
       "      <td>-39.919911</td>\n",
       "      <td>60.131151</td>\n",
       "    </tr>\n",
       "    <tr>\n",
       "      <th>4</th>\n",
       "      <td>-0.578600</td>\n",
       "      <td>0.334778</td>\n",
       "      <td>-0.193703</td>\n",
       "      <td>0.112076</td>\n",
       "      <td>-0.064847</td>\n",
       "      <td>0.037521</td>\n",
       "      <td>-0.021710</td>\n",
       "      <td>0.012561</td>\n",
       "      <td>-0.007268</td>\n",
       "      <td>0.004205</td>\n",
       "    </tr>\n",
       "  </tbody>\n",
       "</table>\n",
       "</div>"
      ],
      "text/plain": [
       "   degree-1  degree-2  degree-3  degree-4  degree-5   degree-6   degree-7  \\\n",
       "0 -1.085631  1.178594 -1.279518  1.389083 -1.508031   1.637165  -1.777356   \n",
       "1  0.997345  0.994698  0.992057  0.989424  0.986798   0.984178   0.981565   \n",
       "2  0.282978  0.080077  0.022660  0.006412  0.001815   0.000513   0.000145   \n",
       "3 -1.506295  2.268924 -3.417668  5.148015 -7.754428  11.680454 -17.594206   \n",
       "4 -0.578600  0.334778 -0.193703  0.112076 -0.064847   0.037521  -0.021710   \n",
       "\n",
       "    degree-8   degree-9  degree-10  \n",
       "0   1.929553  -2.094781   2.274159  \n",
       "1   0.978960   0.976361   0.973769  \n",
       "2   0.000041   0.000012   0.000003  \n",
       "3  26.502059 -39.919911  60.131151  \n",
       "4   0.012561  -0.007268   0.004205  "
      ]
     },
     "execution_count": 1012,
     "metadata": {},
     "output_type": "execute_result"
    }
   ],
   "source": [
    "X_dataframe.head()"
   ]
  },
  {
   "cell_type": "code",
   "execution_count": 1013,
   "id": "5e6e5dcc",
   "metadata": {},
   "outputs": [
    {
     "data": {
      "text/plain": [
       "(200, 10)"
      ]
     },
     "execution_count": 1013,
     "metadata": {},
     "output_type": "execute_result"
    }
   ],
   "source": [
    "X_dataframe.shape"
   ]
  },
  {
   "cell_type": "code",
   "execution_count": 1014,
   "id": "1ff00bed",
   "metadata": {},
   "outputs": [
    {
     "data": {
      "text/plain": [
       "(200, 1)"
      ]
     },
     "execution_count": 1014,
     "metadata": {},
     "output_type": "execute_result"
    }
   ],
   "source": [
    "y.shape"
   ]
  },
  {
   "cell_type": "code",
   "execution_count": 1015,
   "id": "d45e4f36",
   "metadata": {},
   "outputs": [
    {
     "data": {
      "application/vnd.jupyter.widget-view+json": {
       "model_id": "38cff05b246d442cbf6918bf4d2ea04f",
       "version_major": 2,
       "version_minor": 0
      },
      "text/plain": [
       "HBox(children=(HTML(value=''), FloatProgress(value=0.0, max=11.0), HTML(value='')))"
      ]
     },
     "metadata": {},
     "output_type": "display_data"
    },
    {
     "name": "stdout",
     "output_type": "stream",
     "text": [
      "\n"
     ]
    }
   ],
   "source": [
    "from tqdm import tnrange\n",
    "import itertools\n",
    "\n",
    "AIC_values = []\n",
    "BIC_values = []\n",
    "Adjusted_R_squared_values = []\n",
    "number_of_features = []\n",
    "features_selected = []\n",
    "for i in tnrange(1, len(X_poly_features[0]) + 1):\n",
    "    for combinations in itertools.combinations(X_dataframe.columns, i):\n",
    "        result = Ordinary_least_squares_fit(X_dataframe[list(combinations)], y)\n",
    "        AIC_values.append(result[0])\n",
    "        BIC_values.append(result[1])\n",
    "        Adjusted_R_squared_values.append(result[2])\n",
    "        features_selected.append(list(combinations))\n",
    "        number_of_features.append(len(combinations))"
   ]
  },
  {
   "cell_type": "code",
   "execution_count": 1016,
   "id": "aee8da2a",
   "metadata": {},
   "outputs": [],
   "source": [
    "dataframe_evaluation = pd.DataFrame({'features_selected': features_selected, 'AIC values': AIC_values, \n",
    "                                     'BIC values': BIC_values, 'Adjusted R Squared Values': Adjusted_R_squared_values,\n",
    "                                    'Number of Combinations': number_of_features})"
   ]
  },
  {
   "cell_type": "code",
   "execution_count": 1017,
   "id": "687f193d",
   "metadata": {},
   "outputs": [
    {
     "data": {
      "text/html": [
       "<div>\n",
       "<style scoped>\n",
       "    .dataframe tbody tr th:only-of-type {\n",
       "        vertical-align: middle;\n",
       "    }\n",
       "\n",
       "    .dataframe tbody tr th {\n",
       "        vertical-align: top;\n",
       "    }\n",
       "\n",
       "    .dataframe thead th {\n",
       "        text-align: right;\n",
       "    }\n",
       "</style>\n",
       "<table border=\"1\" class=\"dataframe\">\n",
       "  <thead>\n",
       "    <tr style=\"text-align: right;\">\n",
       "      <th></th>\n",
       "      <th>features_selected</th>\n",
       "      <th>AIC values</th>\n",
       "      <th>BIC values</th>\n",
       "      <th>Adjusted R Squared Values</th>\n",
       "      <th>Number of Combinations</th>\n",
       "    </tr>\n",
       "  </thead>\n",
       "  <tbody>\n",
       "    <tr>\n",
       "      <th>0</th>\n",
       "      <td>[degree-1]</td>\n",
       "      <td>1356.768181</td>\n",
       "      <td>1363.364816</td>\n",
       "      <td>0.421163</td>\n",
       "      <td>1</td>\n",
       "    </tr>\n",
       "    <tr>\n",
       "      <th>1</th>\n",
       "      <td>[degree-2]</td>\n",
       "      <td>1387.524884</td>\n",
       "      <td>1394.121519</td>\n",
       "      <td>0.324938</td>\n",
       "      <td>1</td>\n",
       "    </tr>\n",
       "    <tr>\n",
       "      <th>2</th>\n",
       "      <td>[degree-3]</td>\n",
       "      <td>1065.501335</td>\n",
       "      <td>1072.097970</td>\n",
       "      <td>0.865079</td>\n",
       "      <td>1</td>\n",
       "    </tr>\n",
       "    <tr>\n",
       "      <th>3</th>\n",
       "      <td>[degree-4]</td>\n",
       "      <td>1330.869591</td>\n",
       "      <td>1337.466225</td>\n",
       "      <td>0.491468</td>\n",
       "      <td>1</td>\n",
       "    </tr>\n",
       "    <tr>\n",
       "      <th>4</th>\n",
       "      <td>[degree-5]</td>\n",
       "      <td>1063.848982</td>\n",
       "      <td>1070.445617</td>\n",
       "      <td>0.866189</td>\n",
       "      <td>1</td>\n",
       "    </tr>\n",
       "  </tbody>\n",
       "</table>\n",
       "</div>"
      ],
      "text/plain": [
       "  features_selected   AIC values   BIC values  Adjusted R Squared Values  \\\n",
       "0        [degree-1]  1356.768181  1363.364816                   0.421163   \n",
       "1        [degree-2]  1387.524884  1394.121519                   0.324938   \n",
       "2        [degree-3]  1065.501335  1072.097970                   0.865079   \n",
       "3        [degree-4]  1330.869591  1337.466225                   0.491468   \n",
       "4        [degree-5]  1063.848982  1070.445617                   0.866189   \n",
       "\n",
       "   Number of Combinations  \n",
       "0                       1  \n",
       "1                       1  \n",
       "2                       1  \n",
       "3                       1  \n",
       "4                       1  "
      ]
     },
     "execution_count": 1017,
     "metadata": {},
     "output_type": "execute_result"
    }
   ],
   "source": [
    "dataframe_evaluation.head()"
   ]
  },
  {
   "cell_type": "code",
   "execution_count": 1018,
   "id": "e523e854",
   "metadata": {},
   "outputs": [],
   "source": [
    "df_min_AIC_values = dataframe_evaluation[dataframe_evaluation.groupby('Number of Combinations')['AIC values'].transform(min)\n",
    "                              == dataframe_evaluation['AIC values']]"
   ]
  },
  {
   "cell_type": "code",
   "execution_count": 1019,
   "id": "2b6e2df7",
   "metadata": {},
   "outputs": [],
   "source": [
    "df_max_AIC_values = dataframe_evaluation[dataframe_evaluation.groupby('Number of Combinations')['AIC values'].transform(max)\n",
    "                              == dataframe_evaluation['AIC values']]"
   ]
  },
  {
   "cell_type": "code",
   "execution_count": 1020,
   "id": "89318114",
   "metadata": {},
   "outputs": [],
   "source": [
    "df_min_BIC_values = dataframe_evaluation[dataframe_evaluation.groupby('Number of Combinations')['BIC values'].transform(min)\n",
    "                              == dataframe_evaluation['BIC values']]"
   ]
  },
  {
   "cell_type": "code",
   "execution_count": 1021,
   "id": "f10c06d3",
   "metadata": {},
   "outputs": [],
   "source": [
    "df_max_BIC_values = dataframe_evaluation[dataframe_evaluation.groupby('Number of Combinations')['BIC values'].transform(max)\n",
    "                              == dataframe_evaluation['BIC values']]"
   ]
  },
  {
   "cell_type": "code",
   "execution_count": 1022,
   "id": "99dd9f53",
   "metadata": {},
   "outputs": [
    {
     "data": {
      "text/html": [
       "<div>\n",
       "<style scoped>\n",
       "    .dataframe tbody tr th:only-of-type {\n",
       "        vertical-align: middle;\n",
       "    }\n",
       "\n",
       "    .dataframe tbody tr th {\n",
       "        vertical-align: top;\n",
       "    }\n",
       "\n",
       "    .dataframe thead th {\n",
       "        text-align: right;\n",
       "    }\n",
       "</style>\n",
       "<table border=\"1\" class=\"dataframe\">\n",
       "  <thead>\n",
       "    <tr style=\"text-align: right;\">\n",
       "      <th></th>\n",
       "      <th>features_selected</th>\n",
       "      <th>AIC values</th>\n",
       "      <th>BIC values</th>\n",
       "      <th>Adjusted R Squared Values</th>\n",
       "      <th>Number of Combinations</th>\n",
       "    </tr>\n",
       "  </thead>\n",
       "  <tbody>\n",
       "    <tr>\n",
       "      <th>4</th>\n",
       "      <td>[degree-5]</td>\n",
       "      <td>1063.848982</td>\n",
       "      <td>1070.445617</td>\n",
       "      <td>0.866189</td>\n",
       "      <td>1</td>\n",
       "    </tr>\n",
       "    <tr>\n",
       "      <th>19</th>\n",
       "      <td>[degree-2, degree-3]</td>\n",
       "      <td>604.930648</td>\n",
       "      <td>614.825600</td>\n",
       "      <td>0.986578</td>\n",
       "      <td>2</td>\n",
       "    </tr>\n",
       "    <tr>\n",
       "      <th>55</th>\n",
       "      <td>[degree-1, degree-2, degree-3]</td>\n",
       "      <td>542.275105</td>\n",
       "      <td>555.468374</td>\n",
       "      <td>0.990236</td>\n",
       "      <td>3</td>\n",
       "    </tr>\n",
       "    <tr>\n",
       "      <th>175</th>\n",
       "      <td>[degree-1, degree-2, degree-3, degree-4]</td>\n",
       "      <td>544.212798</td>\n",
       "      <td>560.704385</td>\n",
       "      <td>0.990189</td>\n",
       "      <td>4</td>\n",
       "    </tr>\n",
       "    <tr>\n",
       "      <th>404</th>\n",
       "      <td>[degree-1, degree-2, degree-3, degree-8, degre...</td>\n",
       "      <td>545.843611</td>\n",
       "      <td>565.633516</td>\n",
       "      <td>0.990157</td>\n",
       "      <td>5</td>\n",
       "    </tr>\n",
       "  </tbody>\n",
       "</table>\n",
       "</div>"
      ],
      "text/plain": [
       "                                     features_selected   AIC values  \\\n",
       "4                                           [degree-5]  1063.848982   \n",
       "19                                [degree-2, degree-3]   604.930648   \n",
       "55                      [degree-1, degree-2, degree-3]   542.275105   \n",
       "175           [degree-1, degree-2, degree-3, degree-4]   544.212798   \n",
       "404  [degree-1, degree-2, degree-3, degree-8, degre...   545.843611   \n",
       "\n",
       "      BIC values  Adjusted R Squared Values  Number of Combinations  \n",
       "4    1070.445617                   0.866189                       1  \n",
       "19    614.825600                   0.986578                       2  \n",
       "55    555.468374                   0.990236                       3  \n",
       "175   560.704385                   0.990189                       4  \n",
       "404   565.633516                   0.990157                       5  "
      ]
     },
     "execution_count": 1022,
     "metadata": {},
     "output_type": "execute_result"
    }
   ],
   "source": [
    "df_min_AIC_values.head()"
   ]
  },
  {
   "cell_type": "code",
   "execution_count": 1023,
   "id": "572b8a13",
   "metadata": {},
   "outputs": [
    {
     "data": {
      "text/html": [
       "<div>\n",
       "<style scoped>\n",
       "    .dataframe tbody tr th:only-of-type {\n",
       "        vertical-align: middle;\n",
       "    }\n",
       "\n",
       "    .dataframe tbody tr th {\n",
       "        vertical-align: top;\n",
       "    }\n",
       "\n",
       "    .dataframe thead th {\n",
       "        text-align: right;\n",
       "    }\n",
       "</style>\n",
       "<table border=\"1\" class=\"dataframe\">\n",
       "  <thead>\n",
       "    <tr style=\"text-align: right;\">\n",
       "      <th></th>\n",
       "      <th>features_selected</th>\n",
       "      <th>AIC values</th>\n",
       "      <th>BIC values</th>\n",
       "      <th>Adjusted R Squared Values</th>\n",
       "      <th>Number of Combinations</th>\n",
       "    </tr>\n",
       "  </thead>\n",
       "  <tbody>\n",
       "    <tr>\n",
       "      <th>1</th>\n",
       "      <td>[degree-2]</td>\n",
       "      <td>1387.524884</td>\n",
       "      <td>1394.121519</td>\n",
       "      <td>0.324938</td>\n",
       "      <td>1</td>\n",
       "    </tr>\n",
       "    <tr>\n",
       "      <th>20</th>\n",
       "      <td>[degree-2, degree-4]</td>\n",
       "      <td>1326.108160</td>\n",
       "      <td>1336.003112</td>\n",
       "      <td>0.505877</td>\n",
       "      <td>2</td>\n",
       "    </tr>\n",
       "    <tr>\n",
       "      <th>169</th>\n",
       "      <td>[degree-6, degree-8, degree-10]</td>\n",
       "      <td>1311.609986</td>\n",
       "      <td>1324.803255</td>\n",
       "      <td>0.542681</td>\n",
       "      <td>3</td>\n",
       "    </tr>\n",
       "    <tr>\n",
       "      <th>286</th>\n",
       "      <td>[degree-2, degree-4, degree-6, degree-8]</td>\n",
       "      <td>1306.447055</td>\n",
       "      <td>1322.938642</td>\n",
       "      <td>0.556507</td>\n",
       "      <td>4</td>\n",
       "    </tr>\n",
       "    <tr>\n",
       "      <th>560</th>\n",
       "      <td>[degree-2, degree-4, degree-6, degree-8, degre...</td>\n",
       "      <td>1296.914593</td>\n",
       "      <td>1316.704497</td>\n",
       "      <td>0.579198</td>\n",
       "      <td>5</td>\n",
       "    </tr>\n",
       "  </tbody>\n",
       "</table>\n",
       "</div>"
      ],
      "text/plain": [
       "                                     features_selected   AIC values  \\\n",
       "1                                           [degree-2]  1387.524884   \n",
       "20                                [degree-2, degree-4]  1326.108160   \n",
       "169                    [degree-6, degree-8, degree-10]  1311.609986   \n",
       "286           [degree-2, degree-4, degree-6, degree-8]  1306.447055   \n",
       "560  [degree-2, degree-4, degree-6, degree-8, degre...  1296.914593   \n",
       "\n",
       "      BIC values  Adjusted R Squared Values  Number of Combinations  \n",
       "1    1394.121519                   0.324938                       1  \n",
       "20   1336.003112                   0.505877                       2  \n",
       "169  1324.803255                   0.542681                       3  \n",
       "286  1322.938642                   0.556507                       4  \n",
       "560  1316.704497                   0.579198                       5  "
      ]
     },
     "execution_count": 1023,
     "metadata": {},
     "output_type": "execute_result"
    }
   ],
   "source": [
    "df_max_AIC_values.head()"
   ]
  },
  {
   "cell_type": "code",
   "execution_count": 1024,
   "id": "4826b2b3",
   "metadata": {},
   "outputs": [
    {
     "data": {
      "image/png": "[encoded data removed]",
      "text/plain": [
       "<Figure size 720x720 with 1 Axes>"
      ]
     },
     "metadata": {
      "needs_background": "light"
     },
     "output_type": "display_data"
    }
   ],
   "source": [
    "line_plot_function(data_x = df_min_AIC_values['Number of Combinations'], data_y = df_min_AIC_values['AIC values'],\n",
    "                  line_color = 'blue', fig_size = (10, 10))"
   ]
  },
  {
   "cell_type": "code",
   "execution_count": 1025,
   "id": "098dcf46",
   "metadata": {},
   "outputs": [
    {
     "data": {
      "image/png": "[encoded data removed]",
      "text/plain": [
       "<Figure size 720x720 with 1 Axes>"
      ]
     },
     "metadata": {
      "needs_background": "light"
     },
     "output_type": "display_data"
    }
   ],
   "source": [
    "line_plot_function(data_x = df_min_AIC_values['Number of Combinations'], data_y = df_min_AIC_values['BIC values'],\n",
    "                  line_color = 'orange', fig_size = (10, 10), value = 'BIC')"
   ]
  },
  {
   "cell_type": "markdown",
   "id": "0b6ef19c",
   "metadata": {},
   "source": [
    "## Observation:\n",
    "\n",
    "1. We can see that with the increase in the number of predictors, the AIC values don't tend to increase as much as the BIC values.\n",
    "2. This shows us that BIC metric would penalize higher number of predictors as compared to AIC.\n",
    "3. Let us now find the best model with the lowest AIC and BIC values and get their coefficients. "
   ]
  },
  {
   "cell_type": "code",
   "execution_count": 1026,
   "id": "1c510689",
   "metadata": {},
   "outputs": [
    {
     "data": {
      "text/html": [
       "<div>\n",
       "<style scoped>\n",
       "    .dataframe tbody tr th:only-of-type {\n",
       "        vertical-align: middle;\n",
       "    }\n",
       "\n",
       "    .dataframe tbody tr th {\n",
       "        vertical-align: top;\n",
       "    }\n",
       "\n",
       "    .dataframe thead th {\n",
       "        text-align: right;\n",
       "    }\n",
       "</style>\n",
       "<table border=\"1\" class=\"dataframe\">\n",
       "  <thead>\n",
       "    <tr style=\"text-align: right;\">\n",
       "      <th></th>\n",
       "      <th>features_selected</th>\n",
       "      <th>AIC values</th>\n",
       "      <th>BIC values</th>\n",
       "      <th>Adjusted R Squared Values</th>\n",
       "      <th>Number of Combinations</th>\n",
       "    </tr>\n",
       "  </thead>\n",
       "  <tbody>\n",
       "    <tr>\n",
       "      <th>4</th>\n",
       "      <td>[degree-5]</td>\n",
       "      <td>1063.848982</td>\n",
       "      <td>1070.445617</td>\n",
       "      <td>0.866189</td>\n",
       "      <td>1</td>\n",
       "    </tr>\n",
       "    <tr>\n",
       "      <th>19</th>\n",
       "      <td>[degree-2, degree-3]</td>\n",
       "      <td>604.930648</td>\n",
       "      <td>614.825600</td>\n",
       "      <td>0.986578</td>\n",
       "      <td>2</td>\n",
       "    </tr>\n",
       "    <tr>\n",
       "      <th>55</th>\n",
       "      <td>[degree-1, degree-2, degree-3]</td>\n",
       "      <td>542.275105</td>\n",
       "      <td>555.468374</td>\n",
       "      <td>0.990236</td>\n",
       "      <td>3</td>\n",
       "    </tr>\n",
       "    <tr>\n",
       "      <th>175</th>\n",
       "      <td>[degree-1, degree-2, degree-3, degree-4]</td>\n",
       "      <td>544.212798</td>\n",
       "      <td>560.704385</td>\n",
       "      <td>0.990189</td>\n",
       "      <td>4</td>\n",
       "    </tr>\n",
       "    <tr>\n",
       "      <th>404</th>\n",
       "      <td>[degree-1, degree-2, degree-3, degree-8, degre...</td>\n",
       "      <td>545.843611</td>\n",
       "      <td>565.633516</td>\n",
       "      <td>0.990157</td>\n",
       "      <td>5</td>\n",
       "    </tr>\n",
       "  </tbody>\n",
       "</table>\n",
       "</div>"
      ],
      "text/plain": [
       "                                     features_selected   AIC values  \\\n",
       "4                                           [degree-5]  1063.848982   \n",
       "19                                [degree-2, degree-3]   604.930648   \n",
       "55                      [degree-1, degree-2, degree-3]   542.275105   \n",
       "175           [degree-1, degree-2, degree-3, degree-4]   544.212798   \n",
       "404  [degree-1, degree-2, degree-3, degree-8, degre...   545.843611   \n",
       "\n",
       "      BIC values  Adjusted R Squared Values  Number of Combinations  \n",
       "4    1070.445617                   0.866189                       1  \n",
       "19    614.825600                   0.986578                       2  \n",
       "55    555.468374                   0.990236                       3  \n",
       "175   560.704385                   0.990189                       4  \n",
       "404   565.633516                   0.990157                       5  "
      ]
     },
     "execution_count": 1026,
     "metadata": {},
     "output_type": "execute_result"
    }
   ],
   "source": [
    "df_min_AIC_values.head()"
   ]
  },
  {
   "cell_type": "code",
   "execution_count": 1027,
   "id": "56fc9712",
   "metadata": {},
   "outputs": [],
   "source": [
    "AIC_best = df_min_AIC_values[df_min_AIC_values['AIC values'] == df_min_AIC_values['AIC values'].min()]"
   ]
  },
  {
   "cell_type": "code",
   "execution_count": 1028,
   "id": "899171e9",
   "metadata": {},
   "outputs": [
    {
     "data": {
      "text/html": [
       "<div>\n",
       "<style scoped>\n",
       "    .dataframe tbody tr th:only-of-type {\n",
       "        vertical-align: middle;\n",
       "    }\n",
       "\n",
       "    .dataframe tbody tr th {\n",
       "        vertical-align: top;\n",
       "    }\n",
       "\n",
       "    .dataframe thead th {\n",
       "        text-align: right;\n",
       "    }\n",
       "</style>\n",
       "<table border=\"1\" class=\"dataframe\">\n",
       "  <thead>\n",
       "    <tr style=\"text-align: right;\">\n",
       "      <th></th>\n",
       "      <th>features_selected</th>\n",
       "      <th>AIC values</th>\n",
       "      <th>BIC values</th>\n",
       "      <th>Adjusted R Squared Values</th>\n",
       "      <th>Number of Combinations</th>\n",
       "    </tr>\n",
       "  </thead>\n",
       "  <tbody>\n",
       "    <tr>\n",
       "      <th>55</th>\n",
       "      <td>[degree-1, degree-2, degree-3]</td>\n",
       "      <td>542.275105</td>\n",
       "      <td>555.468374</td>\n",
       "      <td>0.990236</td>\n",
       "      <td>3</td>\n",
       "    </tr>\n",
       "  </tbody>\n",
       "</table>\n",
       "</div>"
      ],
      "text/plain": [
       "                 features_selected  AIC values  BIC values  \\\n",
       "55  [degree-1, degree-2, degree-3]  542.275105  555.468374   \n",
       "\n",
       "    Adjusted R Squared Values  Number of Combinations  \n",
       "55                   0.990236                       3  "
      ]
     },
     "execution_count": 1028,
     "metadata": {},
     "output_type": "execute_result"
    }
   ],
   "source": [
    "AIC_best"
   ]
  },
  {
   "cell_type": "markdown",
   "id": "d5e0d524",
   "metadata": {},
   "source": [
    "We see that features with degree-1, degree-2 and degree-3 has the lowest AIC value. Let us confirm this with BIC values as well. "
   ]
  },
  {
   "cell_type": "code",
   "execution_count": 1029,
   "id": "fdd44230",
   "metadata": {},
   "outputs": [],
   "source": [
    "BIC_best = df_min_BIC_values[df_min_BIC_values['BIC values'] == df_min_BIC_values['BIC values'].min()]"
   ]
  },
  {
   "cell_type": "code",
   "execution_count": 1030,
   "id": "fa27f60f",
   "metadata": {},
   "outputs": [
    {
     "data": {
      "text/html": [
       "<div>\n",
       "<style scoped>\n",
       "    .dataframe tbody tr th:only-of-type {\n",
       "        vertical-align: middle;\n",
       "    }\n",
       "\n",
       "    .dataframe tbody tr th {\n",
       "        vertical-align: top;\n",
       "    }\n",
       "\n",
       "    .dataframe thead th {\n",
       "        text-align: right;\n",
       "    }\n",
       "</style>\n",
       "<table border=\"1\" class=\"dataframe\">\n",
       "  <thead>\n",
       "    <tr style=\"text-align: right;\">\n",
       "      <th></th>\n",
       "      <th>features_selected</th>\n",
       "      <th>AIC values</th>\n",
       "      <th>BIC values</th>\n",
       "      <th>Adjusted R Squared Values</th>\n",
       "      <th>Number of Combinations</th>\n",
       "    </tr>\n",
       "  </thead>\n",
       "  <tbody>\n",
       "    <tr>\n",
       "      <th>55</th>\n",
       "      <td>[degree-1, degree-2, degree-3]</td>\n",
       "      <td>542.275105</td>\n",
       "      <td>555.468374</td>\n",
       "      <td>0.990236</td>\n",
       "      <td>3</td>\n",
       "    </tr>\n",
       "  </tbody>\n",
       "</table>\n",
       "</div>"
      ],
      "text/plain": [
       "                 features_selected  AIC values  BIC values  \\\n",
       "55  [degree-1, degree-2, degree-3]  542.275105  555.468374   \n",
       "\n",
       "    Adjusted R Squared Values  Number of Combinations  \n",
       "55                   0.990236                       3  "
      ]
     },
     "execution_count": 1030,
     "metadata": {},
     "output_type": "execute_result"
    }
   ],
   "source": [
    "BIC_best"
   ]
  },
  {
   "cell_type": "markdown",
   "id": "fe659806",
   "metadata": {},
   "source": [
    "Similarly, we find that degree-1, degree-2 and degree-3 polynomials perform the best with lowest BIC values as well."
   ]
  },
  {
   "cell_type": "code",
   "execution_count": 1031,
   "id": "d53e1241",
   "metadata": {},
   "outputs": [
    {
     "data": {
      "text/html": [
       "<div>\n",
       "<style scoped>\n",
       "    .dataframe tbody tr th:only-of-type {\n",
       "        vertical-align: middle;\n",
       "    }\n",
       "\n",
       "    .dataframe tbody tr th {\n",
       "        vertical-align: top;\n",
       "    }\n",
       "\n",
       "    .dataframe thead th {\n",
       "        text-align: right;\n",
       "    }\n",
       "</style>\n",
       "<table border=\"1\" class=\"dataframe\">\n",
       "  <thead>\n",
       "    <tr style=\"text-align: right;\">\n",
       "      <th></th>\n",
       "      <th>degree-1</th>\n",
       "      <th>degree-2</th>\n",
       "      <th>degree-3</th>\n",
       "      <th>degree-4</th>\n",
       "      <th>degree-5</th>\n",
       "      <th>degree-6</th>\n",
       "      <th>degree-7</th>\n",
       "      <th>degree-8</th>\n",
       "      <th>degree-9</th>\n",
       "      <th>degree-10</th>\n",
       "    </tr>\n",
       "  </thead>\n",
       "  <tbody>\n",
       "    <tr>\n",
       "      <th>0</th>\n",
       "      <td>-1.085631</td>\n",
       "      <td>1.178594</td>\n",
       "      <td>-1.279518</td>\n",
       "      <td>1.389083</td>\n",
       "      <td>-1.508031</td>\n",
       "      <td>1.637165</td>\n",
       "      <td>-1.777356</td>\n",
       "      <td>1.929553</td>\n",
       "      <td>-2.094781</td>\n",
       "      <td>2.274159</td>\n",
       "    </tr>\n",
       "    <tr>\n",
       "      <th>1</th>\n",
       "      <td>0.997345</td>\n",
       "      <td>0.994698</td>\n",
       "      <td>0.992057</td>\n",
       "      <td>0.989424</td>\n",
       "      <td>0.986798</td>\n",
       "      <td>0.984178</td>\n",
       "      <td>0.981565</td>\n",
       "      <td>0.978960</td>\n",
       "      <td>0.976361</td>\n",
       "      <td>0.973769</td>\n",
       "    </tr>\n",
       "    <tr>\n",
       "      <th>2</th>\n",
       "      <td>0.282978</td>\n",
       "      <td>0.080077</td>\n",
       "      <td>0.022660</td>\n",
       "      <td>0.006412</td>\n",
       "      <td>0.001815</td>\n",
       "      <td>0.000513</td>\n",
       "      <td>0.000145</td>\n",
       "      <td>0.000041</td>\n",
       "      <td>0.000012</td>\n",
       "      <td>0.000003</td>\n",
       "    </tr>\n",
       "    <tr>\n",
       "      <th>3</th>\n",
       "      <td>-1.506295</td>\n",
       "      <td>2.268924</td>\n",
       "      <td>-3.417668</td>\n",
       "      <td>5.148015</td>\n",
       "      <td>-7.754428</td>\n",
       "      <td>11.680454</td>\n",
       "      <td>-17.594206</td>\n",
       "      <td>26.502059</td>\n",
       "      <td>-39.919911</td>\n",
       "      <td>60.131151</td>\n",
       "    </tr>\n",
       "    <tr>\n",
       "      <th>4</th>\n",
       "      <td>-0.578600</td>\n",
       "      <td>0.334778</td>\n",
       "      <td>-0.193703</td>\n",
       "      <td>0.112076</td>\n",
       "      <td>-0.064847</td>\n",
       "      <td>0.037521</td>\n",
       "      <td>-0.021710</td>\n",
       "      <td>0.012561</td>\n",
       "      <td>-0.007268</td>\n",
       "      <td>0.004205</td>\n",
       "    </tr>\n",
       "  </tbody>\n",
       "</table>\n",
       "</div>"
      ],
      "text/plain": [
       "   degree-1  degree-2  degree-3  degree-4  degree-5   degree-6   degree-7  \\\n",
       "0 -1.085631  1.178594 -1.279518  1.389083 -1.508031   1.637165  -1.777356   \n",
       "1  0.997345  0.994698  0.992057  0.989424  0.986798   0.984178   0.981565   \n",
       "2  0.282978  0.080077  0.022660  0.006412  0.001815   0.000513   0.000145   \n",
       "3 -1.506295  2.268924 -3.417668  5.148015 -7.754428  11.680454 -17.594206   \n",
       "4 -0.578600  0.334778 -0.193703  0.112076 -0.064847   0.037521  -0.021710   \n",
       "\n",
       "    degree-8   degree-9  degree-10  \n",
       "0   1.929553  -2.094781   2.274159  \n",
       "1   0.978960   0.976361   0.973769  \n",
       "2   0.000041   0.000012   0.000003  \n",
       "3  26.502059 -39.919911  60.131151  \n",
       "4   0.012561  -0.007268   0.004205  "
      ]
     },
     "execution_count": 1031,
     "metadata": {},
     "output_type": "execute_result"
    }
   ],
   "source": [
    "X_dataframe.head()"
   ]
  },
  {
   "cell_type": "code",
   "execution_count": 1032,
   "id": "033574b2",
   "metadata": {},
   "outputs": [
    {
     "data": {
      "text/plain": [
       "['degree-1', 'degree-2', 'degree-3']"
      ]
     },
     "execution_count": 1032,
     "metadata": {},
     "output_type": "execute_result"
    }
   ],
   "source": [
    "AIC_best['features_selected'][:].tolist()[0]"
   ]
  },
  {
   "cell_type": "code",
   "execution_count": 1033,
   "id": "5bdf3d39",
   "metadata": {},
   "outputs": [],
   "source": [
    "X_best = X_dataframe[AIC_best['features_selected'][:].tolist()[0]]"
   ]
  },
  {
   "cell_type": "code",
   "execution_count": 1034,
   "id": "f4687ee8",
   "metadata": {},
   "outputs": [
    {
     "data": {
      "text/html": [
       "<div>\n",
       "<style scoped>\n",
       "    .dataframe tbody tr th:only-of-type {\n",
       "        vertical-align: middle;\n",
       "    }\n",
       "\n",
       "    .dataframe tbody tr th {\n",
       "        vertical-align: top;\n",
       "    }\n",
       "\n",
       "    .dataframe thead th {\n",
       "        text-align: right;\n",
       "    }\n",
       "</style>\n",
       "<table border=\"1\" class=\"dataframe\">\n",
       "  <thead>\n",
       "    <tr style=\"text-align: right;\">\n",
       "      <th></th>\n",
       "      <th>degree-1</th>\n",
       "      <th>degree-2</th>\n",
       "      <th>degree-3</th>\n",
       "    </tr>\n",
       "  </thead>\n",
       "  <tbody>\n",
       "    <tr>\n",
       "      <th>0</th>\n",
       "      <td>-1.085631</td>\n",
       "      <td>1.178594</td>\n",
       "      <td>-1.279518</td>\n",
       "    </tr>\n",
       "    <tr>\n",
       "      <th>1</th>\n",
       "      <td>0.997345</td>\n",
       "      <td>0.994698</td>\n",
       "      <td>0.992057</td>\n",
       "    </tr>\n",
       "    <tr>\n",
       "      <th>2</th>\n",
       "      <td>0.282978</td>\n",
       "      <td>0.080077</td>\n",
       "      <td>0.022660</td>\n",
       "    </tr>\n",
       "    <tr>\n",
       "      <th>3</th>\n",
       "      <td>-1.506295</td>\n",
       "      <td>2.268924</td>\n",
       "      <td>-3.417668</td>\n",
       "    </tr>\n",
       "    <tr>\n",
       "      <th>4</th>\n",
       "      <td>-0.578600</td>\n",
       "      <td>0.334778</td>\n",
       "      <td>-0.193703</td>\n",
       "    </tr>\n",
       "  </tbody>\n",
       "</table>\n",
       "</div>"
      ],
      "text/plain": [
       "   degree-1  degree-2  degree-3\n",
       "0 -1.085631  1.178594 -1.279518\n",
       "1  0.997345  0.994698  0.992057\n",
       "2  0.282978  0.080077  0.022660\n",
       "3 -1.506295  2.268924 -3.417668\n",
       "4 -0.578600  0.334778 -0.193703"
      ]
     },
     "execution_count": 1034,
     "metadata": {},
     "output_type": "execute_result"
    }
   ],
   "source": [
    "X_best.head()"
   ]
  },
  {
   "cell_type": "code",
   "execution_count": 1035,
   "id": "04bd7bca",
   "metadata": {},
   "outputs": [
    {
     "data": {
      "text/plain": [
       "LinearRegression(copy_X=True, fit_intercept=True, n_jobs=None, normalize=False)"
      ]
     },
     "execution_count": 1035,
     "metadata": {},
     "output_type": "execute_result"
    }
   ],
   "source": [
    "model = LinearRegression()\n",
    "model.fit(X_best, y)"
   ]
  },
  {
   "cell_type": "code",
   "execution_count": 1036,
   "id": "d5dc284f",
   "metadata": {},
   "outputs": [
    {
     "name": "stdout",
     "output_type": "stream",
     "text": [
      "The best model coefficients are: [ 0.91457218  2.06305955 -1.97085806]\n"
     ]
    }
   ],
   "source": [
    "print(\"The best model coefficients are: {}\".format(model.coef_[0]))"
   ]
  },
  {
   "cell_type": "markdown",
   "id": "1b7beab3",
   "metadata": {},
   "source": [
    "## Forward Feature Selection"
   ]
  },
  {
   "cell_type": "code",
   "execution_count": 1037,
   "id": "5b58b42f",
   "metadata": {},
   "outputs": [],
   "source": [
    "AIC_values = []\n",
    "BIC_values = []\n",
    "best_AIC_values, best_BIC_values, best_Adjusted_R_squared_values = [], [], []\n",
    "best_combinations = []\n",
    "Adjusted_R_squared_values = []\n",
    "number_of_features = []\n",
    "features = []\n",
    "features_list = dict()\n",
    "features_remaining = list(X_dataframe.columns.values)\n",
    "\n",
    "\n",
    "for i in range(1, len(X_dataframe.columns) + 1):\n",
    "    best_AIC_value = np.inf\n",
    "    for combinations in itertools.combinations(features_remaining, 1):\n",
    "        result = Ordinary_least_squares_fit(X_dataframe[list(combinations) + features], y)\n",
    "        \n",
    "        if result[0] < best_AIC_value:\n",
    "            \n",
    "            best_AIC_value = result[0]\n",
    "            best_BIC_value = result[1]\n",
    "            best_R_squared_value = result[2]\n",
    "            best_AIC_values.append(best_AIC_value)\n",
    "            best_BIC_values.append(best_BIC_value)\n",
    "            best_Adjusted_R_squared_values.append(best_R_squared_value)\n",
    "            best_combinations.append(list(combinations) + features)\n",
    "            number_of_features.append(len(list(combinations) + features))\n",
    "            best_feature = combinations[0]\n",
    "            \n",
    "    features.append(best_feature) \n",
    "    features_remaining.remove(best_feature)\n",
    "    AIC_values.append(best_AIC_value)\n",
    "    BIC_values.append(best_BIC_value)\n",
    "    Adjusted_R_squared_values.append(best_R_squared_value)\n",
    "    features_list[i] = features.copy()\n"
   ]
  },
  {
   "cell_type": "code",
   "execution_count": 1038,
   "id": "d2aeb475",
   "metadata": {},
   "outputs": [],
   "source": [
    "dataframe_evaluation = pd.DataFrame({'features_selected': best_combinations, 'AIC values': best_AIC_values, \n",
    "                                     'BIC values': best_BIC_values, 'Adjusted R Squared Values': best_Adjusted_R_squared_values,\n",
    "                                    'Number of Features': number_of_features})"
   ]
  },
  {
   "cell_type": "code",
   "execution_count": 1039,
   "id": "31247f87",
   "metadata": {},
   "outputs": [
    {
     "data": {
      "text/html": [
       "<div>\n",
       "<style scoped>\n",
       "    .dataframe tbody tr th:only-of-type {\n",
       "        vertical-align: middle;\n",
       "    }\n",
       "\n",
       "    .dataframe tbody tr th {\n",
       "        vertical-align: top;\n",
       "    }\n",
       "\n",
       "    .dataframe thead th {\n",
       "        text-align: right;\n",
       "    }\n",
       "</style>\n",
       "<table border=\"1\" class=\"dataframe\">\n",
       "  <thead>\n",
       "    <tr style=\"text-align: right;\">\n",
       "      <th></th>\n",
       "      <th>features_selected</th>\n",
       "      <th>AIC values</th>\n",
       "      <th>BIC values</th>\n",
       "      <th>Adjusted R Squared Values</th>\n",
       "      <th>Number of Features</th>\n",
       "    </tr>\n",
       "  </thead>\n",
       "  <tbody>\n",
       "    <tr>\n",
       "      <th>0</th>\n",
       "      <td>[degree-1]</td>\n",
       "      <td>1356.768181</td>\n",
       "      <td>1363.364816</td>\n",
       "      <td>0.421163</td>\n",
       "      <td>1</td>\n",
       "    </tr>\n",
       "    <tr>\n",
       "      <th>1</th>\n",
       "      <td>[degree-3]</td>\n",
       "      <td>1065.501335</td>\n",
       "      <td>1072.097970</td>\n",
       "      <td>0.865079</td>\n",
       "      <td>1</td>\n",
       "    </tr>\n",
       "    <tr>\n",
       "      <th>2</th>\n",
       "      <td>[degree-5]</td>\n",
       "      <td>1063.848982</td>\n",
       "      <td>1070.445617</td>\n",
       "      <td>0.866189</td>\n",
       "      <td>1</td>\n",
       "    </tr>\n",
       "    <tr>\n",
       "      <th>3</th>\n",
       "      <td>[degree-1, degree-5]</td>\n",
       "      <td>1029.184072</td>\n",
       "      <td>1039.079024</td>\n",
       "      <td>0.888038</td>\n",
       "      <td>2</td>\n",
       "    </tr>\n",
       "    <tr>\n",
       "      <th>4</th>\n",
       "      <td>[degree-2, degree-5]</td>\n",
       "      <td>962.814068</td>\n",
       "      <td>972.709020</td>\n",
       "      <td>0.919656</td>\n",
       "      <td>2</td>\n",
       "    </tr>\n",
       "    <tr>\n",
       "      <th>5</th>\n",
       "      <td>[degree-1, degree-5, degree-2]</td>\n",
       "      <td>819.762062</td>\n",
       "      <td>832.955331</td>\n",
       "      <td>0.960899</td>\n",
       "      <td>3</td>\n",
       "    </tr>\n",
       "    <tr>\n",
       "      <th>6</th>\n",
       "      <td>[degree-3, degree-5, degree-2]</td>\n",
       "      <td>575.614422</td>\n",
       "      <td>588.807691</td>\n",
       "      <td>0.988465</td>\n",
       "      <td>3</td>\n",
       "    </tr>\n",
       "    <tr>\n",
       "      <th>7</th>\n",
       "      <td>[degree-1, degree-5, degree-2, degree-3]</td>\n",
       "      <td>544.257773</td>\n",
       "      <td>560.749360</td>\n",
       "      <td>0.990187</td>\n",
       "      <td>4</td>\n",
       "    </tr>\n",
       "  </tbody>\n",
       "</table>\n",
       "</div>"
      ],
      "text/plain": [
       "                          features_selected   AIC values   BIC values  \\\n",
       "0                                [degree-1]  1356.768181  1363.364816   \n",
       "1                                [degree-3]  1065.501335  1072.097970   \n",
       "2                                [degree-5]  1063.848982  1070.445617   \n",
       "3                      [degree-1, degree-5]  1029.184072  1039.079024   \n",
       "4                      [degree-2, degree-5]   962.814068   972.709020   \n",
       "5            [degree-1, degree-5, degree-2]   819.762062   832.955331   \n",
       "6            [degree-3, degree-5, degree-2]   575.614422   588.807691   \n",
       "7  [degree-1, degree-5, degree-2, degree-3]   544.257773   560.749360   \n",
       "\n",
       "   Adjusted R Squared Values  Number of Features  \n",
       "0                   0.421163                   1  \n",
       "1                   0.865079                   1  \n",
       "2                   0.866189                   1  \n",
       "3                   0.888038                   2  \n",
       "4                   0.919656                   2  \n",
       "5                   0.960899                   3  \n",
       "6                   0.988465                   3  \n",
       "7                   0.990187                   4  "
      ]
     },
     "execution_count": 1039,
     "metadata": {},
     "output_type": "execute_result"
    }
   ],
   "source": [
    "dataframe_evaluation.head(8)"
   ]
  },
  {
   "cell_type": "code",
   "execution_count": 1040,
   "id": "8cd7f460",
   "metadata": {},
   "outputs": [],
   "source": [
    "df_min_AIC_values = dataframe_evaluation[dataframe_evaluation.groupby('Number of Features')['AIC values'].transform(min)\n",
    "                              == dataframe_evaluation['AIC values']]"
   ]
  },
  {
   "cell_type": "code",
   "execution_count": 1041,
   "id": "5750600c",
   "metadata": {},
   "outputs": [],
   "source": [
    "df_max_AIC_values = dataframe_evaluation[dataframe_evaluation.groupby('Number of Features')['AIC values'].transform(max)\n",
    "                              == dataframe_evaluation['AIC values']]"
   ]
  },
  {
   "cell_type": "code",
   "execution_count": 1042,
   "id": "060d9844",
   "metadata": {},
   "outputs": [],
   "source": [
    "df_min_BIC_values = dataframe_evaluation[dataframe_evaluation.groupby('Number of Features')['BIC values'].transform(min)\n",
    "                              == dataframe_evaluation['BIC values']]"
   ]
  },
  {
   "cell_type": "code",
   "execution_count": 1043,
   "id": "e03a473a",
   "metadata": {},
   "outputs": [],
   "source": [
    "df_max_BIC_values = dataframe_evaluation[dataframe_evaluation.groupby('Number of Features')['BIC values'].transform(max)\n",
    "                              == dataframe_evaluation['BIC values']]"
   ]
  },
  {
   "cell_type": "code",
   "execution_count": 1044,
   "id": "4ff39322",
   "metadata": {},
   "outputs": [
    {
     "data": {
      "text/html": [
       "<div>\n",
       "<style scoped>\n",
       "    .dataframe tbody tr th:only-of-type {\n",
       "        vertical-align: middle;\n",
       "    }\n",
       "\n",
       "    .dataframe tbody tr th {\n",
       "        vertical-align: top;\n",
       "    }\n",
       "\n",
       "    .dataframe thead th {\n",
       "        text-align: right;\n",
       "    }\n",
       "</style>\n",
       "<table border=\"1\" class=\"dataframe\">\n",
       "  <thead>\n",
       "    <tr style=\"text-align: right;\">\n",
       "      <th></th>\n",
       "      <th>features_selected</th>\n",
       "      <th>AIC values</th>\n",
       "      <th>BIC values</th>\n",
       "      <th>Adjusted R Squared Values</th>\n",
       "      <th>Number of Features</th>\n",
       "    </tr>\n",
       "  </thead>\n",
       "  <tbody>\n",
       "    <tr>\n",
       "      <th>2</th>\n",
       "      <td>[degree-5]</td>\n",
       "      <td>1063.848982</td>\n",
       "      <td>1070.445617</td>\n",
       "      <td>0.866189</td>\n",
       "      <td>1</td>\n",
       "    </tr>\n",
       "    <tr>\n",
       "      <th>4</th>\n",
       "      <td>[degree-2, degree-5]</td>\n",
       "      <td>962.814068</td>\n",
       "      <td>972.709020</td>\n",
       "      <td>0.919656</td>\n",
       "      <td>2</td>\n",
       "    </tr>\n",
       "    <tr>\n",
       "      <th>6</th>\n",
       "      <td>[degree-3, degree-5, degree-2]</td>\n",
       "      <td>575.614422</td>\n",
       "      <td>588.807691</td>\n",
       "      <td>0.988465</td>\n",
       "      <td>3</td>\n",
       "    </tr>\n",
       "    <tr>\n",
       "      <th>7</th>\n",
       "      <td>[degree-1, degree-5, degree-2, degree-3]</td>\n",
       "      <td>544.257773</td>\n",
       "      <td>560.749360</td>\n",
       "      <td>0.990187</td>\n",
       "      <td>4</td>\n",
       "    </tr>\n",
       "    <tr>\n",
       "      <th>10</th>\n",
       "      <td>[degree-9, degree-5, degree-2, degree-3, degre...</td>\n",
       "      <td>546.122824</td>\n",
       "      <td>565.912728</td>\n",
       "      <td>0.990143</td>\n",
       "      <td>5</td>\n",
       "    </tr>\n",
       "  </tbody>\n",
       "</table>\n",
       "</div>"
      ],
      "text/plain": [
       "                                    features_selected   AIC values  \\\n",
       "2                                          [degree-5]  1063.848982   \n",
       "4                                [degree-2, degree-5]   962.814068   \n",
       "6                      [degree-3, degree-5, degree-2]   575.614422   \n",
       "7            [degree-1, degree-5, degree-2, degree-3]   544.257773   \n",
       "10  [degree-9, degree-5, degree-2, degree-3, degre...   546.122824   \n",
       "\n",
       "     BIC values  Adjusted R Squared Values  Number of Features  \n",
       "2   1070.445617                   0.866189                   1  \n",
       "4    972.709020                   0.919656                   2  \n",
       "6    588.807691                   0.988465                   3  \n",
       "7    560.749360                   0.990187                   4  \n",
       "10   565.912728                   0.990143                   5  "
      ]
     },
     "execution_count": 1044,
     "metadata": {},
     "output_type": "execute_result"
    }
   ],
   "source": [
    "df_min_AIC_values.head()"
   ]
  },
  {
   "cell_type": "code",
   "execution_count": 1045,
   "id": "84a3fd84",
   "metadata": {},
   "outputs": [
    {
     "data": {
      "image/png": "[encoded data removed]",
      "text/plain": [
       "<Figure size 720x720 with 1 Axes>"
      ]
     },
     "metadata": {
      "needs_background": "light"
     },
     "output_type": "display_data"
    }
   ],
   "source": [
    "line_plot_function(data_x = df_min_AIC_values['Number of Features'], data_y = df_min_AIC_values['AIC values'],\n",
    "                  line_color = 'blue', fig_size = (10, 10))"
   ]
  },
  {
   "cell_type": "code",
   "execution_count": 1046,
   "id": "1bbe70d6",
   "metadata": {},
   "outputs": [
    {
     "data": {
      "image/png": "[encoded data removed]",
      "text/plain": [
       "<Figure size 720x720 with 1 Axes>"
      ]
     },
     "metadata": {
      "needs_background": "light"
     },
     "output_type": "display_data"
    }
   ],
   "source": [
    "line_plot_function(data_x = df_min_AIC_values['Number of Features'], data_y = df_min_AIC_values['BIC values'],\n",
    "                  line_color = 'red', fig_size = (10, 10), value = 'BIC')"
   ]
  },
  {
   "cell_type": "markdown",
   "id": "1227327d",
   "metadata": {},
   "source": [
    "## Observation: \n",
    "\n",
    "1. In the above graphs where we performed forward feature selection, we see that the best AIC values (minimum AIC value) are for 4 predictors.\n",
    "2. The values are quite similar for both AIC and BIC values as well. \n",
    "\n",
    "We would now be taking the best features from our forward feature selection model and get an understanding of the model below. "
   ]
  },
  {
   "cell_type": "code",
   "execution_count": 1047,
   "id": "03bc0b6a",
   "metadata": {},
   "outputs": [],
   "source": [
    "AIC_best = df_min_AIC_values[df_min_AIC_values['AIC values'] == df_min_AIC_values['AIC values'].min()]"
   ]
  },
  {
   "cell_type": "code",
   "execution_count": 1048,
   "id": "ce3e162c",
   "metadata": {},
   "outputs": [],
   "source": [
    "X_best = X_dataframe[AIC_best['features_selected'][:].tolist()[0]]"
   ]
  },
  {
   "cell_type": "code",
   "execution_count": 1049,
   "id": "8e952d9e",
   "metadata": {},
   "outputs": [
    {
     "data": {
      "text/html": [
       "<div>\n",
       "<style scoped>\n",
       "    .dataframe tbody tr th:only-of-type {\n",
       "        vertical-align: middle;\n",
       "    }\n",
       "\n",
       "    .dataframe tbody tr th {\n",
       "        vertical-align: top;\n",
       "    }\n",
       "\n",
       "    .dataframe thead th {\n",
       "        text-align: right;\n",
       "    }\n",
       "</style>\n",
       "<table border=\"1\" class=\"dataframe\">\n",
       "  <thead>\n",
       "    <tr style=\"text-align: right;\">\n",
       "      <th></th>\n",
       "      <th>degree-1</th>\n",
       "      <th>degree-5</th>\n",
       "      <th>degree-2</th>\n",
       "      <th>degree-3</th>\n",
       "    </tr>\n",
       "  </thead>\n",
       "  <tbody>\n",
       "    <tr>\n",
       "      <th>0</th>\n",
       "      <td>-1.085631</td>\n",
       "      <td>-1.508031</td>\n",
       "      <td>1.178594</td>\n",
       "      <td>-1.279518</td>\n",
       "    </tr>\n",
       "    <tr>\n",
       "      <th>1</th>\n",
       "      <td>0.997345</td>\n",
       "      <td>0.986798</td>\n",
       "      <td>0.994698</td>\n",
       "      <td>0.992057</td>\n",
       "    </tr>\n",
       "    <tr>\n",
       "      <th>2</th>\n",
       "      <td>0.282978</td>\n",
       "      <td>0.001815</td>\n",
       "      <td>0.080077</td>\n",
       "      <td>0.022660</td>\n",
       "    </tr>\n",
       "    <tr>\n",
       "      <th>3</th>\n",
       "      <td>-1.506295</td>\n",
       "      <td>-7.754428</td>\n",
       "      <td>2.268924</td>\n",
       "      <td>-3.417668</td>\n",
       "    </tr>\n",
       "    <tr>\n",
       "      <th>4</th>\n",
       "      <td>-0.578600</td>\n",
       "      <td>-0.064847</td>\n",
       "      <td>0.334778</td>\n",
       "      <td>-0.193703</td>\n",
       "    </tr>\n",
       "  </tbody>\n",
       "</table>\n",
       "</div>"
      ],
      "text/plain": [
       "   degree-1  degree-5  degree-2  degree-3\n",
       "0 -1.085631 -1.508031  1.178594 -1.279518\n",
       "1  0.997345  0.986798  0.994698  0.992057\n",
       "2  0.282978  0.001815  0.080077  0.022660\n",
       "3 -1.506295 -7.754428  2.268924 -3.417668\n",
       "4 -0.578600 -0.064847  0.334778 -0.193703"
      ]
     },
     "execution_count": 1049,
     "metadata": {},
     "output_type": "execute_result"
    }
   ],
   "source": [
    "X_best.head()"
   ]
  },
  {
   "cell_type": "code",
   "execution_count": 1050,
   "id": "f591c4fb",
   "metadata": {},
   "outputs": [
    {
     "data": {
      "text/plain": [
       "LinearRegression(copy_X=True, fit_intercept=True, n_jobs=None, normalize=False)"
      ]
     },
     "execution_count": 1050,
     "metadata": {},
     "output_type": "execute_result"
    }
   ],
   "source": [
    "model = LinearRegression()\n",
    "model.fit(X_best, y)"
   ]
  },
  {
   "cell_type": "code",
   "execution_count": 1051,
   "id": "4fb3c4f6",
   "metadata": {},
   "outputs": [
    {
     "name": "stdout",
     "output_type": "stream",
     "text": [
      "The best model coefficients are: [ 9.00525882e-01 -1.09796498e-03  2.06083460e+00 -1.96089198e+00]\n"
     ]
    }
   ],
   "source": [
    "print(\"The best model coefficients are: {}\".format(model.coef_[0]))"
   ]
  },
  {
   "cell_type": "markdown",
   "id": "a3bfc7b2",
   "metadata": {},
   "source": [
    "1. We see that when performing subset selection, we are left with degree-1, degree-2 and degree-3 as features.\n",
    "2. On the other hand, for the forward feature selection, we are left with degree-1, degree-2, degree-3 and degree-5 as the input features.\n",
    "3. All these values are taken based on the AIC values and BIC values respectively."
   ]
  },
  {
   "cell_type": "markdown",
   "id": "5025bcd0",
   "metadata": {},
   "source": [
    "## Lasso Regression"
   ]
  },
  {
   "cell_type": "code",
   "execution_count": 1052,
   "id": "84632577",
   "metadata": {},
   "outputs": [],
   "source": [
    "lambda_values = [0.005, 0.01, 0.02, 0.09, 0.16, 0.20, 0.25]\n",
    "\n",
    "X_poly = PolynomialFeatures(degree = 10)\n",
    "X_poly_train = X_poly.fit_transform(X_train)\n",
    "X_poly_cv = X_poly.transform(X_cv)\n",
    "    \n",
    "mean_squared_error_values = []    \n",
    "for i in lambda_values:\n",
    "    model = Lasso(alpha = i) \n",
    "    model.fit(X_poly_train, y_train)\n",
    "    y_predictions = model.predict(X_poly_cv)\n",
    "    mean_squared_error_values.append(mean_squared_error(y_predictions, y_cv))"
   ]
  },
  {
   "cell_type": "code",
   "execution_count": 1053,
   "id": "d536668d",
   "metadata": {},
   "outputs": [
    {
     "data": {
      "text/plain": [
       "[0.9656663835259699,\n",
       " 0.9507852790116574,\n",
       " 0.9372445539538333,\n",
       " 0.9329323543156935,\n",
       " 0.9313040948151533,\n",
       " 0.948008735397271,\n",
       " 0.9840672353357919]"
      ]
     },
     "execution_count": 1053,
     "metadata": {},
     "output_type": "execute_result"
    }
   ],
   "source": [
    "mean_squared_error_values"
   ]
  },
  {
   "cell_type": "code",
   "execution_count": 1054,
   "id": "4ec38a03",
   "metadata": {},
   "outputs": [],
   "source": [
    "def line_plot_function_lasso(data_x, data_y, fig_size = (10, 10), line_color = 'orange',\n",
    "                            font_size = 15):\n",
    "    plt.figure(figsize = (10, 10))\n",
    "    sns.lineplot(x = data_x, y = data_y, color = line_color)\n",
    "    plt.title('Mean Squared Error values Vs Lambda Values', fontsize = font_size)\n",
    "    plt.xlabel('Lambda Values')\n",
    "    plt.ylabel('Mean Square Error (MSE)')\n",
    "    plt.scatter(x = data_x, y = data_y)\n",
    "    plt.show()"
   ]
  },
  {
   "cell_type": "code",
   "execution_count": 1055,
   "id": "3c6fac87",
   "metadata": {},
   "outputs": [
    {
     "data": {
      "image/png": "[encoded data removed]",
      "text/plain": [
       "<Figure size 720x720 with 1 Axes>"
      ]
     },
     "metadata": {
      "needs_background": "light"
     },
     "output_type": "display_data"
    }
   ],
   "source": [
    "line_plot_function_lasso(data_x = lambda_values, data_y = mean_squared_error_values, line_color = 'green')"
   ]
  },
  {
   "cell_type": "markdown",
   "id": "bffd1c97",
   "metadata": {},
   "source": [
    "<font size = \"4\">The best value of Lambda based on the set of values that we've taken is <b>lambda = 0.16</b></font>"
   ]
  },
  {
   "cell_type": "code",
   "execution_count": 1056,
   "id": "aa16963a",
   "metadata": {},
   "outputs": [],
   "source": [
    "best_lambda_value = 0.16"
   ]
  },
  {
   "cell_type": "code",
   "execution_count": 1057,
   "id": "ac3fcbae",
   "metadata": {},
   "outputs": [
    {
     "name": "stdout",
     "output_type": "stream",
     "text": [
      "The Mean Squared Error for the Lasso regression with best (lambda = 0.16) is: 0.9313040948151533\n"
     ]
    }
   ],
   "source": [
    "model = Lasso(alpha = best_lambda_value) \n",
    "model.fit(X_poly_train, y_train)\n",
    "y_predictions = model.predict(X_poly_cv)\n",
    "print(\"The Mean Squared Error for the Lasso regression with best (lambda = {}) is: {}\".format(best_lambda_value, mean_squared_error(y_predictions, y_cv)))"
   ]
  },
  {
   "cell_type": "code",
   "execution_count": 1058,
   "id": "fbf69862",
   "metadata": {},
   "outputs": [
    {
     "data": {
      "text/plain": [
       "array([ 0.00000000e+00, -0.00000000e+00,  1.20746315e+00, -9.68022593e-01,\n",
       "        3.48969524e-01, -2.26668191e-01, -4.82003058e-02,  7.82009619e-03,\n",
       "        2.73845905e-05,  9.58396660e-04,  3.34492856e-04])"
      ]
     },
     "execution_count": 1058,
     "metadata": {},
     "output_type": "execute_result"
    }
   ],
   "source": [
    "model.coef_"
   ]
  },
  {
   "cell_type": "markdown",
   "id": "52682954",
   "metadata": {},
   "source": [
    "<font size = \"4\"><b>Observation:</b></font>\n",
    "\n",
    "1. Since the lasso regression would reduce the coefficients to zero if they are not that important in predictions, we see from the above that few coefficients are zero respectively. \n",
    "2. In the case of Ridge regression, the coefficients may not have been zero as compared to Lasso where few coefficients are zero respectively."
   ]
  },
  {
   "cell_type": "code",
   "execution_count": null,
   "id": "50c20740",
   "metadata": {},
   "outputs": [],
   "source": []
  },
  {
   "cell_type": "code",
   "execution_count": null,
   "id": "9b9447da",
   "metadata": {},
   "outputs": [],
   "source": []
  },
  {
   "cell_type": "markdown",
   "id": "4de43a43",
   "metadata": {},
   "source": [
    "## Question 5"
   ]
  },
  {
   "cell_type": "code",
   "execution_count": 1059,
   "id": "1ff9b5b8",
   "metadata": {},
   "outputs": [],
   "source": [
    "df = pd.read_csv('ISLR-python/Notebooks/Data/College.csv')"
   ]
  },
  {
   "cell_type": "code",
   "execution_count": 1060,
   "id": "6c29cccb",
   "metadata": {},
   "outputs": [
    {
     "data": {
      "text/html": [
       "<div>\n",
       "<style scoped>\n",
       "    .dataframe tbody tr th:only-of-type {\n",
       "        vertical-align: middle;\n",
       "    }\n",
       "\n",
       "    .dataframe tbody tr th {\n",
       "        vertical-align: top;\n",
       "    }\n",
       "\n",
       "    .dataframe thead th {\n",
       "        text-align: right;\n",
       "    }\n",
       "</style>\n",
       "<table border=\"1\" class=\"dataframe\">\n",
       "  <thead>\n",
       "    <tr style=\"text-align: right;\">\n",
       "      <th></th>\n",
       "      <th>Unnamed: 0</th>\n",
       "      <th>Private</th>\n",
       "      <th>Apps</th>\n",
       "      <th>Accept</th>\n",
       "      <th>Enroll</th>\n",
       "      <th>Top10perc</th>\n",
       "      <th>Top25perc</th>\n",
       "      <th>F.Undergrad</th>\n",
       "      <th>P.Undergrad</th>\n",
       "      <th>Outstate</th>\n",
       "      <th>Room.Board</th>\n",
       "      <th>Books</th>\n",
       "      <th>Personal</th>\n",
       "      <th>PhD</th>\n",
       "      <th>Terminal</th>\n",
       "      <th>S.F.Ratio</th>\n",
       "      <th>perc.alumni</th>\n",
       "      <th>Expend</th>\n",
       "      <th>Grad.Rate</th>\n",
       "    </tr>\n",
       "  </thead>\n",
       "  <tbody>\n",
       "    <tr>\n",
       "      <th>0</th>\n",
       "      <td>Abilene Christian University</td>\n",
       "      <td>Yes</td>\n",
       "      <td>1660</td>\n",
       "      <td>1232</td>\n",
       "      <td>721</td>\n",
       "      <td>23</td>\n",
       "      <td>52</td>\n",
       "      <td>2885</td>\n",
       "      <td>537</td>\n",
       "      <td>7440</td>\n",
       "      <td>3300</td>\n",
       "      <td>450</td>\n",
       "      <td>2200</td>\n",
       "      <td>70</td>\n",
       "      <td>78</td>\n",
       "      <td>18.1</td>\n",
       "      <td>12</td>\n",
       "      <td>7041</td>\n",
       "      <td>60</td>\n",
       "    </tr>\n",
       "    <tr>\n",
       "      <th>1</th>\n",
       "      <td>Adelphi University</td>\n",
       "      <td>Yes</td>\n",
       "      <td>2186</td>\n",
       "      <td>1924</td>\n",
       "      <td>512</td>\n",
       "      <td>16</td>\n",
       "      <td>29</td>\n",
       "      <td>2683</td>\n",
       "      <td>1227</td>\n",
       "      <td>12280</td>\n",
       "      <td>6450</td>\n",
       "      <td>750</td>\n",
       "      <td>1500</td>\n",
       "      <td>29</td>\n",
       "      <td>30</td>\n",
       "      <td>12.2</td>\n",
       "      <td>16</td>\n",
       "      <td>10527</td>\n",
       "      <td>56</td>\n",
       "    </tr>\n",
       "    <tr>\n",
       "      <th>2</th>\n",
       "      <td>Adrian College</td>\n",
       "      <td>Yes</td>\n",
       "      <td>1428</td>\n",
       "      <td>1097</td>\n",
       "      <td>336</td>\n",
       "      <td>22</td>\n",
       "      <td>50</td>\n",
       "      <td>1036</td>\n",
       "      <td>99</td>\n",
       "      <td>11250</td>\n",
       "      <td>3750</td>\n",
       "      <td>400</td>\n",
       "      <td>1165</td>\n",
       "      <td>53</td>\n",
       "      <td>66</td>\n",
       "      <td>12.9</td>\n",
       "      <td>30</td>\n",
       "      <td>8735</td>\n",
       "      <td>54</td>\n",
       "    </tr>\n",
       "    <tr>\n",
       "      <th>3</th>\n",
       "      <td>Agnes Scott College</td>\n",
       "      <td>Yes</td>\n",
       "      <td>417</td>\n",
       "      <td>349</td>\n",
       "      <td>137</td>\n",
       "      <td>60</td>\n",
       "      <td>89</td>\n",
       "      <td>510</td>\n",
       "      <td>63</td>\n",
       "      <td>12960</td>\n",
       "      <td>5450</td>\n",
       "      <td>450</td>\n",
       "      <td>875</td>\n",
       "      <td>92</td>\n",
       "      <td>97</td>\n",
       "      <td>7.7</td>\n",
       "      <td>37</td>\n",
       "      <td>19016</td>\n",
       "      <td>59</td>\n",
       "    </tr>\n",
       "    <tr>\n",
       "      <th>4</th>\n",
       "      <td>Alaska Pacific University</td>\n",
       "      <td>Yes</td>\n",
       "      <td>193</td>\n",
       "      <td>146</td>\n",
       "      <td>55</td>\n",
       "      <td>16</td>\n",
       "      <td>44</td>\n",
       "      <td>249</td>\n",
       "      <td>869</td>\n",
       "      <td>7560</td>\n",
       "      <td>4120</td>\n",
       "      <td>800</td>\n",
       "      <td>1500</td>\n",
       "      <td>76</td>\n",
       "      <td>72</td>\n",
       "      <td>11.9</td>\n",
       "      <td>2</td>\n",
       "      <td>10922</td>\n",
       "      <td>15</td>\n",
       "    </tr>\n",
       "  </tbody>\n",
       "</table>\n",
       "</div>"
      ],
      "text/plain": [
       "                     Unnamed: 0 Private  Apps  Accept  Enroll  Top10perc  \\\n",
       "0  Abilene Christian University     Yes  1660    1232     721         23   \n",
       "1            Adelphi University     Yes  2186    1924     512         16   \n",
       "2                Adrian College     Yes  1428    1097     336         22   \n",
       "3           Agnes Scott College     Yes   417     349     137         60   \n",
       "4     Alaska Pacific University     Yes   193     146      55         16   \n",
       "\n",
       "   Top25perc  F.Undergrad  P.Undergrad  Outstate  Room.Board  Books  Personal  \\\n",
       "0         52         2885          537      7440        3300    450      2200   \n",
       "1         29         2683         1227     12280        6450    750      1500   \n",
       "2         50         1036           99     11250        3750    400      1165   \n",
       "3         89          510           63     12960        5450    450       875   \n",
       "4         44          249          869      7560        4120    800      1500   \n",
       "\n",
       "   PhD  Terminal  S.F.Ratio  perc.alumni  Expend  Grad.Rate  \n",
       "0   70        78       18.1           12    7041         60  \n",
       "1   29        30       12.2           16   10527         56  \n",
       "2   53        66       12.9           30    8735         54  \n",
       "3   92        97        7.7           37   19016         59  \n",
       "4   76        72       11.9            2   10922         15  "
      ]
     },
     "execution_count": 1060,
     "metadata": {},
     "output_type": "execute_result"
    }
   ],
   "source": [
    "df.head()"
   ]
  },
  {
   "cell_type": "code",
   "execution_count": 1061,
   "id": "2c1d658f",
   "metadata": {},
   "outputs": [
    {
     "data": {
      "text/html": [
       "<div>\n",
       "<style scoped>\n",
       "    .dataframe tbody tr th:only-of-type {\n",
       "        vertical-align: middle;\n",
       "    }\n",
       "\n",
       "    .dataframe tbody tr th {\n",
       "        vertical-align: top;\n",
       "    }\n",
       "\n",
       "    .dataframe thead th {\n",
       "        text-align: right;\n",
       "    }\n",
       "</style>\n",
       "<table border=\"1\" class=\"dataframe\">\n",
       "  <thead>\n",
       "    <tr style=\"text-align: right;\">\n",
       "      <th></th>\n",
       "      <th>Apps</th>\n",
       "      <th>Accept</th>\n",
       "      <th>Enroll</th>\n",
       "      <th>Top10perc</th>\n",
       "      <th>Top25perc</th>\n",
       "      <th>F.Undergrad</th>\n",
       "      <th>P.Undergrad</th>\n",
       "      <th>Outstate</th>\n",
       "      <th>Room.Board</th>\n",
       "      <th>Books</th>\n",
       "      <th>Personal</th>\n",
       "      <th>PhD</th>\n",
       "      <th>Terminal</th>\n",
       "      <th>S.F.Ratio</th>\n",
       "      <th>perc.alumni</th>\n",
       "      <th>Expend</th>\n",
       "      <th>Grad.Rate</th>\n",
       "    </tr>\n",
       "  </thead>\n",
       "  <tbody>\n",
       "    <tr>\n",
       "      <th>count</th>\n",
       "      <td>777.000000</td>\n",
       "      <td>777.000000</td>\n",
       "      <td>777.000000</td>\n",
       "      <td>777.000000</td>\n",
       "      <td>777.000000</td>\n",
       "      <td>777.000000</td>\n",
       "      <td>777.000000</td>\n",
       "      <td>777.000000</td>\n",
       "      <td>777.000000</td>\n",
       "      <td>777.000000</td>\n",
       "      <td>777.000000</td>\n",
       "      <td>777.000000</td>\n",
       "      <td>777.000000</td>\n",
       "      <td>777.000000</td>\n",
       "      <td>777.000000</td>\n",
       "      <td>777.000000</td>\n",
       "      <td>777.00000</td>\n",
       "    </tr>\n",
       "    <tr>\n",
       "      <th>mean</th>\n",
       "      <td>3001.638353</td>\n",
       "      <td>2018.804376</td>\n",
       "      <td>779.972973</td>\n",
       "      <td>27.558559</td>\n",
       "      <td>55.796654</td>\n",
       "      <td>3699.907336</td>\n",
       "      <td>855.298584</td>\n",
       "      <td>10440.669241</td>\n",
       "      <td>4357.526384</td>\n",
       "      <td>549.380952</td>\n",
       "      <td>1340.642214</td>\n",
       "      <td>72.660232</td>\n",
       "      <td>79.702703</td>\n",
       "      <td>14.089704</td>\n",
       "      <td>22.743887</td>\n",
       "      <td>9660.171171</td>\n",
       "      <td>65.46332</td>\n",
       "    </tr>\n",
       "    <tr>\n",
       "      <th>std</th>\n",
       "      <td>3870.201484</td>\n",
       "      <td>2451.113971</td>\n",
       "      <td>929.176190</td>\n",
       "      <td>17.640364</td>\n",
       "      <td>19.804778</td>\n",
       "      <td>4850.420531</td>\n",
       "      <td>1522.431887</td>\n",
       "      <td>4023.016484</td>\n",
       "      <td>1096.696416</td>\n",
       "      <td>165.105360</td>\n",
       "      <td>677.071454</td>\n",
       "      <td>16.328155</td>\n",
       "      <td>14.722359</td>\n",
       "      <td>3.958349</td>\n",
       "      <td>12.391801</td>\n",
       "      <td>5221.768440</td>\n",
       "      <td>17.17771</td>\n",
       "    </tr>\n",
       "    <tr>\n",
       "      <th>min</th>\n",
       "      <td>81.000000</td>\n",
       "      <td>72.000000</td>\n",
       "      <td>35.000000</td>\n",
       "      <td>1.000000</td>\n",
       "      <td>9.000000</td>\n",
       "      <td>139.000000</td>\n",
       "      <td>1.000000</td>\n",
       "      <td>2340.000000</td>\n",
       "      <td>1780.000000</td>\n",
       "      <td>96.000000</td>\n",
       "      <td>250.000000</td>\n",
       "      <td>8.000000</td>\n",
       "      <td>24.000000</td>\n",
       "      <td>2.500000</td>\n",
       "      <td>0.000000</td>\n",
       "      <td>3186.000000</td>\n",
       "      <td>10.00000</td>\n",
       "    </tr>\n",
       "    <tr>\n",
       "      <th>25%</th>\n",
       "      <td>776.000000</td>\n",
       "      <td>604.000000</td>\n",
       "      <td>242.000000</td>\n",
       "      <td>15.000000</td>\n",
       "      <td>41.000000</td>\n",
       "      <td>992.000000</td>\n",
       "      <td>95.000000</td>\n",
       "      <td>7320.000000</td>\n",
       "      <td>3597.000000</td>\n",
       "      <td>470.000000</td>\n",
       "      <td>850.000000</td>\n",
       "      <td>62.000000</td>\n",
       "      <td>71.000000</td>\n",
       "      <td>11.500000</td>\n",
       "      <td>13.000000</td>\n",
       "      <td>6751.000000</td>\n",
       "      <td>53.00000</td>\n",
       "    </tr>\n",
       "    <tr>\n",
       "      <th>50%</th>\n",
       "      <td>1558.000000</td>\n",
       "      <td>1110.000000</td>\n",
       "      <td>434.000000</td>\n",
       "      <td>23.000000</td>\n",
       "      <td>54.000000</td>\n",
       "      <td>1707.000000</td>\n",
       "      <td>353.000000</td>\n",
       "      <td>9990.000000</td>\n",
       "      <td>4200.000000</td>\n",
       "      <td>500.000000</td>\n",
       "      <td>1200.000000</td>\n",
       "      <td>75.000000</td>\n",
       "      <td>82.000000</td>\n",
       "      <td>13.600000</td>\n",
       "      <td>21.000000</td>\n",
       "      <td>8377.000000</td>\n",
       "      <td>65.00000</td>\n",
       "    </tr>\n",
       "    <tr>\n",
       "      <th>75%</th>\n",
       "      <td>3624.000000</td>\n",
       "      <td>2424.000000</td>\n",
       "      <td>902.000000</td>\n",
       "      <td>35.000000</td>\n",
       "      <td>69.000000</td>\n",
       "      <td>4005.000000</td>\n",
       "      <td>967.000000</td>\n",
       "      <td>12925.000000</td>\n",
       "      <td>5050.000000</td>\n",
       "      <td>600.000000</td>\n",
       "      <td>1700.000000</td>\n",
       "      <td>85.000000</td>\n",
       "      <td>92.000000</td>\n",
       "      <td>16.500000</td>\n",
       "      <td>31.000000</td>\n",
       "      <td>10830.000000</td>\n",
       "      <td>78.00000</td>\n",
       "    </tr>\n",
       "    <tr>\n",
       "      <th>max</th>\n",
       "      <td>48094.000000</td>\n",
       "      <td>26330.000000</td>\n",
       "      <td>6392.000000</td>\n",
       "      <td>96.000000</td>\n",
       "      <td>100.000000</td>\n",
       "      <td>31643.000000</td>\n",
       "      <td>21836.000000</td>\n",
       "      <td>21700.000000</td>\n",
       "      <td>8124.000000</td>\n",
       "      <td>2340.000000</td>\n",
       "      <td>6800.000000</td>\n",
       "      <td>103.000000</td>\n",
       "      <td>100.000000</td>\n",
       "      <td>39.800000</td>\n",
       "      <td>64.000000</td>\n",
       "      <td>56233.000000</td>\n",
       "      <td>118.00000</td>\n",
       "    </tr>\n",
       "  </tbody>\n",
       "</table>\n",
       "</div>"
      ],
      "text/plain": [
       "               Apps        Accept       Enroll   Top10perc   Top25perc  \\\n",
       "count    777.000000    777.000000   777.000000  777.000000  777.000000   \n",
       "mean    3001.638353   2018.804376   779.972973   27.558559   55.796654   \n",
       "std     3870.201484   2451.113971   929.176190   17.640364   19.804778   \n",
       "min       81.000000     72.000000    35.000000    1.000000    9.000000   \n",
       "25%      776.000000    604.000000   242.000000   15.000000   41.000000   \n",
       "50%     1558.000000   1110.000000   434.000000   23.000000   54.000000   \n",
       "75%     3624.000000   2424.000000   902.000000   35.000000   69.000000   \n",
       "max    48094.000000  26330.000000  6392.000000   96.000000  100.000000   \n",
       "\n",
       "        F.Undergrad   P.Undergrad      Outstate   Room.Board        Books  \\\n",
       "count    777.000000    777.000000    777.000000   777.000000   777.000000   \n",
       "mean    3699.907336    855.298584  10440.669241  4357.526384   549.380952   \n",
       "std     4850.420531   1522.431887   4023.016484  1096.696416   165.105360   \n",
       "min      139.000000      1.000000   2340.000000  1780.000000    96.000000   \n",
       "25%      992.000000     95.000000   7320.000000  3597.000000   470.000000   \n",
       "50%     1707.000000    353.000000   9990.000000  4200.000000   500.000000   \n",
       "75%     4005.000000    967.000000  12925.000000  5050.000000   600.000000   \n",
       "max    31643.000000  21836.000000  21700.000000  8124.000000  2340.000000   \n",
       "\n",
       "          Personal         PhD    Terminal   S.F.Ratio  perc.alumni  \\\n",
       "count   777.000000  777.000000  777.000000  777.000000   777.000000   \n",
       "mean   1340.642214   72.660232   79.702703   14.089704    22.743887   \n",
       "std     677.071454   16.328155   14.722359    3.958349    12.391801   \n",
       "min     250.000000    8.000000   24.000000    2.500000     0.000000   \n",
       "25%     850.000000   62.000000   71.000000   11.500000    13.000000   \n",
       "50%    1200.000000   75.000000   82.000000   13.600000    21.000000   \n",
       "75%    1700.000000   85.000000   92.000000   16.500000    31.000000   \n",
       "max    6800.000000  103.000000  100.000000   39.800000    64.000000   \n",
       "\n",
       "             Expend  Grad.Rate  \n",
       "count    777.000000  777.00000  \n",
       "mean    9660.171171   65.46332  \n",
       "std     5221.768440   17.17771  \n",
       "min     3186.000000   10.00000  \n",
       "25%     6751.000000   53.00000  \n",
       "50%     8377.000000   65.00000  \n",
       "75%    10830.000000   78.00000  \n",
       "max    56233.000000  118.00000  "
      ]
     },
     "execution_count": 1061,
     "metadata": {},
     "output_type": "execute_result"
    }
   ],
   "source": [
    "df.describe()"
   ]
  },
  {
   "cell_type": "code",
   "execution_count": 1062,
   "id": "32053e91",
   "metadata": {},
   "outputs": [
    {
     "name": "stdout",
     "output_type": "stream",
     "text": [
      "<class 'pandas.core.frame.DataFrame'>\n",
      "RangeIndex: 777 entries, 0 to 776\n",
      "Data columns (total 19 columns):\n",
      " #   Column       Non-Null Count  Dtype  \n",
      "---  ------       --------------  -----  \n",
      " 0   Unnamed: 0   777 non-null    object \n",
      " 1   Private      777 non-null    object \n",
      " 2   Apps         777 non-null    int64  \n",
      " 3   Accept       777 non-null    int64  \n",
      " 4   Enroll       777 non-null    int64  \n",
      " 5   Top10perc    777 non-null    int64  \n",
      " 6   Top25perc    777 non-null    int64  \n",
      " 7   F.Undergrad  777 non-null    int64  \n",
      " 8   P.Undergrad  777 non-null    int64  \n",
      " 9   Outstate     777 non-null    int64  \n",
      " 10  Room.Board   777 non-null    int64  \n",
      " 11  Books        777 non-null    int64  \n",
      " 12  Personal     777 non-null    int64  \n",
      " 13  PhD          777 non-null    int64  \n",
      " 14  Terminal     777 non-null    int64  \n",
      " 15  S.F.Ratio    777 non-null    float64\n",
      " 16  perc.alumni  777 non-null    int64  \n",
      " 17  Expend       777 non-null    int64  \n",
      " 18  Grad.Rate    777 non-null    int64  \n",
      "dtypes: float64(1), int64(16), object(2)\n",
      "memory usage: 115.5+ KB\n"
     ]
    }
   ],
   "source": [
    "df.info()"
   ]
  },
  {
   "cell_type": "code",
   "execution_count": 1063,
   "id": "192e9d92",
   "metadata": {},
   "outputs": [],
   "source": [
    "df['Accept.Rate'] = df['Accept'] / df['Apps']"
   ]
  },
  {
   "cell_type": "code",
   "execution_count": 1064,
   "id": "650395f5",
   "metadata": {},
   "outputs": [
    {
     "data": {
      "text/html": [
       "<div>\n",
       "<style scoped>\n",
       "    .dataframe tbody tr th:only-of-type {\n",
       "        vertical-align: middle;\n",
       "    }\n",
       "\n",
       "    .dataframe tbody tr th {\n",
       "        vertical-align: top;\n",
       "    }\n",
       "\n",
       "    .dataframe thead th {\n",
       "        text-align: right;\n",
       "    }\n",
       "</style>\n",
       "<table border=\"1\" class=\"dataframe\">\n",
       "  <thead>\n",
       "    <tr style=\"text-align: right;\">\n",
       "      <th></th>\n",
       "      <th>Unnamed: 0</th>\n",
       "      <th>Private</th>\n",
       "      <th>Apps</th>\n",
       "      <th>Accept</th>\n",
       "      <th>Enroll</th>\n",
       "      <th>Top10perc</th>\n",
       "      <th>Top25perc</th>\n",
       "      <th>F.Undergrad</th>\n",
       "      <th>P.Undergrad</th>\n",
       "      <th>Outstate</th>\n",
       "      <th>Room.Board</th>\n",
       "      <th>Books</th>\n",
       "      <th>Personal</th>\n",
       "      <th>PhD</th>\n",
       "      <th>Terminal</th>\n",
       "      <th>S.F.Ratio</th>\n",
       "      <th>perc.alumni</th>\n",
       "      <th>Expend</th>\n",
       "      <th>Grad.Rate</th>\n",
       "      <th>Accept.Rate</th>\n",
       "    </tr>\n",
       "  </thead>\n",
       "  <tbody>\n",
       "    <tr>\n",
       "      <th>0</th>\n",
       "      <td>Abilene Christian University</td>\n",
       "      <td>Yes</td>\n",
       "      <td>1660</td>\n",
       "      <td>1232</td>\n",
       "      <td>721</td>\n",
       "      <td>23</td>\n",
       "      <td>52</td>\n",
       "      <td>2885</td>\n",
       "      <td>537</td>\n",
       "      <td>7440</td>\n",
       "      <td>3300</td>\n",
       "      <td>450</td>\n",
       "      <td>2200</td>\n",
       "      <td>70</td>\n",
       "      <td>78</td>\n",
       "      <td>18.1</td>\n",
       "      <td>12</td>\n",
       "      <td>7041</td>\n",
       "      <td>60</td>\n",
       "      <td>0.742169</td>\n",
       "    </tr>\n",
       "    <tr>\n",
       "      <th>1</th>\n",
       "      <td>Adelphi University</td>\n",
       "      <td>Yes</td>\n",
       "      <td>2186</td>\n",
       "      <td>1924</td>\n",
       "      <td>512</td>\n",
       "      <td>16</td>\n",
       "      <td>29</td>\n",
       "      <td>2683</td>\n",
       "      <td>1227</td>\n",
       "      <td>12280</td>\n",
       "      <td>6450</td>\n",
       "      <td>750</td>\n",
       "      <td>1500</td>\n",
       "      <td>29</td>\n",
       "      <td>30</td>\n",
       "      <td>12.2</td>\n",
       "      <td>16</td>\n",
       "      <td>10527</td>\n",
       "      <td>56</td>\n",
       "      <td>0.880146</td>\n",
       "    </tr>\n",
       "    <tr>\n",
       "      <th>2</th>\n",
       "      <td>Adrian College</td>\n",
       "      <td>Yes</td>\n",
       "      <td>1428</td>\n",
       "      <td>1097</td>\n",
       "      <td>336</td>\n",
       "      <td>22</td>\n",
       "      <td>50</td>\n",
       "      <td>1036</td>\n",
       "      <td>99</td>\n",
       "      <td>11250</td>\n",
       "      <td>3750</td>\n",
       "      <td>400</td>\n",
       "      <td>1165</td>\n",
       "      <td>53</td>\n",
       "      <td>66</td>\n",
       "      <td>12.9</td>\n",
       "      <td>30</td>\n",
       "      <td>8735</td>\n",
       "      <td>54</td>\n",
       "      <td>0.768207</td>\n",
       "    </tr>\n",
       "    <tr>\n",
       "      <th>3</th>\n",
       "      <td>Agnes Scott College</td>\n",
       "      <td>Yes</td>\n",
       "      <td>417</td>\n",
       "      <td>349</td>\n",
       "      <td>137</td>\n",
       "      <td>60</td>\n",
       "      <td>89</td>\n",
       "      <td>510</td>\n",
       "      <td>63</td>\n",
       "      <td>12960</td>\n",
       "      <td>5450</td>\n",
       "      <td>450</td>\n",
       "      <td>875</td>\n",
       "      <td>92</td>\n",
       "      <td>97</td>\n",
       "      <td>7.7</td>\n",
       "      <td>37</td>\n",
       "      <td>19016</td>\n",
       "      <td>59</td>\n",
       "      <td>0.836930</td>\n",
       "    </tr>\n",
       "    <tr>\n",
       "      <th>4</th>\n",
       "      <td>Alaska Pacific University</td>\n",
       "      <td>Yes</td>\n",
       "      <td>193</td>\n",
       "      <td>146</td>\n",
       "      <td>55</td>\n",
       "      <td>16</td>\n",
       "      <td>44</td>\n",
       "      <td>249</td>\n",
       "      <td>869</td>\n",
       "      <td>7560</td>\n",
       "      <td>4120</td>\n",
       "      <td>800</td>\n",
       "      <td>1500</td>\n",
       "      <td>76</td>\n",
       "      <td>72</td>\n",
       "      <td>11.9</td>\n",
       "      <td>2</td>\n",
       "      <td>10922</td>\n",
       "      <td>15</td>\n",
       "      <td>0.756477</td>\n",
       "    </tr>\n",
       "  </tbody>\n",
       "</table>\n",
       "</div>"
      ],
      "text/plain": [
       "                     Unnamed: 0 Private  Apps  Accept  Enroll  Top10perc  \\\n",
       "0  Abilene Christian University     Yes  1660    1232     721         23   \n",
       "1            Adelphi University     Yes  2186    1924     512         16   \n",
       "2                Adrian College     Yes  1428    1097     336         22   \n",
       "3           Agnes Scott College     Yes   417     349     137         60   \n",
       "4     Alaska Pacific University     Yes   193     146      55         16   \n",
       "\n",
       "   Top25perc  F.Undergrad  P.Undergrad  Outstate  Room.Board  Books  Personal  \\\n",
       "0         52         2885          537      7440        3300    450      2200   \n",
       "1         29         2683         1227     12280        6450    750      1500   \n",
       "2         50         1036           99     11250        3750    400      1165   \n",
       "3         89          510           63     12960        5450    450       875   \n",
       "4         44          249          869      7560        4120    800      1500   \n",
       "\n",
       "   PhD  Terminal  S.F.Ratio  perc.alumni  Expend  Grad.Rate  Accept.Rate  \n",
       "0   70        78       18.1           12    7041         60     0.742169  \n",
       "1   29        30       12.2           16   10527         56     0.880146  \n",
       "2   53        66       12.9           30    8735         54     0.768207  \n",
       "3   92        97        7.7           37   19016         59     0.836930  \n",
       "4   76        72       11.9            2   10922         15     0.756477  "
      ]
     },
     "execution_count": 1064,
     "metadata": {},
     "output_type": "execute_result"
    }
   ],
   "source": [
    "df.head()"
   ]
  },
  {
   "cell_type": "code",
   "execution_count": 1065,
   "id": "56adffde",
   "metadata": {},
   "outputs": [],
   "source": [
    "df = pd.get_dummies(df, columns = ['Private'])"
   ]
  },
  {
   "cell_type": "code",
   "execution_count": 1066,
   "id": "2cb32d56",
   "metadata": {},
   "outputs": [],
   "source": [
    "X = df.drop(['Accept.Rate', 'Apps', 'Accept', 'Unnamed: 0', 'Private_No'], axis = 1)\n",
    "y = df['Accept.Rate']"
   ]
  },
  {
   "cell_type": "code",
   "execution_count": 1067,
   "id": "7fa83c9d",
   "metadata": {},
   "outputs": [],
   "source": [
    "X_train, X_test, y_train, y_test = train_test_split(X, y, random_state = 101, test_size = 0.2)"
   ]
  },
  {
   "cell_type": "code",
   "execution_count": 1068,
   "id": "6af67c87",
   "metadata": {},
   "outputs": [
    {
     "data": {
      "text/plain": [
       "LinearRegression(copy_X=True, fit_intercept=True, n_jobs=None, normalize=False)"
      ]
     },
     "execution_count": 1068,
     "metadata": {},
     "output_type": "execute_result"
    }
   ],
   "source": [
    "model = LinearRegression()\n",
    "model.fit(X_train, y_train)"
   ]
  },
  {
   "cell_type": "code",
   "execution_count": 1069,
   "id": "fdb3ce3b",
   "metadata": {},
   "outputs": [],
   "source": [
    "y_predictions = model.predict(X_test)"
   ]
  },
  {
   "cell_type": "code",
   "execution_count": 1070,
   "id": "a6fb577b",
   "metadata": {},
   "outputs": [],
   "source": [
    "MSE = mean_squared_error(y_test, y_predictions)\n",
    "RMSE = math.sqrt(MSE)"
   ]
  },
  {
   "cell_type": "code",
   "execution_count": 1071,
   "id": "c396eefd",
   "metadata": {},
   "outputs": [
    {
     "name": "stdout",
     "output_type": "stream",
     "text": [
      "The mean squared error (MSE) of Linear Regression in our dataset for the test set is: 0.013753484143004787\n",
      "The root mean squared error (RMSE) of Linear Regression in our dataset for the test set is: 0.11727524949026878\n",
      "The R square value of Linear Regression in our dataset for the test data is 0.4372232476185307\n"
     ]
    }
   ],
   "source": [
    "print(\"The mean squared error (MSE) of Linear Regression in our dataset for the test set is: {}\".format(MSE))\n",
    "print(\"The root mean squared error (RMSE) of Linear Regression in our dataset for the test set is: {}\".format(RMSE))\n",
    "print(\"The R square value of Linear Regression in our dataset for the test data is {}\".format(r2_score(y_test, y_predictions)))"
   ]
  },
  {
   "cell_type": "code",
   "execution_count": 1072,
   "id": "0d642408",
   "metadata": {},
   "outputs": [],
   "source": [
    "X_train, X_cv, y_train, y_cv = train_test_split(X_train, y_train, random_state = 101, test_size = 0.2)"
   ]
  },
  {
   "cell_type": "code",
   "execution_count": 1073,
   "id": "06ec1e28",
   "metadata": {},
   "outputs": [
    {
     "data": {
      "text/plain": [
       "(496, 16)"
      ]
     },
     "execution_count": 1073,
     "metadata": {},
     "output_type": "execute_result"
    }
   ],
   "source": [
    "X_train.shape"
   ]
  },
  {
   "cell_type": "code",
   "execution_count": 1074,
   "id": "36355efe",
   "metadata": {},
   "outputs": [
    {
     "data": {
      "text/plain": [
       "(125, 16)"
      ]
     },
     "execution_count": 1074,
     "metadata": {},
     "output_type": "execute_result"
    }
   ],
   "source": [
    "X_cv.shape"
   ]
  },
  {
   "cell_type": "code",
   "execution_count": 1075,
   "id": "47dd4f75",
   "metadata": {},
   "outputs": [
    {
     "data": {
      "text/plain": [
       "(156, 16)"
      ]
     },
     "execution_count": 1075,
     "metadata": {},
     "output_type": "execute_result"
    }
   ],
   "source": [
    "X_test.shape"
   ]
  },
  {
   "cell_type": "code",
   "execution_count": 1076,
   "id": "951d056d",
   "metadata": {},
   "outputs": [
    {
     "name": "stdout",
     "output_type": "stream",
     "text": [
      "For Lambda = 0.001\n",
      "The mean squared error (MSE) of Ridge Regression (Lambda = 0.001) in our dataset for the cross validation data is: 0.014592414991252727\n",
      "The root mean squared error (RMSE) of Ridge Regression (Lambda = 0.001) in our dataset for the cross validation data is: 0.12079906866881353\n",
      "The R square value of Ridge Regression (Lambda = 0.001) in our dataset for the cross validation data is 0.1846893724647738\n",
      "\n",
      "\n",
      "For Lambda = 0.01\n",
      "The mean squared error (MSE) of Ridge Regression (Lambda = 0.01) in our dataset for the cross validation data is: 0.01459244583261212\n",
      "The root mean squared error (RMSE) of Ridge Regression (Lambda = 0.01) in our dataset for the cross validation data is: 0.12079919632436352\n",
      "The R square value of Ridge Regression (Lambda = 0.01) in our dataset for the cross validation data is 0.1846876492895423\n",
      "\n",
      "\n",
      "For Lambda = 0.02\n",
      "The mean squared error (MSE) of Ridge Regression (Lambda = 0.02) in our dataset for the cross validation data is: 0.01459248012409503\n",
      "The root mean squared error (RMSE) of Ridge Regression (Lambda = 0.02) in our dataset for the cross validation data is: 0.12079933826017024\n",
      "The R square value of Ridge Regression (Lambda = 0.02) in our dataset for the cross validation data is 0.184685733348249\n",
      "\n",
      "\n",
      "For Lambda = 0.09\n",
      "The mean squared error (MSE) of Ridge Regression (Lambda = 0.09) in our dataset for the cross validation data is: 0.01459272084701127\n",
      "The root mean squared error (RMSE) of Ridge Regression (Lambda = 0.09) in our dataset for the cross validation data is: 0.12080033463120568\n",
      "The R square value of Ridge Regression (Lambda = 0.09) in our dataset for the cross validation data is 0.18467228362440147\n",
      "\n",
      "\n",
      "For Lambda = 0.16\n",
      "The mean squared error (MSE) of Ridge Regression (Lambda = 0.16) in our dataset for the cross validation data is: 0.014592962751557702\n",
      "The root mean squared error (RMSE) of Ridge Regression (Lambda = 0.16) in our dataset for the cross validation data is: 0.12080133588482249\n",
      "The R square value of Ridge Regression (Lambda = 0.16) in our dataset for the cross validation data is 0.18465876788025126\n",
      "\n",
      "\n",
      "For Lambda = 0.2\n",
      "The mean squared error (MSE) of Ridge Regression (Lambda = 0.2) in our dataset for the cross validation data is: 0.014593101506410473\n",
      "The root mean squared error (RMSE) of Ridge Regression (Lambda = 0.2) in our dataset for the cross validation data is: 0.12080191019354981\n",
      "The R square value of Ridge Regression (Lambda = 0.2) in our dataset for the cross validation data is 0.18465101533852646\n",
      "\n",
      "\n",
      "For Lambda = 0.25\n",
      "The mean squared error (MSE) of Ridge Regression (Lambda = 0.25) in our dataset for the cross validation data is: 0.014593275479400581\n",
      "The root mean squared error (RMSE) of Ridge Regression (Lambda = 0.25) in our dataset for the cross validation data is: 0.12080263026689685\n",
      "The R square value of Ridge Regression (Lambda = 0.25) in our dataset for the cross validation data is 0.1846412950812678\n",
      "\n",
      "\n"
     ]
    }
   ],
   "source": [
    "lambda_values = [0.001, 0.01, 0.02, 0.09, 0.16, 0.20, 0.25]\n",
    "MSE_list = []\n",
    "for i in lambda_values:\n",
    "    model = Ridge(alpha = i)\n",
    "    model.fit(X_train, y_train)\n",
    "    y_predictions = model.predict(X_cv)\n",
    "    MSE = mean_squared_error(y_cv, y_predictions)\n",
    "    MSE_list.append(MSE)\n",
    "    RMSE = math.sqrt(MSE)\n",
    "    print(\"For Lambda = {}\".format(i))\n",
    "    print(\"The mean squared error (MSE) of Ridge Regression (Lambda = {}) in our dataset for the cross validation data is: {}\".format(i, MSE))\n",
    "    print(\"The root mean squared error (RMSE) of Ridge Regression (Lambda = {}) in our dataset for the cross validation data is: {}\".format(i, RMSE))\n",
    "    print(\"The R square value of Ridge Regression (Lambda = {}) in our dataset for the cross validation data is {}\".format(i, r2_score(y_cv, y_predictions)))\n",
    "    print(\"\\n\")"
   ]
  },
  {
   "cell_type": "code",
   "execution_count": 1077,
   "id": "a57643d8",
   "metadata": {},
   "outputs": [],
   "source": [
    "def plot_function(x, y, figsize = (5, 5), font_size = 10, color = 'green', parameter = 'Lambda'):\n",
    "    figure(figsize = (10, 5), dpi = 100)\n",
    "    plt.plot(x, y, color = color)\n",
    "    if parameter == 'Lambda':\n",
    "        plt.xlabel('Lambda values', fontsize = font_size)\n",
    "        plt.ylabel('Mean Squared Error (MSE)', fontsize = font_size)\n",
    "        plt.title('Mean Squared Error Vs Lambda Values')\n",
    "        plt.show()\n",
    "    elif parameter == 'Number of Components':\n",
    "        plt.xlabel('Number of Components', fontsize = font_size)\n",
    "        plt.ylabel('Mean Squared Error (MSE)', fontsize = font_size)\n",
    "        plt.title('Mean Squared Error Vs Number of Components')\n",
    "        plt.show()"
   ]
  },
  {
   "cell_type": "code",
   "execution_count": 1078,
   "id": "0c5b6493",
   "metadata": {},
   "outputs": [
    {
     "data": {
      "image/png": "[encoded data removed]",
      "text/plain": [
       "<Figure size 1000x500 with 1 Axes>"
      ]
     },
     "metadata": {
      "needs_background": "light"
     },
     "output_type": "display_data"
    }
   ],
   "source": [
    "plot_function(lambda_values, MSE_list, color = 'red')"
   ]
  },
  {
   "cell_type": "markdown",
   "id": "85b18cd8",
   "metadata": {},
   "source": [
    "<font size = \"4\">Therefore, the best value of <b>lambda</b> based on the results above is <b>0.001</b></font>"
   ]
  },
  {
   "cell_type": "code",
   "execution_count": 1079,
   "id": "45e5605a",
   "metadata": {},
   "outputs": [],
   "source": [
    "best_lambda = 0.001"
   ]
  },
  {
   "cell_type": "code",
   "execution_count": 1080,
   "id": "a9145e31",
   "metadata": {},
   "outputs": [
    {
     "data": {
      "text/plain": [
       "Ridge(alpha=0.001, copy_X=True, fit_intercept=True, max_iter=None,\n",
       "      normalize=False, random_state=None, solver='auto', tol=0.001)"
      ]
     },
     "execution_count": 1080,
     "metadata": {},
     "output_type": "execute_result"
    }
   ],
   "source": [
    "model = Ridge(alpha = best_lambda)\n",
    "model.fit(X_train, y_train)"
   ]
  },
  {
   "cell_type": "code",
   "execution_count": 1081,
   "id": "b51fb879",
   "metadata": {},
   "outputs": [],
   "source": [
    "y_predictions = model.predict(X_test)"
   ]
  },
  {
   "cell_type": "code",
   "execution_count": 1082,
   "id": "9aab9595",
   "metadata": {},
   "outputs": [],
   "source": [
    "MSE = mean_squared_error(y_test, y_predictions)\n",
    "RMSE = math.sqrt(MSE)"
   ]
  },
  {
   "cell_type": "code",
   "execution_count": 1083,
   "id": "e7474029",
   "metadata": {},
   "outputs": [
    {
     "name": "stdout",
     "output_type": "stream",
     "text": [
      "The mean squared error (MSE) of Ridge Regression in our dataset for the test set is: 0.013492379676134916\n",
      "The root mean squared error (RMSE) of Ridge Regression in our dataset for the test set is: 0.11615670310462034\n",
      "The R square value of Ridge Regression in our dataset for the test data is 0.4479073420901166\n"
     ]
    }
   ],
   "source": [
    "print(\"The mean squared error (MSE) of Ridge Regression in our dataset for the test set is: {}\".format(MSE))\n",
    "print(\"The root mean squared error (RMSE) of Ridge Regression in our dataset for the test set is: {}\".format(RMSE))\n",
    "print(\"The R square value of Ridge Regression in our dataset for the test data is {}\".format(r2_score(y_test, y_predictions)))"
   ]
  },
  {
   "cell_type": "code",
   "execution_count": 1084,
   "id": "60a9416a",
   "metadata": {},
   "outputs": [
    {
     "name": "stdout",
     "output_type": "stream",
     "text": [
      "For Lambda = 0.01\n",
      "The mean squared error (MSE) of Lasso Regression (Lambda = 0.01) in our dataset for the cross validation is: 0.01508012493561733\n",
      "The root mean squared error (RMSE) of Lasso Regression (Lambda = 0.01) in our dataset for the cross validation is: 0.12280116015582805\n",
      "The R square value of Lasso Regression (Lambda = 0.01) in our dataset for the cross validation is 0.15743993492935338\n",
      "\n",
      "\n",
      "For Lambda = 0.02\n",
      "The mean squared error (MSE) of Lasso Regression (Lambda = 0.02) in our dataset for the cross validation is: 0.015170139203271454\n",
      "The root mean squared error (RMSE) of Lasso Regression (Lambda = 0.02) in our dataset for the cross validation is: 0.12316711900207561\n",
      "The R square value of Lasso Regression (Lambda = 0.02) in our dataset for the cross validation is 0.15241063792181897\n",
      "\n",
      "\n",
      "For Lambda = 0.09\n",
      "The mean squared error (MSE) of Lasso Regression (Lambda = 0.09) in our dataset for the cross validation is: 0.01595328766268493\n",
      "The root mean squared error (RMSE) of Lasso Regression (Lambda = 0.09) in our dataset for the cross validation is: 0.12630632471370914\n",
      "The R square value of Lasso Regression (Lambda = 0.09) in our dataset for the cross validation is 0.10865439453918513\n",
      "\n",
      "\n",
      "For Lambda = 0.16\n",
      "The mean squared error (MSE) of Lasso Regression (Lambda = 0.16) in our dataset for the cross validation is: 0.01642636734872403\n",
      "The root mean squared error (RMSE) of Lasso Regression (Lambda = 0.16) in our dataset for the cross validation is: 0.1281653906041878\n",
      "The R square value of Lasso Regression (Lambda = 0.16) in our dataset for the cross validation is 0.08222238202241461\n",
      "\n",
      "\n",
      "For Lambda = 0.2\n",
      "The mean squared error (MSE) of Lasso Regression (Lambda = 0.2) in our dataset for the cross validation is: 0.016741925781571177\n",
      "The root mean squared error (RMSE) of Lasso Regression (Lambda = 0.2) in our dataset for the cross validation is: 0.12939059386822202\n",
      "The R square value of Lasso Regression (Lambda = 0.2) in our dataset for the cross validation is 0.06459143169220105\n",
      "\n",
      "\n",
      "For Lambda = 0.25\n",
      "The mean squared error (MSE) of Lasso Regression (Lambda = 0.25) in our dataset for the cross validation is: 0.017149272272992927\n",
      "The root mean squared error (RMSE) of Lasso Regression (Lambda = 0.25) in our dataset for the cross validation is: 0.13095523003298848\n",
      "The R square value of Lasso Regression (Lambda = 0.25) in our dataset for the cross validation is 0.04183207871708183\n",
      "\n",
      "\n"
     ]
    }
   ],
   "source": [
    "lambda_values = [0.01, 0.02, 0.09, 0.16, 0.20, 0.25]\n",
    "MSE_list = []\n",
    "for i in lambda_values:\n",
    "    model = Lasso(alpha = i)\n",
    "    model.fit(X_train, y_train)\n",
    "    y_predictions = model.predict(X_cv)\n",
    "    MSE = mean_squared_error(y_cv, y_predictions)\n",
    "    MSE_list.append(MSE)\n",
    "    RMSE = math.sqrt(MSE)\n",
    "    print(\"For Lambda = {}\".format(i))\n",
    "    print(\"The mean squared error (MSE) of Lasso Regression (Lambda = {}) in our dataset for the cross validation is: {}\".format(i, MSE))\n",
    "    print(\"The root mean squared error (RMSE) of Lasso Regression (Lambda = {}) in our dataset for the cross validation is: {}\".format(i, RMSE))\n",
    "    print(\"The R square value of Lasso Regression (Lambda = {}) in our dataset for the cross validation is {}\".format(i, r2_score(y_cv, y_predictions)))\n",
    "    print(\"\\n\")"
   ]
  },
  {
   "cell_type": "code",
   "execution_count": 1085,
   "id": "170b247d",
   "metadata": {},
   "outputs": [
    {
     "data": {
      "image/png": "[encoded data removed]",
      "text/plain": [
       "<Figure size 1000x500 with 1 Axes>"
      ]
     },
     "metadata": {
      "needs_background": "light"
     },
     "output_type": "display_data"
    }
   ],
   "source": [
    "plot_function(lambda_values, MSE_list, color = 'green')"
   ]
  },
  {
   "cell_type": "markdown",
   "id": "1fac407d",
   "metadata": {},
   "source": [
    "<font size = \"4\">Therefore, the best value of <b>lambda</b> based on the results above is <b>0.005</b></font>"
   ]
  },
  {
   "cell_type": "code",
   "execution_count": 1086,
   "id": "d09f5af4",
   "metadata": {},
   "outputs": [],
   "source": [
    "best_lambda = 0.01"
   ]
  },
  {
   "cell_type": "code",
   "execution_count": 1087,
   "id": "c60a9071",
   "metadata": {},
   "outputs": [
    {
     "data": {
      "text/plain": [
       "Lasso(alpha=0.01, copy_X=True, fit_intercept=True, max_iter=1000,\n",
       "      normalize=False, positive=False, precompute=False, random_state=None,\n",
       "      selection='cyclic', tol=0.0001, warm_start=False)"
      ]
     },
     "execution_count": 1087,
     "metadata": {},
     "output_type": "execute_result"
    }
   ],
   "source": [
    "model = Lasso(alpha = best_lambda)\n",
    "model.fit(X_train, y_train)"
   ]
  },
  {
   "cell_type": "code",
   "execution_count": 1088,
   "id": "c15ee542",
   "metadata": {},
   "outputs": [],
   "source": [
    "y_predictions = model.predict(X_test)"
   ]
  },
  {
   "cell_type": "code",
   "execution_count": 1089,
   "id": "76cb6211",
   "metadata": {},
   "outputs": [],
   "source": [
    "MSE = mean_squared_error(y_test, y_predictions)\n",
    "RMSE = math.sqrt(MSE)"
   ]
  },
  {
   "cell_type": "code",
   "execution_count": 1090,
   "id": "c4fb5a6a",
   "metadata": {},
   "outputs": [
    {
     "name": "stdout",
     "output_type": "stream",
     "text": [
      "The mean squared error (MSE) of Lasso Regression in our dataset for the test set is: 0.01422136401732807\n",
      "The root mean squared error (RMSE) of Lasso Regression in our dataset for the test set is: 0.11925336061230338\n",
      "The R square value of Lasso Regression in our dataset for the test data is 0.4180781412993999\n"
     ]
    }
   ],
   "source": [
    "print(\"The mean squared error (MSE) of Lasso Regression in our dataset for the test set is: {}\".format(MSE))\n",
    "print(\"The root mean squared error (RMSE) of Lasso Regression in our dataset for the test set is: {}\".format(RMSE))\n",
    "print(\"The R square value of Lasso Regression in our dataset for the test data is {}\".format(r2_score(y_test, y_predictions)))"
   ]
  },
  {
   "cell_type": "code",
   "execution_count": 1091,
   "id": "d07b8fa6",
   "metadata": {},
   "outputs": [
    {
     "data": {
      "text/plain": [
       "array([ 2.14801754e-05, -2.54815605e-03, -1.69595196e-04, -2.19025596e-06,\n",
       "       -1.15733100e-05,  5.24853681e-06, -1.92628262e-05, -8.15490686e-05,\n",
       "        2.35645593e-07, -3.56221737e-04, -0.00000000e+00, -4.42229147e-03,\n",
       "        8.05169960e-04, -7.53983648e-06, -1.08656856e-03,  0.00000000e+00])"
      ]
     },
     "execution_count": 1091,
     "metadata": {},
     "output_type": "execute_result"
    }
   ],
   "source": [
    "model.coef_"
   ]
  },
  {
   "cell_type": "markdown",
   "id": "023ed60b",
   "metadata": {},
   "source": [
    "From the above, there are 2 zero coefficients."
   ]
  },
  {
   "cell_type": "markdown",
   "id": "451a5f22",
   "metadata": {},
   "source": [
    "The number of non-zero coefficients in <b>lasso regression is 14 </b>respectively."
   ]
  },
  {
   "cell_type": "code",
   "execution_count": 1092,
   "id": "dca799e8",
   "metadata": {},
   "outputs": [
    {
     "name": "stdout",
     "output_type": "stream",
     "text": [
      "For Principle Components = 1\n",
      "The mean squared error (MSE) of Linear Regression in our dataset for the cross validation data is: 0.020254583562528468\n",
      "The root mean squared error (RMSE) of Linear Regression in our dataset for the cross validation data is: 0.14231859879344114\n",
      "The R square value of Lasso Regression Linear Regression in our dataset for the cross vallidation data is -0.13166855827008583\n",
      "\n",
      "\n",
      "For Principle Components = 2\n",
      "The mean squared error (MSE) of Linear Regression in our dataset for the cross validation data is: 0.020158054196910812\n",
      "The root mean squared error (RMSE) of Linear Regression in our dataset for the cross validation data is: 0.14197906253004636\n",
      "The R square value of Lasso Regression Linear Regression in our dataset for the cross vallidation data is -0.1262752482727698\n",
      "\n",
      "\n",
      "For Principle Components = 3\n",
      "The mean squared error (MSE) of Linear Regression in our dataset for the cross validation data is: 0.020057959071029148\n",
      "The root mean squared error (RMSE) of Linear Regression in our dataset for the cross validation data is: 0.14162612425336346\n",
      "The R square value of Lasso Regression Linear Regression in our dataset for the cross vallidation data is -0.12068271133185116\n",
      "\n",
      "\n",
      "For Principle Components = 5\n",
      "The mean squared error (MSE) of Linear Regression in our dataset for the cross validation data is: 0.019103776880477263\n",
      "The root mean squared error (RMSE) of Linear Regression in our dataset for the cross validation data is: 0.1382164132094205\n",
      "The R square value of Lasso Regression Linear Regression in our dataset for the cross vallidation data is -0.0673704336157821\n",
      "\n",
      "\n",
      "For Principle Components = 10\n",
      "The mean squared error (MSE) of Linear Regression in our dataset for the cross validation data is: 0.01581214094118607\n",
      "The root mean squared error (RMSE) of Linear Regression in our dataset for the cross validation data is: 0.12574633569685467\n",
      "The R square value of Lasso Regression Linear Regression in our dataset for the cross vallidation data is 0.11654057528094453\n",
      "\n",
      "\n",
      "For Principle Components = 15\n",
      "The mean squared error (MSE) of Linear Regression in our dataset for the cross validation data is: 0.015031033193989822\n",
      "The root mean squared error (RMSE) of Linear Regression in our dataset for the cross validation data is: 0.12260111416292195\n",
      "The R square value of Lasso Regression Linear Regression in our dataset for the cross vallidation data is 0.16018279954066772\n",
      "\n",
      "\n",
      "For Principle Components = 16\n",
      "The mean squared error (MSE) of Linear Regression in our dataset for the cross validation data is: 0.014592411565663177\n",
      "The root mean squared error (RMSE) of Linear Regression in our dataset for the cross validation data is: 0.12079905448993869\n",
      "The R square value of Lasso Regression Linear Regression in our dataset for the cross vallidation data is 0.1846895638600684\n",
      "\n",
      "\n"
     ]
    }
   ],
   "source": [
    "number_of_components = [1, 2, 3, 5, 10, 15, 16]\n",
    "MSE_list = []\n",
    "for i in number_of_components:\n",
    "    PCA_model = PCA(n_components = i)\n",
    "    PCA_model.fit(X_train)\n",
    "    reduced_features_train = PCA_model.transform(X_train)\n",
    "    reduced_features_cv = PCA_model.transform(X_cv)\n",
    "    model = LinearRegression()\n",
    "    model.fit(reduced_features_train, y_train)\n",
    "    y_predictions = model.predict(reduced_features_cv)\n",
    "    MSE = mean_squared_error(y_cv, y_predictions)\n",
    "    MSE_list.append(MSE)\n",
    "    RMSE = math.sqrt(MSE)\n",
    "    print(\"For Principle Components = {}\".format(i))\n",
    "    print(\"The mean squared error (MSE) of Linear Regression in our dataset for the cross validation data is: {}\".format(MSE))\n",
    "    print(\"The root mean squared error (RMSE) of Linear Regression in our dataset for the cross validation data is: {}\".format(RMSE))\n",
    "    print(\"The R square value of Lasso Regression Linear Regression in our dataset for the cross vallidation data is {}\".format(r2_score(y_cv, y_predictions)))\n",
    "    print(\"\\n\")"
   ]
  },
  {
   "cell_type": "code",
   "execution_count": 1093,
   "id": "49aaef7b",
   "metadata": {},
   "outputs": [
    {
     "data": {
      "image/png": "[encoded data removed]",
      "text/plain": [
       "<Figure size 1000x500 with 1 Axes>"
      ]
     },
     "metadata": {
      "needs_background": "light"
     },
     "output_type": "display_data"
    }
   ],
   "source": [
    "plot_function(number_of_components, MSE_list, color = 'orange', parameter = 'Number of Components')"
   ]
  },
  {
   "cell_type": "markdown",
   "id": "fa82a013",
   "metadata": {},
   "source": [
    "<font size = \"4\">Therefore, the best value of the <b>Number of Components is 10</b> as this is significantly reducing the <b>Mean Squared error</b> and capturing most of the information.</font>"
   ]
  },
  {
   "cell_type": "code",
   "execution_count": 1094,
   "id": "62b2f402",
   "metadata": {},
   "outputs": [],
   "source": [
    "best_number_of_components = 10"
   ]
  },
  {
   "cell_type": "code",
   "execution_count": 1102,
   "id": "4adb9dea",
   "metadata": {},
   "outputs": [
    {
     "name": "stdout",
     "output_type": "stream",
     "text": [
      "For Principle Components = 3\n",
      "The mean squared error (MSE) of Linear Regression in our dataset for the test set is: 0.017247278275164816\n",
      "The root mean squared error (RMSE) of Linear Regression in our dataset for the test set is: 0.1313288935275281\n",
      "The R square value of Linear Regression in our dataset for the test data is: 0.29426121016371576\n"
     ]
    }
   ],
   "source": [
    "PCA_model = PCA(n_components = best_number_of_components)\n",
    "PCA_model.fit(X_train)\n",
    "reduced_features_train = PCA_model.transform(X_train)\n",
    "reduced_features_test = PCA_model.transform(X_test)\n",
    "model = LinearRegression()\n",
    "model.fit(reduced_features_train, y_train)\n",
    "y_predictions = model.predict(reduced_features_test)\n",
    "MSE = mean_squared_error(y_test, y_predictions)\n",
    "MSE_list.append(MSE)\n",
    "RMSE = math.sqrt(MSE)\n",
    "print(\"For Principle Components = {}\".format(best_number_of_components))\n",
    "print(\"The mean squared error (MSE) of Linear Regression in our dataset for the test set is: {}\".format(MSE))\n",
    "print(\"The root mean squared error (RMSE) of Linear Regression in our dataset for the test set is: {}\".format(RMSE))\n",
    "print(\"The R square value of Linear Regression in our dataset for the test data is: {}\".format(r2_score(y_test, y_predictions)))"
   ]
  },
  {
   "cell_type": "code",
   "execution_count": 1103,
   "id": "b3138b0d",
   "metadata": {},
   "outputs": [
    {
     "name": "stdout",
     "output_type": "stream",
     "text": [
      "For Number of Components = 1\n",
      "The mean squared error (MSE) of PLS Regression in our dataset for the cross validation data is: 0.0180391795007697\n",
      "The root mean squared error (RMSE) of PLS Regression in our dataset for the cross validation data is: 0.13431001266015016\n",
      "The R square value of PLS Regression in our dataset for the cross validation is: -0.00788901410831655\n",
      "\n",
      "\n",
      "For Number of Components = 2\n",
      "The mean squared error (MSE) of PLS Regression in our dataset for the cross validation data is: 0.01684404179317435\n",
      "The root mean squared error (RMSE) of PLS Regression in our dataset for the cross validation data is: 0.12978459767312278\n",
      "The R square value of PLS Regression in our dataset for the cross validation is: 0.05888598337871187\n",
      "\n",
      "\n",
      "For Number of Components = 3\n",
      "The mean squared error (MSE) of PLS Regression in our dataset for the cross validation data is: 0.014800750219482064\n",
      "The root mean squared error (RMSE) of PLS Regression in our dataset for the cross validation data is: 0.12165833394996853\n",
      "The R square value of PLS Regression in our dataset for the cross validation is: 0.17304922066213024\n",
      "\n",
      "\n",
      "For Number of Components = 5\n",
      "The mean squared error (MSE) of PLS Regression in our dataset for the cross validation data is: 0.01468602515322793\n",
      "The root mean squared error (RMSE) of PLS Regression in our dataset for the cross validation data is: 0.12118591152946753\n",
      "The R square value of PLS Regression in our dataset for the cross validation is: 0.17945916485695657\n",
      "\n",
      "\n",
      "For Number of Components = 10\n",
      "The mean squared error (MSE) of PLS Regression in our dataset for the cross validation data is: 0.014609781444633027\n",
      "The root mean squared error (RMSE) of PLS Regression in our dataset for the cross validation data is: 0.12087092886477305\n",
      "The R square value of PLS Regression in our dataset for the cross validation is: 0.18371907015278222\n",
      "\n",
      "\n",
      "For Number of Components = 15\n",
      "The mean squared error (MSE) of PLS Regression in our dataset for the cross validation data is: 0.014592415379922702\n",
      "The root mean squared error (RMSE) of PLS Regression in our dataset for the cross validation data is: 0.12079907027755926\n",
      "The R square value of PLS Regression in our dataset for the cross validation is: 0.18468935074891935\n",
      "\n",
      "\n",
      "For Number of Components = 16\n",
      "The mean squared error (MSE) of PLS Regression in our dataset for the cross validation data is: 0.014592411565663396\n",
      "The root mean squared error (RMSE) of PLS Regression in our dataset for the cross validation data is: 0.12079905448993959\n",
      "The R square value of PLS Regression in our dataset for the cross validation is: 0.1846895638600562\n",
      "\n",
      "\n"
     ]
    }
   ],
   "source": [
    "number_of_components = [1, 2, 3, 5, 10, 15, 16]\n",
    "MSE_list = []\n",
    "for i in number_of_components:\n",
    "    model = PLSRegression(n_components = i)\n",
    "    model.fit(X_train, y_train)\n",
    "    y_predictions = model.predict(X_cv)\n",
    "    MSE = mean_squared_error(y_cv, y_predictions)\n",
    "    MSE_list.append(MSE)\n",
    "    RMSE = math.sqrt(MSE)\n",
    "    print(\"For Number of Components = {}\".format(i))\n",
    "    print(\"The mean squared error (MSE) of PLS Regression in our dataset for the cross validation data is: {}\".format(MSE))\n",
    "    print(\"The root mean squared error (RMSE) of PLS Regression in our dataset for the cross validation data is: {}\".format(RMSE))\n",
    "    print(\"The R square value of PLS Regression in our dataset for the cross validation is: {}\".format(r2_score(y_cv, y_predictions)))\n",
    "    print(\"\\n\")"
   ]
  },
  {
   "cell_type": "code",
   "execution_count": 1104,
   "id": "97c907c0",
   "metadata": {},
   "outputs": [
    {
     "data": {
      "image/png": "[encoded data removed]",
      "text/plain": [
       "<Figure size 1000x500 with 1 Axes>"
      ]
     },
     "metadata": {
      "needs_background": "light"
     },
     "output_type": "display_data"
    }
   ],
   "source": [
    "plot_function(number_of_components, MSE_list, color = 'violet', parameter = 'Number of Components')"
   ]
  },
  {
   "cell_type": "markdown",
   "id": "8f537b46",
   "metadata": {},
   "source": [
    "<font size = \"4\">Therefore, the best value of the <b>Number of Components is 3</b> as this is significantly reducing the <b>Mean Squared error</b> and capturing most of the information.</font>"
   ]
  },
  {
   "cell_type": "code",
   "execution_count": 1098,
   "id": "206ae657",
   "metadata": {},
   "outputs": [],
   "source": [
    "best_number_of_components = 3"
   ]
  },
  {
   "cell_type": "code",
   "execution_count": 1100,
   "id": "7c4124db",
   "metadata": {},
   "outputs": [
    {
     "name": "stdout",
     "output_type": "stream",
     "text": [
      "For Number of Components = 3\n",
      "The mean squared error (MSE) of PLS Regression in our dataset for the test set is: 0.014214239787954894\n",
      "The root mean squared error (RMSE) of PLS Regression in our dataset for the test set is: 0.11922348672956555\n",
      "The R square value of PLS Regression in our dataset for the test data is: 0.4183696565713243\n"
     ]
    }
   ],
   "source": [
    "model = PLSRegression(n_components = best_number_of_components)\n",
    "model.fit(X_train, y_train)\n",
    "y_predictions = model.predict(X_test)\n",
    "MSE = mean_squared_error(y_test, y_predictions)\n",
    "MSE_list.append(MSE)\n",
    "RMSE = math.sqrt(MSE)\n",
    "print(\"For Number of Components = {}\".format(best_number_of_components))\n",
    "print(\"The mean squared error (MSE) of PLS Regression in our dataset for the test set is: {}\".format(MSE))\n",
    "print(\"The root mean squared error (RMSE) of PLS Regression in our dataset for the test set is: {}\".format(RMSE))\n",
    "print(\"The R square value of PLS Regression in our dataset for the test data is: {}\".format(r2_score(y_test, y_predictions)))"
   ]
  },
  {
   "cell_type": "code",
   "execution_count": null,
   "id": "b873e8d3",
   "metadata": {},
   "outputs": [],
   "source": []
  }
 ],
 "metadata": {
  "kernelspec": {
   "display_name": "Python 3",
   "language": "python",
   "name": "python3"
  },
  "language_info": {
   "codemirror_mode": {
    "name": "ipython",
    "version": 3
   },
   "file_extension": ".py",
   "mimetype": "text/x-python",
   "name": "python",
   "nbconvert_exporter": "python",
   "pygments_lexer": "ipython3",
   "version": "3.7.10"
  }
 },
 "nbformat": 4,
 "nbformat_minor": 5
}
